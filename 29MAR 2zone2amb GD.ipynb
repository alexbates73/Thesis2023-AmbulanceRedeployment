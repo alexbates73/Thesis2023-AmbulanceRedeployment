{
 "cells": [
  {
   "cell_type": "code",
   "execution_count": 2,
   "id": "6ac16505-1c84-415c-98f4-54118500583d",
   "metadata": {},
   "outputs": [
    {
     "data": {
      "text/plain": [
       "1640-element Vector{Int64}:\n",
       "    1\n",
       "    2\n",
       "    3\n",
       "    4\n",
       "    5\n",
       "    6\n",
       "    7\n",
       "    8\n",
       "    9\n",
       "   10\n",
       "   11\n",
       "   12\n",
       "   13\n",
       "    ⋮\n",
       " 1629\n",
       " 1630\n",
       " 1631\n",
       " 1632\n",
       " 1633\n",
       " 1634\n",
       " 1635\n",
       " 1636\n",
       " 1637\n",
       " 1638\n",
       " 1639\n",
       " 1640"
      ]
     },
     "execution_count": 2,
     "metadata": {},
     "output_type": "execute_result"
    }
   ],
   "source": [
    "max1demand=11   #use 1 more than actual demand\n",
    "max2demand=11    #use 1 more than actual demand\n",
    "sparti=[]  #start with null\n",
    "spartj=[]  #start with null\n",
    "spartk=[]  #start with null\n",
    "spartl=[]  #start with null\n",
    "spartm=[]\n",
    "spartn=[]\n",
    "sidx=[]    #start with null\n",
    "s=1        #start number for loop\n",
    "for i in 1:4          #Create an index to call\n",
    "    for j in 1:4\n",
    "        for k in 1:max1demand\n",
    "            for l in 1:max2demand\n",
    "                for m in 1:2\n",
    "                    for n in 1:2\n",
    "          #statei(i+1) = s\n",
    "            sparti = push!(sparti,i)  #for i in ijkl add to sparti definition\n",
    "            spartj = push!(spartj,j) #for j in ijkl add to spartj definition\n",
    "            spartk = push!(spartk,k) #for k in ijkl add to spartk definition\n",
    "            spartl = push!(spartl,l) #for l in ijkl add to spartl definition\n",
    "            spartm = push!(spartm,m) #for m in ijkl add to spartl definition\n",
    "            spartn = push!(spartn,n) #for n in ijkl add to spartl definition            \n",
    "            sidx= push!(sidx,s)      #create index in sidx\n",
    "            s=s+1\n",
    "                    end \n",
    "                end\n",
    "            end\n",
    "        end\n",
    "    end\n",
    "end\n",
    "\n",
    "#sparti\n",
    "#spartj\n",
    "#spartk\n",
    "#[sparti,spartj,spartk]\n",
    "#sidx\n",
    "\n",
    "#idxactive=  (sparti.>=4) .& (spartj+spartk+spartl.==3) ##(Wrapped into regional indices)\n",
    "idxidle= (sparti.<3) .& (spartj.<3) .& (spartk+spartl .>2)   #index all ijkl where idling cannot occur\n",
    "idxidle2= (sparti.>=3) .& (spartj.<3) .& (spartk+spartl .>3) #index where more than 2 calls exist but ambulance 2 is not busy\n",
    "idxidle1= (spartj.>=3) .& (sparti.<3) .& (spartk+spartl .>3) #index where more than 2 calls exist but ambulance 1 is not busy\n",
    "idxregion1= ((sparti.==3) .| (spartj.==3)) .& (spartk.==1)      #index all ijkl where region 1 is active but there are no calls in region 1 to service\n",
    "idxregion2= ((sparti.==4) .| (spartj.==4)) .& (spartl.==1)      #index all ijkl where region 2 is active but there are no calls in region 2 to service\n",
    "idxregion11= ((sparti.==3) .& (spartj.==3)) .& (spartk.==2)      #index all ijkl where region 1 is active with both ambulances but there is only 1 call in region 1 to service\n",
    "idxregion21= ((sparti.==4) .& (spartj.==4)) .& (spartl.==2)      #index all ijkl where region 2 is active with both ambulances but there is only 1 call in region 2 to service\n",
    "\n",
    "\n",
    "idxDEL=idxidle .| idxregion1 .| idxregion2 .| idxidle1  .| idxidle2 .| idxregion11 .| idxregion21 #index of the previous 3 indices\n",
    "\n",
    "deleteat!(sparti, BitArray(idxDEL)) #delete idxDEL\n",
    "deleteat!(spartj, BitArray(idxDEL)) #delete idxDEL\n",
    "deleteat!(spartk, BitArray(idxDEL)) #delete idxDEL\n",
    "deleteat!(spartl, BitArray(idxDEL)) #delete idxDEL\n",
    "deleteat!(spartm, BitArray(idxDEL)) #delete idxDEL\n",
    "deleteat!(spartn, BitArray(idxDEL)) #delete idxDEL  \n",
    "sidx= [1:length(sparti);]       #number of states"
   ]
  },
  {
   "cell_type": "code",
   "execution_count": 3,
   "id": "1ada1592-1651-4a78-a060-cc32b9378341",
   "metadata": {},
   "outputs": [
    {
     "data": {
      "text/plain": [
       "1640×1 Matrix{Float64}:\n",
       " 0.0\n",
       " 0.0\n",
       " 0.0\n",
       " 0.0\n",
       " 0.0\n",
       " 0.0\n",
       " 0.0\n",
       " 0.0\n",
       " 0.0\n",
       " 0.0\n",
       " 0.0\n",
       " 0.0\n",
       " 0.0\n",
       " ⋮\n",
       " 0.0\n",
       " 0.0\n",
       " 0.0\n",
       " 0.0\n",
       " 0.0\n",
       " 0.0\n",
       " 0.0\n",
       " 0.0\n",
       " 0.0\n",
       " 0.0\n",
       " 0.0\n",
       " 0.0"
      ]
     },
     "execution_count": 3,
     "metadata": {},
     "output_type": "execute_result"
    }
   ],
   "source": [
    "μMat= zeros(length(sidx),1)"
   ]
  },
  {
   "cell_type": "code",
   "execution_count": 4,
   "id": "e12ac549-ba62-4aab-b330-da42c3c1eeac",
   "metadata": {},
   "outputs": [],
   "source": [
    "#Add Arrival Code\n",
    "λst=.5  #Define overall Arrival Rate for every zone\n",
    "#λ1=.5  #Define Arrival Rate for Zone1\n",
    "#λ2=.5  #Define Arrival Rate for Zone2                \n",
    "μMatr=[1.5 1; \n",
    "        1 1.5]\n",
    "# μ11=1  #Define Service Rate from Zone1 to Zone1\n",
    "# μ12=.7 #Define Service Rate from Zone1 to Zone2\n",
    "# μ21=.7 #Define Service Rate from Zone2 to Zone1\n",
    "# μ22=1  #Define Service Rate from Zone2 to Zone2\n",
    "matrix= zeros(length(sidx),length(sidx))\n",
    "μ1idx=zeros(length(sidx))\n",
    "μ2idx=zeros(length(sidx))\n",
    "λ1idx=zeros(length(sidx))\n",
    "λ2idx=zeros(length(sidx))\n",
    "using LinearAlgebra\n"
   ]
  },
  {
   "cell_type": "code",
   "execution_count": 11,
   "id": "7f76e795-5482-48f2-83cb-d56a9a931cf1",
   "metadata": {
    "tags": []
   },
   "outputs": [],
   "source": [
    "N=[\"λ\" \"μ1\" \"μ2\" \"Throughput\" \"Deliveries/Hour\" \"Avg. # in Sys\" \"Variance\" \"Avg. Time in Sys\" \"% of Time 0 calls\" \"% of Time 1 call\" \"% of Time 2 Call\" \"Compliance Rate\"]\n",
    "μ1=5.5\n",
    "λst=0 #Define overall Arrival Rate for every zone\n",
    "\n",
    "\n",
    "for i in 1:1\n",
    "     λst= .5\n",
    "     μ1=2.75\n",
    "  for j in 1:8\n",
    "      μ1=μ1-.25\n",
    "\n",
    "μ2=.9*μ1\n",
    "μMatr=[μ1 μ2; \n",
    "       μ2 μ1]\n",
    "matrix= zeros(length(sidx),length(sidx))\n",
    "λ1idx=zeros(length(sidx))\n",
    "λ2idx=zeros(length(sidx)) \n",
    "μMat= zeros(length(sidx),1)\n",
    "\n",
    "for s in 1:length(sidx)\n",
    "    Zoneflag1 = sparti[s]\n",
    "    Zoneflag2= spartj[s]\n",
    "    Call1 = spartk[s]\n",
    "    Call2 = spartl[s]\n",
    "    RegionFrom1= spartm[s]\n",
    "    RegionFrom2= spartn[s]\n",
    "    nextZoneflag1 = 0\n",
    "    nextZoneflag2 = 0\n",
    "    nextCall1=0\n",
    "    nextCall2=0\n",
    "    nextRegionFrom1=0\n",
    "    nextRegionFrom2=0\n",
    "    nexts=0\n",
    "    λ= 0    \n",
    " #   Arrival at region 1\n",
    "    if Call1<max1demand\n",
    "        nextCall1= Call1+1\n",
    "        nextCall2= Call2        \n",
    "        if Zoneflag1 == 1 \n",
    "            if Zoneflag2>1\n",
    "             nextZoneflag1=3\n",
    "             nextZoneflag2=Zoneflag2\n",
    "             nextRegionFrom1=1\n",
    "             nextRegionFrom2=RegionFrom2\n",
    "             λ=λst\n",
    "             idx= (sparti.==nextZoneflag1) .& (spartj.==nextZoneflag2) .& (spartk.==nextCall1) .&(spartl.==nextCall2) .& (spartm.==nextRegionFrom1) .&(spartn.==nextRegionFrom2)\n",
    "             nexts= sidx[idx] \n",
    "             matrix[nexts,s].= matrix[nexts,s].+λ\n",
    "             matrix[s,s]= matrix[s,s]-λ       \n",
    "             λ1idx[s]=1 \n",
    "            else \n",
    "             λ=λst/2\n",
    "             nextRegionFrom1=1\n",
    "             nextRegionFrom2=1\n",
    "             idx= (sparti.==3) .& (spartj.==1) .& (spartk.==nextCall1) .&(spartl.==nextCall2).& (spartm.==nextRegionFrom1) .&(spartn.==nextRegionFrom2)\n",
    "             nexts= sidx[idx] \n",
    "             matrix[nexts,s].= matrix[nexts,s].+λ\n",
    "             matrix[s,s]= matrix[s,s]-λ \n",
    "             idx= (sparti.==1) .& (spartj.==3) .& (spartk.==nextCall1) .&(spartl.==nextCall2) .& (spartm.==nextRegionFrom1) .&(spartn.==nextRegionFrom2)\n",
    "             nexts= sidx[idx] \n",
    "             matrix[nexts,s].=matrix[nexts,s].+λ\n",
    "             matrix[s,s]= matrix[s,s]-λ   \n",
    "             λ1idx[s]=1 \n",
    "            end\n",
    "        elseif Zoneflag1 == 2 \n",
    "            if Zoneflag2>2\n",
    "             nextZoneflag1=3\n",
    "             nextZoneflag2=Zoneflag2\n",
    "             nextRegionFrom1=2\n",
    "             nextRegionFrom2=RegionFrom2\n",
    "             λ=λst\n",
    "             idx= (sparti.==nextZoneflag1) .& (spartj.==nextZoneflag2) .& (spartk.==nextCall1) .&(spartl.==nextCall2) .& (spartm.==nextRegionFrom1) .&(spartn.==nextRegionFrom2)\n",
    "             nexts= sidx[idx] \n",
    "             matrix[nexts,s].= matrix[nexts,s].+λ\n",
    "             matrix[s,s]= matrix[s,s]-λ   \n",
    "             λ1idx[s]=1    \n",
    "            elseif Zoneflag2==1\n",
    "             nextZoneflag1=Zoneflag1\n",
    "             nextZoneflag2=3\n",
    "             nextRegionFrom1=RegionFrom1\n",
    "             nextRegionFrom2=1 \n",
    "             λ=λst\n",
    "             idx= (sparti.==nextZoneflag1) .& (spartj.==nextZoneflag2) .& (spartk.==nextCall1) .&(spartl.==nextCall2) .& (spartm.==nextRegionFrom1) .&(spartn.==nextRegionFrom2)\n",
    "             nexts= sidx[idx] \n",
    "             matrix[nexts,s].= matrix[nexts,s].+λ\n",
    "             matrix[s,s]= matrix[s,s]-λ\n",
    "             λ1idx[s]=1 \n",
    "            else \n",
    "             λ=λst/2   \n",
    "             nextRegionFrom1=2\n",
    "             nextRegionFrom2=2                 \n",
    "             idx= (sparti.==3) .& (spartj.==2) .& (spartk.==nextCall1) .&(spartl.==nextCall2) .& (spartm.==nextRegionFrom1) .&(spartn.==nextRegionFrom2)\n",
    "             nexts= sidx[idx] \n",
    "             matrix[nexts,s].= matrix[nexts,s].+λ\n",
    "             matrix[s,s]= matrix[s,s]-λ \n",
    "             idx= (sparti.==2) .& (spartj.==3) .& (spartk.==nextCall1) .&(spartl.==nextCall2) .& (spartm.==nextRegionFrom1) .&(spartn.==nextRegionFrom2)\n",
    "             nexts= sidx[idx] \n",
    "             matrix[nexts,s].=matrix[nexts,s].+λ\n",
    "             matrix[s,s]= matrix[s,s]-λ \n",
    "             λ1idx[s]=1\n",
    "            end            \n",
    "        elseif Zoneflag1>2 && Zoneflag2<=2\n",
    "            nextZoneflag1 = Zoneflag1  \n",
    "            nextZoneflag2 = 3 \n",
    "            nextRegionFrom1=RegionFrom1\n",
    "            nextRegionFrom2=Zoneflag2\n",
    "            λ=λst\n",
    "            idx= (sparti.==nextZoneflag1) .& (spartj.==nextZoneflag2) .& (spartk.==nextCall1) .&(spartl.==nextCall2) .& (spartm.==nextRegionFrom1) .&(spartn.==nextRegionFrom2)\n",
    "            nexts= sidx[idx] \n",
    "            matrix[nexts,s].= matrix[nexts,s].+λ\n",
    "            matrix[s,s]= matrix[s,s]-λ        \n",
    "            λ1idx[s]=1 \n",
    "        else Zoneflag1>2 && Zoneflag2>2\n",
    "            nextZoneflag1 = Zoneflag1\n",
    "            nextZoneflag2 = Zoneflag2\n",
    "            nextRegionFrom1=RegionFrom1\n",
    "            nextRegionFrom2=RegionFrom2\n",
    "            λ=λst\n",
    "            idx= (sparti.==nextZoneflag1) .& (spartj.==nextZoneflag2) .& (spartk.==nextCall1) .&(spartl.==nextCall2) .& (spartm.==nextRegionFrom1) .&(spartn.==nextRegionFrom2)\n",
    "            nexts= sidx[idx] \n",
    "            matrix[nexts,s].= matrix[nexts,s].+λ\n",
    "            matrix[s,s]= matrix[s,s]-λ  \n",
    "            λ1idx[s]=1 \n",
    "        end        \n",
    "    end\n",
    "end\n",
    "         for s in 1:length(sidx)\n",
    "    Zoneflag1 = sparti[s]\n",
    "    Zoneflag2= spartj[s]\n",
    "    Call1 = spartk[s]\n",
    "    Call2 = spartl[s]\n",
    "    RegionFrom1= spartm[s]\n",
    "    RegionFrom2= spartn[s]    \n",
    "    nextZoneflag1 = 0\n",
    "    nextZoneflag2 = 0\n",
    "    nextCall1=0\n",
    "    nextCall2=0\n",
    "    nextRegionFrom1=0\n",
    "    nextRegionFrom2=0    \n",
    "    nexts=0\n",
    "    λ= 0  \n",
    "  #   Arrival at region 2\n",
    "    if Call2<max2demand\n",
    "        nextCall1= Call1\n",
    "        nextCall2= Call2+1               \n",
    "        if Zoneflag1 == 2 \n",
    "            if Zoneflag2!=2\n",
    "             nextZoneflag1=4\n",
    "             nextZoneflag2=Zoneflag2\n",
    "             nextRegionFrom1=2\n",
    "             nextRegionFrom2=RegionFrom2\n",
    "             λ=λst\n",
    "             idx= (sparti.==nextZoneflag1) .& (spartj.==nextZoneflag2) .& (spartk.==nextCall1) .&(spartl.==nextCall2) .& (spartm.==nextRegionFrom1) .&(spartn.==nextRegionFrom2)\n",
    "             nexts= sidx[idx] \n",
    "             matrix[nexts,s].= matrix[nexts,s].+λ\n",
    "             matrix[s,s]= matrix[s,s]-λ\n",
    "                λ2idx[s]=1 \n",
    "            else \n",
    "             λ=λst/2   \n",
    "             nextRegionFrom1=2\n",
    "             nextRegionFrom2=2            \n",
    "             idx= (sparti.==4) .& (spartj.==2) .& (spartk.==nextCall1) .&(spartl.==nextCall2) .& (spartm.==nextRegionFrom1) .&(spartn.==nextRegionFrom2)\n",
    "             nexts= sidx[idx] \n",
    "             matrix[nexts,s].= matrix[nexts,s].+λ\n",
    "             matrix[s,s]= matrix[s,s]-λ \n",
    "             idx= (sparti.==2) .& (spartj.==4) .& (spartk.==nextCall1) .&(spartl.==nextCall2) .& (spartm.==nextRegionFrom1) .&(spartn.==nextRegionFrom2)\n",
    "             nexts= sidx[idx] \n",
    "             matrix[nexts,s].=matrix[nexts,s].+λ\n",
    "             matrix[s,s]= matrix[s,s]-λ\n",
    "                λ2idx[s]=1\n",
    "            end\n",
    "        elseif Zoneflag1 == 1\n",
    "            if Zoneflag2>2\n",
    "             nextZoneflag1=4\n",
    "             nextZoneflag2=Zoneflag2\n",
    "             nextRegionFrom1=1\n",
    "             nextRegionFrom2=RegionFrom2                            \n",
    "             λ=λst\n",
    "             idx= (sparti.==nextZoneflag1) .& (spartj.==nextZoneflag2) .& (spartk.==nextCall1) .&(spartl.==nextCall2) .& (spartm.==nextRegionFrom1) .&(spartn.==nextRegionFrom2)\n",
    "             nexts= sidx[idx] \n",
    "             matrix[nexts,s].= matrix[nexts,s].+λ\n",
    "             matrix[s,s]= matrix[s,s]-λ   \n",
    "                λ2idx[s]=1 \n",
    "            elseif Zoneflag2==2                \n",
    "             nextZoneflag1=Zoneflag1\n",
    "             nextZoneflag2=4\n",
    "             nextRegionFrom1=RegionFrom1\n",
    "             nextRegionFrom2=2                  \n",
    "             λ=λst\n",
    "             idx= (sparti.==nextZoneflag1) .& (spartj.==nextZoneflag2) .& (spartk.==nextCall1) .&(spartl.==nextCall2) .& (spartm.==nextRegionFrom1) .&(spartn.==nextRegionFrom2)\n",
    "             nexts= sidx[idx] \n",
    "             matrix[nexts,s].= matrix[nexts,s].+λ\n",
    "             matrix[s,s]= matrix[s,s]-λ    \n",
    "                λ2idx[s]=1 \n",
    "            else \n",
    "             λ=λst/2   \n",
    "             nextRegionFrom1=1\n",
    "             nextRegionFrom2=1                  \n",
    "             idx= (sparti.==4) .& (spartj.==1) .& (spartk.==nextCall1) .&(spartl.==nextCall2) .& (spartm.==nextRegionFrom1) .&(spartn.==nextRegionFrom2)\n",
    "             nexts= sidx[idx] \n",
    "             matrix[nexts,s].= matrix[nexts,s].+λ\n",
    "             matrix[s,s]= matrix[s,s]-λ\n",
    "             idx= (sparti.==1) .& (spartj.==4) .& (spartk.==nextCall1) .&(spartl.==nextCall2) .& (spartm.==nextRegionFrom1) .&(spartn.==nextRegionFrom2)\n",
    "             nexts= sidx[idx] \n",
    "             matrix[nexts,s].=matrix[nexts,s].+λ\n",
    "             matrix[s,s]= matrix[s,s]-λ   \n",
    "            λ2idx[s]=1\n",
    "            end            \n",
    "        elseif Zoneflag1>2 && Zoneflag2<=2\n",
    "            nextZoneflag1 = Zoneflag1  \n",
    "            nextZoneflag2 = 4\n",
    "            nextRegionFrom1=RegionFrom1\n",
    "            nextRegionFrom2=Zoneflag2   \n",
    "            λ=λst\n",
    "            idx= (sparti.==nextZoneflag1) .& (spartj.==nextZoneflag2) .& (spartk.==nextCall1) .&(spartl.==nextCall2) .& (spartm.==nextRegionFrom1) .&(spartn.==nextRegionFrom2)\n",
    "            nexts= sidx[idx] \n",
    "            matrix[nexts,s].= matrix[nexts,s].+λ\n",
    "            matrix[s,s]= matrix[s,s]-λ \n",
    "            λ2idx[s]=1 \n",
    "        \n",
    "        else Zoneflag1>2 && Zoneflag2>2\n",
    "            nextZoneflag1 = Zoneflag1\n",
    "            nextZoneflag2 = Zoneflag2\n",
    "            nextRegionFrom1=RegionFrom1\n",
    "            nextRegionFrom2=RegionFrom2\n",
    "            λ=λst\n",
    "            idx= (sparti.==nextZoneflag1) .& (spartj.==nextZoneflag2) .& (spartk.==nextCall1) .&(spartl.==nextCall2) .& (spartm.==nextRegionFrom1) .&(spartn.==nextRegionFrom2)\n",
    "            nexts= sidx[idx] \n",
    "            matrix[nexts,s].= matrix[nexts,s].+λ\n",
    "            matrix[s,s]= matrix[s,s]-λ\n",
    "            λ2idx[s]=1 \n",
    "        end\n",
    "    end\n",
    "end\n",
    "        \n",
    "for s in 1:length(sidx)\n",
    "    Zoneflag1 = sparti[s]\n",
    "    Zoneflag2= spartj[s]\n",
    "    Call1 = spartk[s]\n",
    "    Call2 = spartl[s]\n",
    "    RegionFrom1= spartm[s]\n",
    "    RegionFrom2= spartn[s]    \n",
    "    nextZoneflag1 = 0\n",
    "    nextZoneflag2 = 0\n",
    "    nextCall1=0\n",
    "    nextCall2=0\n",
    "    nextRegionFrom1= 0\n",
    "    nextRegionFrom2= 0    \n",
    "    nexts=0\n",
    "    RegionService= 0         \n",
    "     #Service from Region to Region    \n",
    "     if Zoneflag1 == 3\n",
    "        if Zoneflag2 == 4\n",
    "            if Call2 > Call1\n",
    "                RegionService = μMatr[1,RegionFrom1]\n",
    "                nextZoneflag1= 4\n",
    "                nextZoneflag2= Zoneflag2\n",
    "                nextRegionFrom1=1\n",
    "                nextRegionFrom2=RegionFrom2\n",
    "                nextCall1= Call1-1\n",
    "                nextCall2= Call2\n",
    "            else\n",
    "                if Call1==2\n",
    "                    RegionService = μMatr[1,RegionFrom1]\n",
    "                    nextZoneflag1= 1\n",
    "                    nextZoneflag2= Zoneflag2\n",
    "                    nextCall1= Call1-1\n",
    "                    nextCall2= Call2\n",
    "                    nextRegionFrom1=1\n",
    "                    nextRegionFrom2=RegionFrom2\n",
    "                else \n",
    "                    RegionService = μMatr[1,RegionFrom1]\n",
    "                    nextZoneflag1= Zoneflag1\n",
    "                    nextZoneflag2= Zoneflag2\n",
    "                    nextCall1= Call1-1\n",
    "                    nextCall2= Call2   \n",
    "                    nextRegionFrom1=1\n",
    "                    nextRegionFrom2=RegionFrom2                    \n",
    "                end \n",
    "            end           \n",
    "        elseif Zoneflag2==3\n",
    "            if Call2>=Call1-1\n",
    "                RegionService = μMatr[1,RegionFrom1]\n",
    "                nextZoneflag1= 4\n",
    "                nextZoneflag2= Zoneflag2\n",
    "                nextCall1= Call1-1\n",
    "                nextCall2= Call2\n",
    "                nextRegionFrom1=1\n",
    "                nextRegionFrom2=RegionFrom2                  \n",
    "            elseif Call1>3\n",
    "                RegionService = μMatr[1,RegionFrom1]\n",
    "                nextZoneflag1= Zoneflag1\n",
    "                nextZoneflag2= Zoneflag2\n",
    "                nextCall1= Call1-1\n",
    "                nextCall2= Call2  \n",
    "                nextRegionFrom1=1\n",
    "                nextRegionFrom2=RegionFrom2  \n",
    "            else\n",
    "                RegionService = μMatr[1,RegionFrom1]\n",
    "                nextZoneflag1= 1\n",
    "                nextZoneflag2= Zoneflag2\n",
    "                nextCall1= Call1-1\n",
    "                nextCall2= Call2  \n",
    "                nextRegionFrom1=1\n",
    "                nextRegionFrom2=RegionFrom2  \n",
    "            end \n",
    "        else \n",
    "                RegionService = μMatr[1,RegionFrom1]\n",
    "                nextZoneflag1= 1\n",
    "                nextZoneflag2= Zoneflag2\n",
    "                nextCall1= Call1-1\n",
    "                nextCall2= Call2  \n",
    "                nextRegionFrom1=1\n",
    "                nextRegionFrom2=RegionFrom2\n",
    "        end      \n",
    "    elseif Zoneflag1==4  \n",
    "          if Zoneflag2 == 3\n",
    "            if Call1 > Call2\n",
    "                RegionService = μMatr[2,RegionFrom1]\n",
    "                nextZoneflag1= 3\n",
    "                nextZoneflag2= Zoneflag2\n",
    "                nextCall1= Call1\n",
    "                nextCall2= Call2-1\n",
    "                nextRegionFrom1=2\n",
    "                nextRegionFrom2=RegionFrom2                 \n",
    "            else\n",
    "                if Call2==2\n",
    "                    RegionService = μMatr[2,RegionFrom1]\n",
    "                    nextZoneflag1= 2\n",
    "                    nextZoneflag2= Zoneflag2\n",
    "                    nextCall1= Call1\n",
    "                    nextCall2= Call2-1   \n",
    "                    nextRegionFrom1=2\n",
    "                    nextRegionFrom2=RegionFrom2 \n",
    "                else \n",
    "                    RegionService = μMatr[2,RegionFrom1]\n",
    "                    nextZoneflag1= Zoneflag1\n",
    "                    nextZoneflag2= Zoneflag2\n",
    "                    nextCall1= Call1\n",
    "                    nextCall2= Call2-1      \n",
    "                    nextRegionFrom1=2\n",
    "                    nextRegionFrom2=RegionFrom2 \n",
    "                end \n",
    "            end            \n",
    "        elseif Zoneflag2==4\n",
    "            if Call1>=Call2-1\n",
    "                RegionService = μMatr[2,RegionFrom1]\n",
    "                nextZoneflag1= 3\n",
    "                nextZoneflag2= Zoneflag2\n",
    "                nextCall1= Call1\n",
    "                nextCall2= Call2-1\n",
    "                nextRegionFrom1=2\n",
    "                nextRegionFrom2=RegionFrom2 \n",
    "            elseif Call2>3\n",
    "                RegionService = μMatr[2,RegionFrom1]\n",
    "                nextZoneflag1= Zoneflag1\n",
    "                nextZoneflag2= Zoneflag2\n",
    "                nextCall1= Call1\n",
    "                nextCall2= Call2-1  \n",
    "                nextRegionFrom1=2\n",
    "                nextRegionFrom2=RegionFrom2 \n",
    "            else \n",
    "                RegionService = μMatr[2,RegionFrom1]\n",
    "                nextZoneflag1= 2\n",
    "                nextZoneflag2= Zoneflag2\n",
    "                nextCall1= Call1\n",
    "                nextCall2= Call2-1   \n",
    "                nextRegionFrom1=2\n",
    "                nextRegionFrom2=RegionFrom2\n",
    "            end \n",
    "        else \n",
    "                RegionService = μMatr[2,RegionFrom1]\n",
    "                nextZoneflag1= 2\n",
    "                nextZoneflag2= Zoneflag2\n",
    "                nextCall1= Call1\n",
    "                nextCall2= Call2-1     \n",
    "                nextRegionFrom1=2\n",
    "                nextRegionFrom2=RegionFrom2\n",
    "        end         \n",
    "    else\n",
    "    end        \n",
    "         idx= (sparti.==nextZoneflag1) .& (spartj.==nextZoneflag2) .& (spartk.==nextCall1) .&(spartl.==nextCall2).& (spartm.==nextRegionFrom1) .&(spartn.==nextRegionFrom2)\n",
    "         nexts= sidx[idx] \n",
    "         matrix[nexts,s]= matrix[nexts,s] .+ RegionService\n",
    "         matrix[s,s]= matrix[s,s].- RegionService  \n",
    "        μMat[s,1]= μMat[s,1] .+ RegionService    \n",
    "end \n",
    "        \n",
    "        for s in 1:length(sidx)\n",
    "    Zoneflag1 = sparti[s]\n",
    "    Zoneflag2= spartj[s]\n",
    "    Call1 = spartk[s]\n",
    "    Call2 = spartl[s]\n",
    "    RegionFrom1= spartm[s]\n",
    "    RegionFrom2= spartn[s]    \n",
    "    nextZoneflag1 = 0\n",
    "    nextZoneflag2 = 0\n",
    "    nextCall1=0\n",
    "    nextCall2=0\n",
    "    nextRegionFrom1= 0\n",
    "    nextRegionFrom2= 0    \n",
    "    nexts=0\n",
    "    RegionService= 0         \n",
    "     #Service from Region to Region    \n",
    "     if Zoneflag2 == 3\n",
    "        if Zoneflag1 == 4\n",
    "            if Call2 > Call1\n",
    "                RegionService = μMatr[1,RegionFrom2]\n",
    "                nextZoneflag1= Zoneflag1\n",
    "                nextZoneflag2= 4\n",
    "                nextRegionFrom1=RegionFrom1\n",
    "                nextRegionFrom2=1\n",
    "                nextCall1= Call1-1\n",
    "                nextCall2= Call2\n",
    "            else\n",
    "                if Call1==2\n",
    "                    RegionService = μMatr[1,RegionFrom2]\n",
    "                    nextZoneflag1= Zoneflag1\n",
    "                    nextZoneflag2= 1\n",
    "                    nextCall1= Call1-1\n",
    "                    nextCall2= Call2\n",
    "                    nextRegionFrom1=RegionFrom1\n",
    "                    nextRegionFrom2=1\n",
    "                else \n",
    "                    RegionService = μMatr[1,RegionFrom2]\n",
    "                    nextZoneflag1= Zoneflag1\n",
    "                    nextZoneflag2= Zoneflag2\n",
    "                    nextCall1= Call1-1\n",
    "                    nextCall2= Call2   \n",
    "                    nextRegionFrom1=RegionFrom1\n",
    "                    nextRegionFrom2=1                    \n",
    "                end \n",
    "            end           \n",
    "        elseif Zoneflag1==3\n",
    "            if Call2>=Call1-1\n",
    "                RegionService = μMatr[1,RegionFrom2]\n",
    "                nextZoneflag1= Zoneflag1\n",
    "                nextZoneflag2= 4\n",
    "                nextCall1= Call1-1\n",
    "                nextCall2= Call2\n",
    "                nextRegionFrom1=RegionFrom1\n",
    "                nextRegionFrom2=1                   \n",
    "            elseif Call1>3\n",
    "                RegionService = μMatr[1,RegionFrom2]\n",
    "                nextZoneflag1= Zoneflag1\n",
    "                nextZoneflag2= Zoneflag2\n",
    "                nextCall1= Call1-1\n",
    "                nextCall2= Call2  \n",
    "                nextRegionFrom1=RegionFrom1\n",
    "                nextRegionFrom2=1  \n",
    "            else\n",
    "                RegionService = μMatr[1,RegionFrom2]\n",
    "                nextZoneflag1= Zoneflag1\n",
    "                nextZoneflag2= 1\n",
    "                nextCall1= Call1-1\n",
    "                nextCall2= Call2  \n",
    "                nextRegionFrom1=RegionFrom1\n",
    "                nextRegionFrom2=1  \n",
    "            end \n",
    "        else \n",
    "                RegionService = μMatr[1,RegionFrom2]\n",
    "                nextZoneflag1= Zoneflag1\n",
    "                nextZoneflag2= 1\n",
    "                nextCall1= Call1-1\n",
    "                nextCall2= Call2  \n",
    "                nextRegionFrom1=RegionFrom1\n",
    "                nextRegionFrom2=1  \n",
    "        end      \n",
    "    elseif Zoneflag2==4  \n",
    "          if Zoneflag1 == 3\n",
    "            if Call1 > Call2\n",
    "                RegionService = μMatr[2,RegionFrom2]\n",
    "                nextZoneflag1= Zoneflag1\n",
    "                nextZoneflag2= 3\n",
    "                nextCall1= Call1\n",
    "                nextCall2= Call2-1\n",
    "                nextRegionFrom1=RegionFrom1\n",
    "                nextRegionFrom2=2                  \n",
    "            else\n",
    "                if Call2==2\n",
    "                    RegionService = μMatr[2,RegionFrom2]\n",
    "                    nextZoneflag1= Zoneflag1\n",
    "                    nextZoneflag2= 2\n",
    "                    nextCall1= Call1\n",
    "                    nextCall2= Call2-1   \n",
    "                    nextRegionFrom1=RegionFrom1\n",
    "                    nextRegionFrom2=2 \n",
    "                else \n",
    "                    RegionService = μMatr[2,RegionFrom2]\n",
    "                    nextZoneflag1= Zoneflag1\n",
    "                    nextZoneflag2= Zoneflag2\n",
    "                    nextCall1= Call1\n",
    "                    nextCall2= Call2-1      \n",
    "                    nextRegionFrom1=RegionFrom1\n",
    "                    nextRegionFrom2=2 \n",
    "                end \n",
    "            end            \n",
    "        elseif Zoneflag1==4\n",
    "            if Call1>=Call2-1\n",
    "                RegionService = μMatr[2,RegionFrom2]\n",
    "                nextZoneflag1= Zoneflag1\n",
    "                nextZoneflag2= 3\n",
    "                nextCall1= Call1\n",
    "                nextCall2= Call2-1\n",
    "                nextRegionFrom1=RegionFrom1\n",
    "                nextRegionFrom2=2 \n",
    "            elseif Call2>3\n",
    "                RegionService = μMatr[2,RegionFrom2]\n",
    "                nextZoneflag1= Zoneflag1\n",
    "                nextZoneflag2= Zoneflag2\n",
    "                nextCall1= Call1\n",
    "                nextCall2= Call2-1  \n",
    "                nextRegionFrom1=RegionFrom1\n",
    "                nextRegionFrom2=2 \n",
    "            else \n",
    "                RegionService = μMatr[2,RegionFrom2]\n",
    "                nextZoneflag1= Zoneflag1\n",
    "                nextZoneflag2= 2\n",
    "                nextCall1= Call1\n",
    "                nextCall2= Call2-1   \n",
    "                nextRegionFrom1=RegionFrom1\n",
    "                nextRegionFrom2=2 \n",
    "            end \n",
    "        else \n",
    "                RegionService = μMatr[2,RegionFrom2]\n",
    "                nextZoneflag1= Zoneflag1\n",
    "                nextZoneflag2= 2\n",
    "                nextCall1= Call1\n",
    "                nextCall2= Call2-1     \n",
    "                nextRegionFrom1=RegionFrom1\n",
    "                nextRegionFrom2=2 \n",
    "        end         \n",
    "    else\n",
    "    end        \n",
    "         idx= (sparti.==nextZoneflag1) .& (spartj.==nextZoneflag2) .& (spartk.==nextCall1) .&(spartl.==nextCall2).& (spartm.==nextRegionFrom1) .&(spartn.==nextRegionFrom2)\n",
    "         nexts= sidx[idx] \n",
    "         matrix[nexts,s]= matrix[nexts,s] .+ RegionService\n",
    "         matrix[s,s]= matrix[s,s].- RegionService  \n",
    "         μMat[s,1]= μMat[s,1] .+ RegionService \n",
    "end\n",
    "matrix[length(sidx),:].= 1; #prep Ahat for matrix inversion\n",
    "inverse=inv(matrix); #invert Ahat matrix\n",
    "X=inverse[:,length(sidx)] #extract π from matrix\n",
    "A=sparti[1:length(sidx)] \n",
    "B=spartj[1:length(sidx)]\n",
    "C=spartk[1:length(sidx)]\n",
    "D=spartl[1:length(sidx)]\n",
    "E=spartm[1:length(sidx)]\n",
    "F=spartn[1:length(sidx)]\n",
    "M=hcat(sidx,A,B,C,D,E,F,X)     #create readable matrix for state, sparti,spartj,spartk,spartl and pi\n",
    "Throughput=(λst)*sum(M[λ1idx.==1,8])+(λst)*sum(M[λ2idx.==1,8])\n",
    "Gain=μMat'*X\n",
    "L=0\n",
    "for s in 1:length(sidx)\n",
    "  L=L+(C[s]+D[s]-2)*X[s]\n",
    "end\n",
    "LVar=0\n",
    "for s in 1:length(sidx)\n",
    "  LVar=LVar+(C[s]+D[s]-2)^2*X[s]\n",
    "end\n",
    "LVar=LVar-L^2\n",
    "W=L/Throughput \n",
    "Midx0= (spartk .+ spartl).==2\n",
    "ZeroCall=sum(M[Midx0.==1,8])\n",
    "Midx1= (spartk .+ spartl).==3\n",
    "OneCall=sum(M[Midx1.==1,8])\n",
    "Midx2= (spartk .+ spartl).==4\n",
    "TwoCall=sum(M[Midx2.==1,8])\n",
    "CR=ZeroCall+OneCall+TwoCall\n",
    "N=[N; λst μ1 μ2 Throughput Gain L LVar W ZeroCall OneCall TwoCall CR]\n",
    "        \n",
    "end\n",
    "end     "
   ]
  },
  {
   "cell_type": "code",
   "execution_count": 12,
   "id": "de7d57b2-bf97-4a05-a84b-ead0b4842199",
   "metadata": {},
   "outputs": [
    {
     "data": {
      "text/html": [
       "<div class=\"data-frame\"><p>8 rows × 12 columns (omitted printing of 2 columns)</p><table class=\"data-frame\"><thead><tr><th></th><th>x1</th><th>x2</th><th>x3</th><th>x4</th><th>x5</th><th>x6</th><th>x7</th><th>x8</th><th>x9</th><th>x10</th></tr><tr><th></th><th title=\"Any\">Any</th><th title=\"Any\">Any</th><th title=\"Any\">Any</th><th title=\"Any\">Any</th><th title=\"Any\">Any</th><th title=\"Any\">Any</th><th title=\"Any\">Any</th><th title=\"Any\">Any</th><th title=\"Any\">Any</th><th title=\"Any\">Any</th></tr></thead><tbody><tr><th>1</th><td>0.5</td><td>2.5</td><td>2.25</td><td>1.0</td><td>1.0</td><td>0.429224</td><td>0.47024</td><td>0.429224</td><td>0.659976</td><td>0.26937</td></tr><tr><th>2</th><td>0.5</td><td>2.25</td><td>2.025</td><td>1.0</td><td>1.0</td><td>0.482848</td><td>0.539963</td><td>0.482848</td><td>0.628722</td><td>0.285498</td></tr><tr><th>3</th><td>0.5</td><td>2.0</td><td>1.8</td><td>1.0</td><td>1.0</td><td>0.55254</td><td>0.635876</td><td>0.55254</td><td>0.591198</td><td>0.302464</td></tr><tr><th>4</th><td>0.5</td><td>1.75</td><td>1.575</td><td>1.0</td><td>1.0</td><td>0.647248</td><td>0.776692</td><td>0.647248</td><td>0.545327</td><td>0.319397</td></tr><tr><th>5</th><td>0.5</td><td>1.5</td><td>1.35</td><td>1.0</td><td>1.0</td><td>0.784505</td><td>1.00422</td><td>0.784506</td><td>0.488009</td><td>0.334124</td></tr><tr><th>6</th><td>0.5</td><td>1.25</td><td>1.125</td><td>0.999999</td><td>0.999999</td><td>1.00455</td><td>1.43243</td><td>1.00455</td><td>0.414416</td><td>0.341275</td></tr><tr><th>7</th><td>0.5</td><td>1.0</td><td>0.9</td><td>0.999988</td><td>0.999988</td><td>1.42743</td><td>2.49286</td><td>1.42745</td><td>0.316637</td><td>0.326833</td></tr><tr><th>8</th><td>0.5</td><td>0.75</td><td>0.675</td><td>0.999432</td><td>0.999432</td><td>2.65535</td><td>7.23102</td><td>2.65686</td><td>0.181097</td><td>0.25004</td></tr></tbody></table></div>"
      ],
      "text/latex": [
       "\\begin{tabular}{r|ccccccccccc}\n",
       "\t& x1 & x2 & x3 & x4 & x5 & x6 & x7 & x8 & x9 & x10 & \\\\\n",
       "\t\\hline\n",
       "\t& Any & Any & Any & Any & Any & Any & Any & Any & Any & Any & \\\\\n",
       "\t\\hline\n",
       "\t1 & 0.5 & 2.5 & 2.25 & 1.0 & 1.0 & 0.429224 & 0.47024 & 0.429224 & 0.659976 & 0.26937 & $\\dots$ \\\\\n",
       "\t2 & 0.5 & 2.25 & 2.025 & 1.0 & 1.0 & 0.482848 & 0.539963 & 0.482848 & 0.628722 & 0.285498 & $\\dots$ \\\\\n",
       "\t3 & 0.5 & 2.0 & 1.8 & 1.0 & 1.0 & 0.55254 & 0.635876 & 0.55254 & 0.591198 & 0.302464 & $\\dots$ \\\\\n",
       "\t4 & 0.5 & 1.75 & 1.575 & 1.0 & 1.0 & 0.647248 & 0.776692 & 0.647248 & 0.545327 & 0.319397 & $\\dots$ \\\\\n",
       "\t5 & 0.5 & 1.5 & 1.35 & 1.0 & 1.0 & 0.784505 & 1.00422 & 0.784506 & 0.488009 & 0.334124 & $\\dots$ \\\\\n",
       "\t6 & 0.5 & 1.25 & 1.125 & 0.999999 & 0.999999 & 1.00455 & 1.43243 & 1.00455 & 0.414416 & 0.341275 & $\\dots$ \\\\\n",
       "\t7 & 0.5 & 1.0 & 0.9 & 0.999988 & 0.999988 & 1.42743 & 2.49286 & 1.42745 & 0.316637 & 0.326833 & $\\dots$ \\\\\n",
       "\t8 & 0.5 & 0.75 & 0.675 & 0.999432 & 0.999432 & 2.65535 & 7.23102 & 2.65686 & 0.181097 & 0.25004 & $\\dots$ \\\\\n",
       "\\end{tabular}\n"
      ],
      "text/plain": [
       "\u001b[1m8×12 DataFrame\u001b[0m\n",
       "\u001b[1m Row \u001b[0m│\u001b[1m x1  \u001b[0m\u001b[1m x2   \u001b[0m\u001b[1m x3    \u001b[0m\u001b[1m x4       \u001b[0m\u001b[1m x5       \u001b[0m\u001b[1m x6       \u001b[0m\u001b[1m x7       \u001b[0m\u001b[1m x8       \u001b[0m\u001b[1m x9 \u001b[0m ⋯\n",
       "\u001b[1m     \u001b[0m│\u001b[90m Any \u001b[0m\u001b[90m Any  \u001b[0m\u001b[90m Any   \u001b[0m\u001b[90m Any      \u001b[0m\u001b[90m Any      \u001b[0m\u001b[90m Any      \u001b[0m\u001b[90m Any      \u001b[0m\u001b[90m Any      \u001b[0m\u001b[90m Any\u001b[0m ⋯\n",
       "─────┼──────────────────────────────────────────────────────────────────────────\n",
       "   1 │ 0.5  2.5   2.25   1.0       1.0       0.429224  0.47024   0.429224  0.6 ⋯\n",
       "   2 │ 0.5  2.25  2.025  1.0       1.0       0.482848  0.539963  0.482848  0.6\n",
       "   3 │ 0.5  2.0   1.8    1.0       1.0       0.55254   0.635876  0.55254   0.5\n",
       "   4 │ 0.5  1.75  1.575  1.0       1.0       0.647248  0.776692  0.647248  0.5\n",
       "   5 │ 0.5  1.5   1.35   1.0       1.0       0.784505  1.00422   0.784506  0.4 ⋯\n",
       "   6 │ 0.5  1.25  1.125  0.999999  0.999999  1.00455   1.43243   1.00455   0.4\n",
       "   7 │ 0.5  1.0   0.9    0.999988  0.999988  1.42743   2.49286   1.42745   0.3\n",
       "   8 │ 0.5  0.75  0.675  0.999432  0.999432  2.65535   7.23102   2.65686   0.1\n",
       "\u001b[36m                                                               4 columns omitted\u001b[0m"
      ]
     },
     "execution_count": 12,
     "metadata": {},
     "output_type": "execute_result"
    }
   ],
   "source": [
    "using DataFrames\n",
    "df= DataFrame(N[2:Int(length(N[:,1])),:], :auto)"
   ]
  },
  {
   "cell_type": "code",
   "execution_count": 13,
   "id": "57b2d286-e451-4eef-bb90-c5739b7d8ef1",
   "metadata": {},
   "outputs": [
    {
     "data": {
      "text/plain": [
       "\"C:\\\\Users\\\\alexb\\\\Documents\\\\NCSU\\\\501\\\\Thesis\\\\GD2AmbStats29MAR_1.csv\""
      ]
     },
     "execution_count": 13,
     "metadata": {},
     "output_type": "execute_result"
    }
   ],
   "source": [
    "using CSV\n",
    "CSV.write(\"C:\\\\Users\\\\alexb\\\\Documents\\\\NCSU\\\\501\\\\Thesis\\\\GD2AmbStats29MAR_1.csv\",df)"
   ]
  },
  {
   "cell_type": "code",
   "execution_count": 80,
   "id": "98477bc2-c823-4761-9d78-4f712ffbb0f4",
   "metadata": {},
   "outputs": [
    {
     "data": {
      "text/plain": [
       "0.0"
      ]
     },
     "execution_count": 80,
     "metadata": {},
     "output_type": "execute_result"
    }
   ],
   "source": [
    "\n",
    "matrix\n",
    "sum(matrix)"
   ]
  },
  {
   "cell_type": "code",
   "execution_count": 81,
   "id": "449dc2aa-1b11-4159-97a8-a4bde4270f8d",
   "metadata": {},
   "outputs": [
    {
     "data": {
      "text/plain": [
       "0.0"
      ]
     },
     "execution_count": 81,
     "metadata": {},
     "output_type": "execute_result"
    }
   ],
   "source": [
    "\n",
    "sum(matrix)\n"
   ]
  },
  {
   "cell_type": "code",
   "execution_count": 82,
   "id": "6c6a2d79-379f-448a-8ca2-0d9deb896df7",
   "metadata": {
    "tags": []
   },
   "outputs": [],
   "source": [
    "matrix[length(sidx),:].= 1; #prep Ahat for matrix inversion"
   ]
  },
  {
   "cell_type": "code",
   "execution_count": 83,
   "id": "c313f78e-4a29-438b-897e-f71441de3229",
   "metadata": {},
   "outputs": [
    {
     "data": {
      "text/plain": [
       "184×184 Matrix{Float64}:\n",
       " -1.0    0.0    0.0    0.0    0.0   0.0  …   0.0   0.0   0.0   0.0   0.0  0.0\n",
       "  0.0   -1.0    0.0    0.0    0.0   0.0      0.0   0.0   0.0   0.0   0.0  0.0\n",
       "  0.0    0.0   -1.0    0.0    0.0   0.0      0.0   0.0   0.0   0.0   0.0  0.0\n",
       "  0.0    0.0    0.0   -1.0    0.0   0.0      0.0   0.0   0.0   0.0   0.0  0.0\n",
       "  0.0    0.0    0.0    0.0   -1.0   0.0      0.0   0.0   0.0   0.0   0.0  0.0\n",
       "  0.0    0.0    0.0    0.0    0.0  -1.0  …   0.0   0.0   0.0   0.0   0.0  0.0\n",
       "  0.0    0.0    0.0    0.0    0.0   0.0      0.0   0.0   0.0   0.0   0.0  0.0\n",
       "  0.0    0.0    0.0    0.0    0.0   0.0      0.0   0.0   0.0   0.0   0.0  0.0\n",
       "  0.25   0.25   0.25   0.25   0.0   0.0      0.0   0.0   0.0   0.0   0.0  0.0\n",
       "  0.0    0.0    0.0    0.0    0.0   0.0      0.0   0.0   0.0   0.0   0.0  0.0\n",
       "  0.0    0.0    0.0    0.0    0.0   0.0  …   0.0   0.0   0.0   0.0   0.0  0.0\n",
       "  0.0    0.0    0.0    0.0    0.0   0.0      0.0   0.0   0.0   0.0   0.0  0.0\n",
       "  0.25   0.25   0.25   0.25   0.0   0.0      0.0   0.0   0.0   0.0   0.0  0.0\n",
       "  ⋮                                 ⋮    ⋱               ⋮                \n",
       "  0.0    0.0    0.0    0.0    0.0   0.0      0.0   0.0   0.0   0.0   0.0  0.0\n",
       "  0.0    0.0    0.0    0.0    0.0   0.0      0.0   0.0   0.0   0.0   0.0  0.0\n",
       "  0.0    0.0    0.0    0.0    0.0   0.0      0.0   0.0   0.0   0.0   0.0  0.0\n",
       "  0.0    0.0    0.0    0.0    0.0   0.0  …   0.0   0.0   0.0   0.0   0.0  0.0\n",
       "  0.0    0.0    0.0    0.0    0.0   0.0      0.0   0.0   0.0   0.0   0.0  0.0\n",
       "  0.0    0.0    0.0    0.0    0.0   0.0      0.0   0.0   0.0   0.0   0.0  0.0\n",
       "  0.0    0.0    0.0    0.0    0.0   0.0     -3.0   0.0   0.0   0.0   0.0  0.0\n",
       "  0.0    0.0    0.0    0.0    0.0   0.0      0.0  -3.5   0.0   0.0   0.0  0.0\n",
       "  0.0    0.0    0.0    0.0    0.0   0.0  …   0.0   0.0  -2.0   0.0   0.0  0.0\n",
       "  0.0    0.0    0.0    0.0    0.0   0.0      0.0   0.0   0.0  -2.5   0.0  0.0\n",
       "  0.0    0.0    0.0    0.0    0.0   0.0      0.5   0.0   0.0   0.0  -2.5  0.0\n",
       "  1.0    1.0    1.0    1.0    1.0   1.0      1.0   1.0   1.0   1.0   1.0  1.0"
      ]
     },
     "execution_count": 83,
     "metadata": {},
     "output_type": "execute_result"
    }
   ],
   "source": [
    "matrix"
   ]
  },
  {
   "cell_type": "code",
   "execution_count": 84,
   "id": "8d8d5787-7583-4203-8c6e-2c4ed4185022",
   "metadata": {
    "tags": []
   },
   "outputs": [],
   "source": [
    "inverse=inv(matrix); #invert Ahat matrix\n",
    "#sum(inverse[:,length(sidx)]) #validate that sum of π equals 1"
   ]
  },
  {
   "cell_type": "code",
   "execution_count": 85,
   "id": "6d797658-70da-468a-88f7-90f7072c68f7",
   "metadata": {
    "tags": []
   },
   "outputs": [
    {
     "data": {
      "text/plain": [
       "184-element Vector{Float64}:\n",
       "  0.06474894436756218\n",
       "  0.0\n",
       "  0.0\n",
       "  0.0\n",
       " -6.908326698999416e-18\n",
       "  0.16004915376571952\n",
       "  0.0\n",
       "  0.0\n",
       "  0.013652122375079012\n",
       "  0.011896288621162592\n",
       "  0.0\n",
       "  0.0\n",
       "  0.0163900303408961\n",
       "  ⋮\n",
       "  0.00029768790009148424\n",
       "  0.00019680718180581\n",
       "  0.0001968071818058099\n",
       "  6.249957597225031e-5\n",
       "  4.43178647396879e-5\n",
       "  5.326860262439142e-5\n",
       "  5.326860262439139e-5\n",
       "  2.245490828544524e-5\n",
       "  8.550144120779325e-5\n",
       "  5.0015156886040334e-5\n",
       "  5.001515688604028e-5\n",
       "  1.4159080709646998e-5"
      ]
     },
     "execution_count": 85,
     "metadata": {},
     "output_type": "execute_result"
    }
   ],
   "source": [
    "X=inverse[:,length(sidx)] #extract π from matrix"
   ]
  },
  {
   "cell_type": "code",
   "execution_count": 86,
   "id": "cbb8cccb-ac4b-4d61-b33f-43fc8d938928",
   "metadata": {},
   "outputs": [
    {
     "data": {
      "text/plain": [
       "1.0"
      ]
     },
     "execution_count": 86,
     "metadata": {},
     "output_type": "execute_result"
    }
   ],
   "source": [
    "X=round.(X,digits=10); #round to 10 digits\n",
    "sum(X)"
   ]
  },
  {
   "cell_type": "code",
   "execution_count": 87,
   "id": "5cf1e488-063e-4c30-993c-1d811ff0915a",
   "metadata": {
    "tags": []
   },
   "outputs": [
    {
     "data": {
      "text/plain": [
       "184×8 Matrix{Any}:\n",
       "   1  1  1  1  1  1  1   0.0647489\n",
       "   2  1  1  1  1  1  2   0.0\n",
       "   3  1  1  1  1  2  1   0.0\n",
       "   4  1  1  1  1  2  2   0.0\n",
       "   5  1  2  1  1  1  1  -0.0\n",
       "   6  1  2  1  1  1  2   0.160049\n",
       "   7  1  2  1  1  2  1   0.0\n",
       "   8  1  2  1  1  2  2   0.0\n",
       "   9  1  3  2  1  1  1   0.0136521\n",
       "  10  1  3  2  1  1  2   0.0118963\n",
       "  11  1  3  2  1  2  1   0.0\n",
       "  12  1  3  2  1  2  2   0.0\n",
       "  13  1  4  1  2  1  1   0.01639\n",
       "   ⋮              ⋮     \n",
       " 173  4  4  3  4  1  1   0.000297688\n",
       " 174  4  4  3  4  1  2   0.000196807\n",
       " 175  4  4  3  4  2  1   0.000196807\n",
       " 176  4  4  3  4  2  2   6.24996e-5\n",
       " 177  4  4  4  3  1  1   4.43179e-5\n",
       " 178  4  4  4  3  1  2   5.32686e-5\n",
       " 179  4  4  4  3  2  1   5.32686e-5\n",
       " 180  4  4  4  3  2  2   2.24549e-5\n",
       " 181  4  4  4  4  1  1   8.55014e-5\n",
       " 182  4  4  4  4  1  2   5.00152e-5\n",
       " 183  4  4  4  4  2  1   5.00152e-5\n",
       " 184  4  4  4  4  2  2   1.41591e-5"
      ]
     },
     "execution_count": 87,
     "metadata": {},
     "output_type": "execute_result"
    }
   ],
   "source": [
    "A=sparti[1:length(sidx)] \n",
    "B=spartj[1:length(sidx)]\n",
    "C=spartk[1:length(sidx)]\n",
    "D=spartl[1:length(sidx)]\n",
    "E=spartm[1:length(sidx)]\n",
    "F=spartn[1:length(sidx)]\n",
    "M=hcat(sidx,A,B,C,D,E,F,X)     #create readable matrix for state, sparti,spartj,spartk,spartl and pi"
   ]
  },
  {
   "cell_type": "code",
   "execution_count": 66,
   "id": "a010b7d9-48c8-4d71-bfdb-12eb2372d693",
   "metadata": {},
   "outputs": [
    {
     "data": {
      "text/plain": [
       "0.44959619640000004"
      ]
     },
     "execution_count": 66,
     "metadata": {},
     "output_type": "execute_result"
    }
   ],
   "source": [
    "#Percentage of time with zero calls\n",
    "Midx0= (spartk .+ spartl).==2\n",
    "sum(M[Midx0.==1,8])"
   ]
  },
  {
   "cell_type": "code",
   "execution_count": 67,
   "id": "bd7bec83-eb26-42cf-b386-10a3ee10d671",
   "metadata": {},
   "outputs": [
    {
     "data": {
      "text/plain": [
       "0.33744588920000007"
      ]
     },
     "execution_count": 67,
     "metadata": {},
     "output_type": "execute_result"
    }
   ],
   "source": [
    "#Percentage of time with 1 call\n",
    "Midx1= (spartk .+ spartl).==3\n",
    "sum(M[Midx1.==1,8])"
   ]
  },
  {
   "cell_type": "code",
   "execution_count": 101,
   "id": "07999485-b8cf-4dc9-a423-eb6199b626fc",
   "metadata": {},
   "outputs": [
    {
     "data": {
      "text/plain": [
       "0.0310463079"
      ]
     },
     "execution_count": 101,
     "metadata": {},
     "output_type": "execute_result"
    }
   ],
   "source": [
    "#Percentage of time with 2 calls \n",
    "Midx2= (spartj .+ spartk .+ spartl).==5\n",
    "sum(M[Midx2.==1,6])"
   ]
  },
  {
   "cell_type": "code",
   "execution_count": 102,
   "id": "0158ab25-6e32-4db5-acee-4fecc1042c97",
   "metadata": {},
   "outputs": [
    {
     "data": {
      "text/plain": [
       "0.0542819014"
      ]
     },
     "execution_count": 102,
     "metadata": {},
     "output_type": "execute_result"
    }
   ],
   "source": [
    "#Percentage of time with 3 calls\n",
    "Midx3= (spartj .+ spartk .+ spartl).==6\n",
    "sum(M[Midx3.==1,6])"
   ]
  },
  {
   "cell_type": "code",
   "execution_count": 103,
   "id": "4f1214c5-1942-435c-9db8-e83863901694",
   "metadata": {},
   "outputs": [
    {
     "data": {
      "text/plain": [
       "0.07935388210000001"
      ]
     },
     "execution_count": 103,
     "metadata": {},
     "output_type": "execute_result"
    }
   ],
   "source": [
    "#Percentage of time with 4 calls \n",
    "Midx4= (spartj .+ spartk .+ spartl).==7\n",
    "sum(M[Midx4.==1,6])"
   ]
  },
  {
   "cell_type": "code",
   "execution_count": 104,
   "id": "b6fb8993-20f6-4205-901b-604efecf31a1",
   "metadata": {
    "tags": []
   },
   "outputs": [
    {
     "data": {
      "text/plain": [
       "0.1268390758"
      ]
     },
     "execution_count": 104,
     "metadata": {},
     "output_type": "execute_result"
    }
   ],
   "source": [
    "#Percentage of time with 5 calls \n",
    "Midx5= (spartj .+ spartk .+ spartl).==8\n",
    "sum(M[Midx5.==1,6])"
   ]
  },
  {
   "cell_type": "code",
   "execution_count": 105,
   "id": "3d990d06-743e-46fe-b8f1-02bf9c97ab4c",
   "metadata": {},
   "outputs": [
    {
     "data": {
      "text/plain": [
       "0.17168729919999998"
      ]
     },
     "execution_count": 105,
     "metadata": {},
     "output_type": "execute_result"
    }
   ],
   "source": [
    "#Percentage of time with 6 calls \n",
    "Midx5= (spartj .+ spartk .+ spartl).==9\n",
    "sum(M[Midx5.==1,6])"
   ]
  },
  {
   "cell_type": "code",
   "execution_count": 106,
   "id": "e9b19a6a-57bd-4279-9608-727a737b7df3",
   "metadata": {},
   "outputs": [
    {
     "data": {
      "text/plain": [
       "0.18873403219999998"
      ]
     },
     "execution_count": 106,
     "metadata": {},
     "output_type": "execute_result"
    }
   ],
   "source": [
    "#Percentage of time with 7 calls \n",
    "Midx5= (spartj .+ spartk .+ spartl).==10\n",
    "sum(M[Midx5.==1,6])"
   ]
  },
  {
   "cell_type": "code",
   "execution_count": 110,
   "id": "ca0a5473-6f57-472f-a6ca-63dea97b28a1",
   "metadata": {},
   "outputs": [
    {
     "data": {
      "text/plain": [
       "0.1273207536"
      ]
     },
     "execution_count": 110,
     "metadata": {},
     "output_type": "execute_result"
    }
   ],
   "source": [
    "#Percentage of time with max calls\n",
    "MidxMax= (spartj .+ spartk.+ spartl).==(max1demand+max2demand+max3demand)\n",
    "MaxInSys=sum(M[MidxMax.==1,6])"
   ]
  },
  {
   "cell_type": "code",
   "execution_count": 108,
   "id": "2d942320-498c-4481-80d7-8abf582f42d2",
   "metadata": {},
   "outputs": [],
   "source": [
    "#Midxw1Full= ((spartj .+ spartk).<=7).&(spartj.==max1demand)\n",
    "#Midxw2Full= ((spartj .+ spartk).<=7).&(spartk.==max2demand);\n"
   ]
  },
  {
   "cell_type": "code",
   "execution_count": 282,
   "id": "93300320-ec8b-40b8-b3e6-7881c050a755",
   "metadata": {},
   "outputs": [
    {
     "data": {
      "text/plain": [
       "1.0544847926"
      ]
     },
     "execution_count": 282,
     "metadata": {},
     "output_type": "execute_result"
    }
   ],
   "source": [
    "#Define total throughput\n",
    "#Throughput=((λ1+λ2)*MaxInSys+λ1*sum(M[Midxw2Full.==1,5])+λ2*sum(M[Midxw1Full.==1,5])) ###THIS IS WRONG\n",
    "Throughput=(μ1Same)*sum(M[μ1idx.==1,6])+(μ1Diff)*sum(M[μ1idx.==2,6])+(μ2Same)*sum(M[μ2idx.==1,6])+(μ2Diff)*sum(M[μ2idx.==2,6]) ## This is somehow wrong- ask Dr. King\n"
   ]
  },
  {
   "cell_type": "code",
   "execution_count": 88,
   "id": "afbf70ed-8b89-458f-b371-8a819fcfc3bc",
   "metadata": {},
   "outputs": [
    {
     "data": {
      "text/plain": [
       "0.9836298051999999"
      ]
     },
     "execution_count": 88,
     "metadata": {},
     "output_type": "execute_result"
    }
   ],
   "source": [
    "Throughput=(λst)*sum(M[λ1idx.==1,8])+(λst)*sum(M[λ2idx.==1,8])"
   ]
  },
  {
   "cell_type": "code",
   "execution_count": 90,
   "id": "85f7354b-b7e7-4df4-90ae-b99edc4d4973",
   "metadata": {},
   "outputs": [
    {
     "data": {
      "text/plain": [
       "1-element Vector{Float64}:\n",
       " 0.9836298052"
      ]
     },
     "execution_count": 90,
     "metadata": {},
     "output_type": "execute_result"
    }
   ],
   "source": [
    "Gain=μMat'*X"
   ]
  },
  {
   "cell_type": "code",
   "execution_count": null,
   "id": "c5e46073-b8ba-4166-9a4e-1a265e1199bd",
   "metadata": {},
   "outputs": [],
   "source": []
  }
 ],
 "metadata": {
  "kernelspec": {
   "display_name": "Julia 1.6.2",
   "language": "julia",
   "name": "julia-1.6"
  },
  "language_info": {
   "file_extension": ".jl",
   "mimetype": "application/julia",
   "name": "julia",
   "version": "1.6.2"
  }
 },
 "nbformat": 4,
 "nbformat_minor": 5
}
