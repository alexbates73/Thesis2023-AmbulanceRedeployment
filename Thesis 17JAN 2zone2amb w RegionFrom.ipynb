{
 "cells": [
  {
   "cell_type": "code",
   "execution_count": 4,
   "id": "6ac16505-1c84-415c-98f4-54118500583d",
   "metadata": {},
   "outputs": [
    {
     "data": {
      "text/plain": [
       "1336-element Vector{Int64}:\n",
       "    1\n",
       "    2\n",
       "    3\n",
       "    4\n",
       "    5\n",
       "    6\n",
       "    7\n",
       "    8\n",
       "    9\n",
       "   10\n",
       "   11\n",
       "   12\n",
       "   13\n",
       "    ⋮\n",
       " 1325\n",
       " 1326\n",
       " 1327\n",
       " 1328\n",
       " 1329\n",
       " 1330\n",
       " 1331\n",
       " 1332\n",
       " 1333\n",
       " 1334\n",
       " 1335\n",
       " 1336"
      ]
     },
     "execution_count": 4,
     "metadata": {},
     "output_type": "execute_result"
    }
   ],
   "source": [
    "max1demand=10   #use 1 more than actual demand\n",
    "max2demand=10    #use 1 more than actual demand\n",
    "max3demand=4    #use 1 more than actual demand\n",
    "sparti=[]  #start with null\n",
    "spartj=[]  #start with null\n",
    "spartk=[]  #start with null\n",
    "spartl=[]  #start with null\n",
    "spartm=[]\n",
    "spartn=[]\n",
    "sidx=[]    #start with null\n",
    "s=1        #start number for loop\n",
    "for i in 1:4          #Create an index to call\n",
    "    for j in 1:4\n",
    "        for k in 1:max1demand\n",
    "            for l in 1:max2demand\n",
    "                for m in 1:2\n",
    "                    for n in 1:2\n",
    "          #statei(i+1) = s\n",
    "            sparti = push!(sparti,i)  #for i in ijkl add to sparti definition\n",
    "            spartj = push!(spartj,j) #for j in ijkl add to spartj definition\n",
    "            spartk = push!(spartk,k) #for k in ijkl add to spartk definition\n",
    "            spartl = push!(spartl,l) #for l in ijkl add to spartl definition\n",
    "            spartm = push!(spartm,m) #for m in ijkl add to spartl definition\n",
    "            spartn = push!(spartn,n) #for n in ijkl add to spartl definition            \n",
    "            sidx= push!(sidx,s)      #create index in sidx\n",
    "            s=s+1\n",
    "                    end \n",
    "                end\n",
    "            end\n",
    "        end\n",
    "    end\n",
    "end\n",
    "\n",
    "#sparti\n",
    "#spartj\n",
    "#spartk\n",
    "#[sparti,spartj,spartk]\n",
    "#sidx\n",
    "\n",
    "#idxactive=  (sparti.>=4) .& (spartj+spartk+spartl.==3) ##(Wrapped into regional indices)\n",
    "idxidle= (sparti.<3) .& (spartj.<3) .& (spartk+spartl .>2)   #index all ijkl where idling cannot occur\n",
    "idxidle2= (sparti.>=3) .& (spartj.<3) .& (spartk+spartl .>3) #index where more than 2 calls exist but ambulance 2 is not busy\n",
    "idxidle1= (spartj.>=3) .& (sparti.<3) .& (spartk+spartl .>3) #index where more than 2 calls exist but ambulance 1 is not busy\n",
    "idxregion1= ((sparti.==3) .| (spartj.==3)) .& (spartk.==1)      #index all ijkl where region 1 is active but there are no calls in region 1 to service\n",
    "idxregion2= ((sparti.==4) .| (spartj.==4)) .& (spartl.==1)      #index all ijkl where region 2 is active but there are no calls in region 2 to service\n",
    "idxregion11= ((sparti.==3) .& (spartj.==3)) .& (spartk.==2)      #index all ijkl where region 1 is active with both ambulances but there is only 1 call in region 1 to service\n",
    "idxregion21= ((sparti.==4) .& (spartj.==4)) .& (spartl.==2)      #index all ijkl where region 2 is active with both ambulances but there is only 1 call in region 2 to service\n",
    "\n",
    "\n",
    "idxDEL=idxidle .| idxregion1 .| idxregion2 .| idxidle1  .| idxidle2 .| idxregion11 .| idxregion21 #index of the previous 3 indices\n",
    "\n",
    "deleteat!(sparti, BitArray(idxDEL)) #delete idxDEL\n",
    "deleteat!(spartj, BitArray(idxDEL)) #delete idxDEL\n",
    "deleteat!(spartk, BitArray(idxDEL)) #delete idxDEL\n",
    "deleteat!(spartl, BitArray(idxDEL)) #delete idxDEL\n",
    "deleteat!(spartm, BitArray(idxDEL)) #delete idxDEL\n",
    "deleteat!(spartn, BitArray(idxDEL)) #delete idxDEL  \n",
    "sidx= [1:length(sparti);]       #number of states"
   ]
  },
  {
   "cell_type": "code",
   "execution_count": 286,
   "id": "1ada1592-1651-4a78-a060-cc32b9378341",
   "metadata": {},
   "outputs": [
    {
     "data": {
      "text/plain": [
       "46-element Vector{Float64}:\n",
       " 0.0\n",
       " 0.0\n",
       " 0.0\n",
       " 0.0\n",
       " 0.0\n",
       " 0.0\n",
       " 0.0\n",
       " 0.0\n",
       " 0.0\n",
       " 0.0\n",
       " 0.0\n",
       " 0.0\n",
       " 0.0\n",
       " ⋮\n",
       " 0.0\n",
       " 0.0\n",
       " 0.0\n",
       " 0.0\n",
       " 0.0\n",
       " 0.0\n",
       " 0.0\n",
       " 0.0\n",
       " 0.0\n",
       " 0.0\n",
       " 0.0\n",
       " 0.0"
      ]
     },
     "execution_count": 286,
     "metadata": {},
     "output_type": "execute_result"
    }
   ],
   "source": [
    "μ1idx=zeros(length(sidx))"
   ]
  },
  {
   "cell_type": "code",
   "execution_count": 5,
   "id": "e12ac549-ba62-4aab-b330-da42c3c1eeac",
   "metadata": {},
   "outputs": [],
   "source": [
    "#Add Arrival Code\n",
    "λst=.5  #Define overall Arrival Rate for every zone\n",
    "#λ1=.5  #Define Arrival Rate for Zone1\n",
    "#λ2=.5  #Define Arrival Rate for Zone2                \n",
    "μMatr=[1.5 1; \n",
    "        1 1.5]\n",
    "# μ11=1  #Define Service Rate from Zone1 to Zone1\n",
    "# μ12=.7 #Define Service Rate from Zone1 to Zone2\n",
    "# μ21=.7 #Define Service Rate from Zone2 to Zone1\n",
    "# μ22=1  #Define Service Rate from Zone2 to Zone2\n",
    "matrix= zeros(length(sidx),length(sidx))\n",
    "μ1idx=zeros(length(sidx))\n",
    "μ2idx=zeros(length(sidx))\n",
    "λidx=zeros(length(sidx))\n",
    "using LinearAlgebra\n"
   ]
  },
  {
   "cell_type": "code",
   "execution_count": 6,
   "id": "7f76e795-5482-48f2-83cb-d56a9a931cf1",
   "metadata": {
    "tags": []
   },
   "outputs": [],
   "source": [
    " for s in 1:length(sidx)\n",
    "    Zoneflag1 = sparti[s]\n",
    "    Zoneflag2= spartj[s]\n",
    "    Call1 = spartk[s]\n",
    "    Call2 = spartl[s]\n",
    "    RegionFrom1= spartm[s]\n",
    "    RegionFrom2= spartn[s]\n",
    "    nextZoneflag1 = 0\n",
    "    nextZoneflag2 = 0\n",
    "    nextCall1=0\n",
    "    nextCall2=0\n",
    "    nextRegionFrom1=0\n",
    "    nextRegionFrom2=0\n",
    "    nexts=0\n",
    "    λ= 0    \n",
    " #   Arrival at region 1\n",
    "    if Call1<max1demand\n",
    "        nextCall1= Call1+1\n",
    "        nextCall2= Call2        \n",
    "        if Zoneflag1 == 1 \n",
    "            if Zoneflag2>1\n",
    "             nextZoneflag1=3\n",
    "             nextZoneflag2=Zoneflag2\n",
    "             nextRegionFrom1=1\n",
    "             nextRegionFrom2=RegionFrom2\n",
    "             λ=λst\n",
    "             idx= (sparti.==nextZoneflag1) .& (spartj.==nextZoneflag2) .& (spartk.==nextCall1) .&(spartl.==nextCall2) .& (spartm.==nextRegionFrom1) .&(spartn.==nextRegionFrom2)\n",
    "             nexts= sidx[idx] \n",
    "             matrix[nexts,s].= matrix[nexts,s].+λ\n",
    "             matrix[s,s]= matrix[s,s]-λ       \n",
    "             λidx[s]=1 \n",
    "            else \n",
    "             λ=λst/2\n",
    "             nextRegionFrom1=1\n",
    "             nextRegionFrom2=1\n",
    "             idx= (sparti.==3) .& (spartj.==1) .& (spartk.==nextCall1) .&(spartl.==nextCall2).& (spartm.==nextRegionFrom1) .&(spartn.==nextRegionFrom2)\n",
    "             nexts= sidx[idx] \n",
    "             matrix[nexts,s].= matrix[nexts,s].+λ\n",
    "             matrix[s,s]= matrix[s,s]-λ \n",
    "             idx= (sparti.==1) .& (spartj.==3) .& (spartk.==nextCall1) .&(spartl.==nextCall2) .& (spartm.==nextRegionFrom1) .&(spartn.==nextRegionFrom2)\n",
    "             nexts= sidx[idx] \n",
    "             matrix[nexts,s].=matrix[nexts,s].+λ\n",
    "             matrix[s,s]= matrix[s,s]-λ   \n",
    "             λidx[s]=1 \n",
    "            end\n",
    "        elseif Zoneflag1 == 2 \n",
    "            if Zoneflag2>2\n",
    "             nextZoneflag1=3\n",
    "             nextZoneflag2=Zoneflag2\n",
    "             nextRegionFrom1=2\n",
    "             nextRegionFrom2=RegionFrom2\n",
    "             λ=λst\n",
    "             idx= (sparti.==nextZoneflag1) .& (spartj.==nextZoneflag2) .& (spartk.==nextCall1) .&(spartl.==nextCall2) .& (spartm.==nextRegionFrom1) .&(spartn.==nextRegionFrom2)\n",
    "             nexts= sidx[idx] \n",
    "             matrix[nexts,s].= matrix[nexts,s].+λ\n",
    "             matrix[s,s]= matrix[s,s]-λ   \n",
    "             λidx[s]=1    \n",
    "            elseif Zoneflag2==1\n",
    "             nextZoneflag1=Zoneflag1\n",
    "             nextZoneflag2=3\n",
    "             nextRegionFrom1=RegionFrom1\n",
    "             nextRegionFrom2=1 \n",
    "             λ=λst\n",
    "             idx= (sparti.==nextZoneflag1) .& (spartj.==nextZoneflag2) .& (spartk.==nextCall1) .&(spartl.==nextCall2) .& (spartm.==nextRegionFrom1) .&(spartn.==nextRegionFrom2)\n",
    "             nexts= sidx[idx] \n",
    "             matrix[nexts,s].= matrix[nexts,s].+λ\n",
    "             matrix[s,s]= matrix[s,s]-λ\n",
    "             λidx[s]=1 \n",
    "            else \n",
    "             λ=λst/2   \n",
    "             nextRegionFrom1=2\n",
    "             nextRegionFrom2=2                 \n",
    "             idx= (sparti.==3) .& (spartj.==2) .& (spartk.==nextCall1) .&(spartl.==nextCall2) .& (spartm.==nextRegionFrom1) .&(spartn.==nextRegionFrom2)\n",
    "             nexts= sidx[idx] \n",
    "             matrix[nexts,s].= matrix[nexts,s].+λ\n",
    "             matrix[s,s]= matrix[s,s]-λ \n",
    "             idx= (sparti.==2) .& (spartj.==3) .& (spartk.==nextCall1) .&(spartl.==nextCall2) .& (spartm.==nextRegionFrom1) .&(spartn.==nextRegionFrom2)\n",
    "             nexts= sidx[idx] \n",
    "             matrix[nexts,s].=matrix[nexts,s].+λ\n",
    "             matrix[s,s]= matrix[s,s]-λ \n",
    "             λidx[s]=1 \n",
    "            end            \n",
    "        elseif Zoneflag1>2 && Zoneflag2<=2\n",
    "            nextZoneflag1 = Zoneflag1  \n",
    "            nextZoneflag2 = 3 \n",
    "            nextRegionFrom1=RegionFrom1\n",
    "            nextRegionFrom2=Zoneflag2\n",
    "            λ=λst\n",
    "            idx= (sparti.==nextZoneflag1) .& (spartj.==nextZoneflag2) .& (spartk.==nextCall1) .&(spartl.==nextCall2) .& (spartm.==nextRegionFrom1) .&(spartn.==nextRegionFrom2)\n",
    "            nexts= sidx[idx] \n",
    "            matrix[nexts,s].= matrix[nexts,s].+λ\n",
    "            matrix[s,s]= matrix[s,s]-λ        \n",
    "            λidx[s]=1 \n",
    "        else Zoneflag1>2 && Zoneflag2>2\n",
    "            nextZoneflag1 = Zoneflag1\n",
    "            nextZoneflag2 = Zoneflag2\n",
    "            nextRegionFrom1=RegionFrom1\n",
    "            nextRegionFrom2=RegionFrom2\n",
    "            λ=λst\n",
    "            idx= (sparti.==nextZoneflag1) .& (spartj.==nextZoneflag2) .& (spartk.==nextCall1) .&(spartl.==nextCall2) .& (spartm.==nextRegionFrom1) .&(spartn.==nextRegionFrom2)\n",
    "            nexts= sidx[idx] \n",
    "            matrix[nexts,s].= matrix[nexts,s].+λ\n",
    "            matrix[s,s]= matrix[s,s]-λ  \n",
    "            λidx[s]=1 \n",
    "        end        \n",
    "    end\n",
    "end  "
   ]
  },
  {
   "cell_type": "code",
   "execution_count": 8,
   "id": "de7d57b2-bf97-4a05-a84b-ead0b4842199",
   "metadata": {},
   "outputs": [
    {
     "data": {
      "text/plain": [
       "0.0"
      ]
     },
     "execution_count": 8,
     "metadata": {},
     "output_type": "execute_result"
    }
   ],
   "source": [
    "sum(matrix)"
   ]
  },
  {
   "cell_type": "code",
   "execution_count": 12,
   "id": "57b2d286-e451-4eef-bb90-c5739b7d8ef1",
   "metadata": {},
   "outputs": [
    {
     "data": {
      "text/plain": [
       "0.0"
      ]
     },
     "execution_count": 12,
     "metadata": {},
     "output_type": "execute_result"
    }
   ],
   "source": [
    "  for s in 1:length(sidx)\n",
    "    Zoneflag1 = sparti[s]\n",
    "    Zoneflag2= spartj[s]\n",
    "    Call1 = spartk[s]\n",
    "    Call2 = spartl[s]\n",
    "    RegionFrom1= spartm[s]\n",
    "    RegionFrom2= spartn[s]    \n",
    "    nextZoneflag1 = 0\n",
    "    nextZoneflag2 = 0\n",
    "    nextCall1=0\n",
    "    nextCall2=0\n",
    "    nextRegionFrom1=0\n",
    "    nextRegionFrom2=0    \n",
    "    nexts=0\n",
    "    λ= 0  \n",
    "  #   Arrival at region 2\n",
    "    if Call2<max2demand\n",
    "        nextCall1= Call1\n",
    "        nextCall2= Call2+1               \n",
    "        if Zoneflag1 == 2 \n",
    "            if Zoneflag2!=2\n",
    "             nextZoneflag1=4\n",
    "             nextZoneflag2=Zoneflag2\n",
    "             nextRegionFrom1=2\n",
    "             nextRegionFrom2=RegionFrom2\n",
    "             λ=λst\n",
    "             idx= (sparti.==nextZoneflag1) .& (spartj.==nextZoneflag2) .& (spartk.==nextCall1) .&(spartl.==nextCall2) .& (spartm.==nextRegionFrom1) .&(spartn.==nextRegionFrom2)\n",
    "             nexts= sidx[idx] \n",
    "             matrix[nexts,s].= matrix[nexts,s].+λ\n",
    "             matrix[s,s]= matrix[s,s]-λ\n",
    "                λidx[s]=1 \n",
    "            else \n",
    "             λ=λst/2   \n",
    "             nextRegionFrom1=2\n",
    "             nextRegionFrom2=2            \n",
    "             idx= (sparti.==4) .& (spartj.==2) .& (spartk.==nextCall1) .&(spartl.==nextCall2) .& (spartm.==nextRegionFrom1) .&(spartn.==nextRegionFrom2)\n",
    "             nexts= sidx[idx] \n",
    "             matrix[nexts,s].= matrix[nexts,s].+λ\n",
    "             matrix[s,s]= matrix[s,s]-λ \n",
    "             idx= (sparti.==2) .& (spartj.==4) .& (spartk.==nextCall1) .&(spartl.==nextCall2) .& (spartm.==nextRegionFrom1) .&(spartn.==nextRegionFrom2)\n",
    "             nexts= sidx[idx] \n",
    "             matrix[nexts,s].=matrix[nexts,s].+λ\n",
    "             matrix[s,s]= matrix[s,s]-λ\n",
    "                λidx[s]=1 \n",
    "            end\n",
    "        elseif Zoneflag1 == 1\n",
    "            if Zoneflag2>2\n",
    "             nextZoneflag1=4\n",
    "             nextZoneflag2=Zoneflag2\n",
    "             nextRegionFrom1=1\n",
    "             nextRegionFrom2=RegionFrom2                            \n",
    "             λ=λst\n",
    "             idx= (sparti.==nextZoneflag1) .& (spartj.==nextZoneflag2) .& (spartk.==nextCall1) .&(spartl.==nextCall2) .& (spartm.==nextRegionFrom1) .&(spartn.==nextRegionFrom2)\n",
    "             nexts= sidx[idx] \n",
    "             matrix[nexts,s].= matrix[nexts,s].+λ\n",
    "             matrix[s,s]= matrix[s,s]-λ   \n",
    "                λidx[s]=1 \n",
    "            elseif Zoneflag2==2                \n",
    "             nextZoneflag1=Zoneflag1\n",
    "             nextZoneflag2=4\n",
    "             nextRegionFrom1=RegionFrom1\n",
    "             nextRegionFrom2=2                  \n",
    "             λ=λst\n",
    "             idx= (sparti.==nextZoneflag1) .& (spartj.==nextZoneflag2) .& (spartk.==nextCall1) .&(spartl.==nextCall2) .& (spartm.==nextRegionFrom1) .&(spartn.==nextRegionFrom2)\n",
    "             nexts= sidx[idx] \n",
    "             matrix[nexts,s].= matrix[nexts,s].+λ\n",
    "             matrix[s,s]= matrix[s,s]-λ    \n",
    "                λidx[s]=1 \n",
    "            else \n",
    "             λ=λst/2   \n",
    "             nextRegionFrom1=1\n",
    "             nextRegionFrom2=1                  \n",
    "             idx= (sparti.==4) .& (spartj.==1) .& (spartk.==nextCall1) .&(spartl.==nextCall2) .& (spartm.==nextRegionFrom1) .&(spartn.==nextRegionFrom2)\n",
    "             nexts= sidx[idx] \n",
    "             matrix[nexts,s].= matrix[nexts,s].+λ\n",
    "             matrix[s,s]= matrix[s,s]-λ \n",
    "             idx= (sparti.==1) .& (spartj.==4) .& (spartk.==nextCall1) .&(spartl.==nextCall2) .& (spartm.==nextRegionFrom1) .&(spartn.==nextRegionFrom2)\n",
    "             nexts= sidx[idx] \n",
    "             matrix[nexts,s].=matrix[nexts,s].+λ\n",
    "             matrix[s,s]= matrix[s,s]-λ   \n",
    "                λidx[s]=1 \n",
    "            end            \n",
    "        elseif Zoneflag1>2 && Zoneflag2<=2\n",
    "            nextZoneflag1 = Zoneflag1  \n",
    "            nextZoneflag2 = 4\n",
    "            nextRegionFrom1=RegionFrom1\n",
    "            nextRegionFrom2=Zoneflag2   \n",
    "            λ=λst\n",
    "            idx= (sparti.==nextZoneflag1) .& (spartj.==nextZoneflag2) .& (spartk.==nextCall1) .&(spartl.==nextCall2) .& (spartm.==nextRegionFrom1) .&(spartn.==nextRegionFrom2)\n",
    "            nexts= sidx[idx] \n",
    "            matrix[nexts,s].= matrix[nexts,s].+λ\n",
    "            matrix[s,s]= matrix[s,s]-λ \n",
    "            λidx[s]=1 \n",
    "        \n",
    "        else Zoneflag1>2 && Zoneflag2>2\n",
    "            nextZoneflag1 = Zoneflag1\n",
    "            nextZoneflag2 = Zoneflag2\n",
    "            nextRegionFrom1=RegionFrom1\n",
    "            nextRegionFrom2=RegionFrom2\n",
    "            λ=λst\n",
    "            idx= (sparti.==nextZoneflag1) .& (spartj.==nextZoneflag2) .& (spartk.==nextCall1) .&(spartl.==nextCall2) .& (spartm.==nextRegionFrom1) .&(spartn.==nextRegionFrom2)\n",
    "            nexts= sidx[idx] \n",
    "            matrix[nexts,s].= matrix[nexts,s].+λ\n",
    "            matrix[s,s]= matrix[s,s]-λ\n",
    "            λidx[s]=1 \n",
    "        end\n",
    "    end\n",
    "end\n",
    "sum(matrix)"
   ]
  },
  {
   "cell_type": "code",
   "execution_count": 290,
   "id": "98477bc2-c823-4761-9d78-4f712ffbb0f4",
   "metadata": {},
   "outputs": [
    {
     "data": {
      "text/plain": [
       "46-element Vector{Float64}:\n",
       " 0.0\n",
       " 0.0\n",
       " 0.0\n",
       " 0.0\n",
       " 0.0\n",
       " 0.0\n",
       " 0.0\n",
       " 0.0\n",
       " 1.0\n",
       " 1.0\n",
       " 1.0\n",
       " 2.0\n",
       " 2.0\n",
       " ⋮\n",
       " 1.0\n",
       " 2.0\n",
       " 2.0\n",
       " 1.0\n",
       " 1.0\n",
       " 1.0\n",
       " 2.0\n",
       " 1.0\n",
       " 2.0\n",
       " 2.0\n",
       " 2.0\n",
       " 2.0"
      ]
     },
     "execution_count": 290,
     "metadata": {},
     "output_type": "execute_result"
    }
   ],
   "source": [
    "for s in 1:length(sidx)\n",
    "    Zoneflag1 = sparti[s]\n",
    "    Zoneflag2= spartj[s]\n",
    "    Call1 = spartk[s]\n",
    "    Call2 = spartl[s]\n",
    "    RegionFrom1= spartm[s]\n",
    "    RegionFrom2= spartn[s]    \n",
    "    nextZoneflag1 = 0\n",
    "    nextZoneflag2 = 0\n",
    "    nextCall1=0\n",
    "    nextCall2=0\n",
    "    nextRegionFrom1= 0\n",
    "    nextRegionFrom2= 0    \n",
    "    nexts=0\n",
    "    RegionService= 0         \n",
    "     #Service from Region to Region    \n",
    "     if Zoneflag1 == 3\n",
    "        if Zoneflag2 == 4\n",
    "            if Call2 > Call1\n",
    "                RegionService = μMatr[1,RegionFrom1]\n",
    "                nextZoneflag1= 4\n",
    "                nextZoneflag2= Zoneflag2\n",
    "                nextRegionFrom1=1\n",
    "                nextRegionFrom2=2\n",
    "                nextCall1= Call1-1\n",
    "                nextCall2= Call2\n",
    "            else\n",
    "                if Call1==2\n",
    "                    RegionService = μMatr[1,RegionFrom1]\n",
    "                    nextZoneflag1= 1\n",
    "                    nextZoneflag2= Zoneflag2\n",
    "                    nextCall1= Call1-1\n",
    "                    nextCall2= Call2\n",
    "                    nextRegionFrom1=1\n",
    "                    nextRegionFrom2=2\n",
    "                else \n",
    "                    RegionService = μMatr[1,RegionFrom1]\n",
    "                    nextZoneflag1= Zoneflag1\n",
    "                    nextZoneflag2= Zoneflag2\n",
    "                    nextCall1= Call1-1\n",
    "                    nextCall2= Call2   \n",
    "                    nextRegionFrom1=1\n",
    "                    nextRegionFrom2=2                    \n",
    "                end \n",
    "            end           \n",
    "        elseif Zoneflag2==3\n",
    "            if Call2>=Call1-1\n",
    "                RegionService = μMatr[1,RegionFrom1]\n",
    "                nextZoneflag1= 4\n",
    "                nextZoneflag2= Zoneflag2\n",
    "                nextCall1= Call1-1\n",
    "                nextCall2= Call2\n",
    "                nextRegionFrom1=1\n",
    "                nextRegionFrom2=1                   \n",
    "            elseif Call1>3\n",
    "                RegionService = μMatr[1,RegionFrom1]\n",
    "                nextZoneflag1= Zoneflag1\n",
    "                nextZoneflag2= Zoneflag2\n",
    "                nextCall1= Call1-1\n",
    "                nextCall2= Call2  \n",
    "                nextRegionFrom1=1\n",
    "                nextRegionFrom2=1  \n",
    "            else\n",
    "                RegionService = μMatr[1,RegionFrom1]\n",
    "                nextZoneflag1= 1\n",
    "                nextZoneflag2= Zoneflag2\n",
    "                nextCall1= Call1-1\n",
    "                nextCall2= Call2  \n",
    "                nextRegionFrom1=1\n",
    "                nextRegionFrom2=1  \n",
    "            end \n",
    "        else \n",
    "                RegionService = μMatr[1,RegionFrom1]\n",
    "                nextZoneflag1= 1\n",
    "                nextZoneflag2= Zoneflag2\n",
    "                nextCall1= Call1-1\n",
    "                nextCall2= Call2  \n",
    "                nextRegionFrom1=1\n",
    "                nextRegionFrom2=1  \n",
    "        end      \n",
    "    elseif Zoneflag1==4  \n",
    "          if Zoneflag2 == 3\n",
    "            if Call1 > Call2\n",
    "                RegionService = μMatr[2,RegionFrom1]\n",
    "                nextZoneflag1= 3\n",
    "                nextZoneflag2= Zoneflag2\n",
    "                nextCall1= Call1\n",
    "                nextCall2= Call2-1\n",
    "                nextRegionFrom1=2\n",
    "                nextRegionFrom2=1                  \n",
    "            else\n",
    "                if Call2==2\n",
    "                    RegionService = μMatr[2,RegionFrom1]\n",
    "                    nextZoneflag1= 2\n",
    "                    nextZoneflag2= Zoneflag2\n",
    "                    nextCall1= Call1\n",
    "                    nextCall2= Call2-1   \n",
    "                    nextRegionFrom1=2\n",
    "                    nextRegionFrom2=1 \n",
    "                else \n",
    "                    RegionService = μMatr[2,RegionFrom1]\n",
    "                    nextZoneflag1= Zoneflag1\n",
    "                    nextZoneflag2= Zoneflag2\n",
    "                    nextCall1= Call1\n",
    "                    nextCall2= Call2-1      \n",
    "                    nextRegionFrom1=2\n",
    "                    nextRegionFrom2=1 \n",
    "                end \n",
    "            end            \n",
    "        elseif Zoneflag2==4\n",
    "            if Call1>=Call2-1\n",
    "                RegionService = μMatr[2,RegionFrom1]\n",
    "                nextZoneflag1= 3\n",
    "                nextZoneflag2= Zoneflag2\n",
    "                nextCall1= Call1\n",
    "                nextCall2= Call2-1\n",
    "                nextRegionFrom1=2\n",
    "                nextRegionFrom2=2 \n",
    "            elseif Call1>1\n",
    "                RegionService = μMatr[2,RegionFrom1]\n",
    "                nextZoneflag1= Zoneflag1\n",
    "                nextZoneflag2= Zoneflag2\n",
    "                nextCall1= Call1\n",
    "                nextCall2= Call2-1  \n",
    "                nextRegionFrom1=2\n",
    "                nextRegionFrom2=2 \n",
    "            else \n",
    "                RegionService = μMatr[2,RegionFrom1]\n",
    "                nextZoneflag1= 2\n",
    "                nextZoneflag2= Zoneflag2\n",
    "                nextCall1= Call1\n",
    "                nextCall2= Call2-1   \n",
    "                nextRegionFrom1=2\n",
    "                nextRegionFrom2=2 \n",
    "            end \n",
    "        else \n",
    "                RegionService = μMatr[2,RegionFrom1]\n",
    "                nextZoneflag1= 2\n",
    "                nextZoneflag2= Zoneflag2\n",
    "                nextCall1= Call1\n",
    "                nextCall2= Call2-1     \n",
    "                nextRegionFrom1=2\n",
    "                nextRegionFrom2=2 \n",
    "        end         \n",
    "    else\n",
    "    end        \n",
    "         idx= (sparti.==nextZoneflag1) .& (spartj.==nextZoneflag2) .& (spartk.==nextCall1) .&(spartl.==nextCall2).& (spartm.==nextRegionFrom1) .&(spartn.==nextRegionFrom2)\n",
    "         nexts= sidx[idx] \n",
    "         matrix[nexts,s]= matrix[nexts,s] .+ RegionService\n",
    "         matrix[s,s]= matrix[s,s].- RegionService     \n",
    "end\n",
    "matrix\n"
   ]
  },
  {
   "cell_type": "code",
   "execution_count": 294,
   "id": "449dc2aa-1b11-4159-97a8-a4bde4270f8d",
   "metadata": {},
   "outputs": [
    {
     "data": {
      "text/plain": [
       "46-element Vector{Float64}:\n",
       " 1.0\n",
       " 1.0\n",
       " 1.0\n",
       " 1.0\n",
       " 1.0\n",
       " 1.0\n",
       " 1.0\n",
       " 1.0\n",
       " 1.0\n",
       " 1.0\n",
       " 1.0\n",
       " 1.0\n",
       " 1.0\n",
       " ⋮\n",
       " 1.0\n",
       " 1.0\n",
       " 1.0\n",
       " 0.0\n",
       " 1.0\n",
       " 1.0\n",
       " 1.0\n",
       " 1.0\n",
       " 1.0\n",
       " 1.0\n",
       " 1.0\n",
       " 0.0"
      ]
     },
     "execution_count": 294,
     "metadata": {},
     "output_type": "execute_result"
    }
   ],
   "source": [
    "for s in 1:length(sidx)\n",
    "    Zoneflag1 = sparti[s]\n",
    "    Zoneflag2= spartj[s]\n",
    "    Call1 = spartk[s]\n",
    "    Call2 = spartl[s]\n",
    "    nextZoneflag1 = 0\n",
    "    nextZoneflag2 = 0\n",
    "    nextCall1=0\n",
    "    nextCall2=0\n",
    "    nexts=0\n",
    "    RegionService= 0   \n",
    "     if Zoneflag2 == 4\n",
    "        if Zoneflag1 == 3\n",
    "            if Call1 > Call2\n",
    "                RegionService = μ2Diff\n",
    "                nextZoneflag1= Zoneflag1\n",
    "                nextZoneflag2= 3\n",
    "                nextCall1= Call1\n",
    "                nextCall2= Call2-1\n",
    "                μ2idx[s]=2\n",
    "            else\n",
    "                if Call2==2\n",
    "                    RegionService = μ2Same\n",
    "                    nextZoneflag1= Zoneflag1\n",
    "                    nextZoneflag2= 2\n",
    "                    nextCall1= Call1\n",
    "                    nextCall2= Call2 -1    \n",
    "                    μ2idx[s]=1\n",
    "                else \n",
    "                    RegionService = μ2Same\n",
    "                    nextZoneflag1= Zoneflag1\n",
    "                    nextZoneflag2= Zoneflag2\n",
    "                    nextCall1= Call1\n",
    "                    nextCall2= Call2-1     \n",
    "                    μ2idx[s]=1\n",
    "                end \n",
    "            end           \n",
    "        elseif Zoneflag1 == 4\n",
    "            if Call1>=Call2-1\n",
    "                RegionService = μ2Diff\n",
    "                nextZoneflag1= Zoneflag1\n",
    "                nextZoneflag2= 3\n",
    "                nextCall1= Call1\n",
    "                nextCall2= Call2-1\n",
    "                μ2idx[s]=2\n",
    "            elseif Call1>1\n",
    "                RegionService = μ2Same\n",
    "                nextZoneflag1= Zoneflag1\n",
    "                nextZoneflag2= Zoneflag2\n",
    "                nextCall1= Call1\n",
    "                nextCall2= Call2-1 \n",
    "                μ2idx[s]=1\n",
    "            else                \n",
    "                RegionService = μ2Same\n",
    "                nextZoneflag1= Zoneflag1\n",
    "                nextZoneflag2= 2\n",
    "                nextCall1= Call1\n",
    "                nextCall2= Call2-1 \n",
    "                μ2idx[s]=1\n",
    "            end \n",
    "        else \n",
    "                RegionService = μ2Same\n",
    "                nextZoneflag1= Zoneflag1\n",
    "                nextZoneflag2= 2\n",
    "                nextCall1= Call1\n",
    "                nextCall2= Call2-1 \n",
    "                μ2idx[s]=1\n",
    "        end        \n",
    "    elseif Zoneflag2 == 3\n",
    "        if Zoneflag1 == 4\n",
    "            if Call2 > Call1\n",
    "                RegionService = μ2Diff\n",
    "                nextZoneflag1= Zoneflag1\n",
    "                nextZoneflag2= 4\n",
    "                nextCall1= Call1-1\n",
    "                nextCall2= Call2\n",
    "                μ2idx[s]=2\n",
    "            else\n",
    "                if Call1==2\n",
    "                    RegionService = μ2Same\n",
    "                    nextZoneflag1= Zoneflag1\n",
    "                    nextZoneflag2= 1\n",
    "                    nextCall1= Call1 -1\n",
    "                    nextCall2= Call2    \n",
    "                    μ2idx[s]=1\n",
    "                else \n",
    "                    RegionService = μ2Same\n",
    "                    nextZoneflag1= Zoneflag1\n",
    "                    nextZoneflag2= Zoneflag2\n",
    "                    nextCall1= Call1-1\n",
    "                    nextCall2= Call2 \n",
    "                    μ2idx[s]=1\n",
    "                end \n",
    "            end           \n",
    "        elseif Zoneflag1==3\n",
    "            if Call2>=Call1-1\n",
    "                RegionService = μ2Diff\n",
    "                nextZoneflag1= Zoneflag1\n",
    "                nextZoneflag2= 4\n",
    "                nextCall1= Call1-1\n",
    "                nextCall2= Call2\n",
    "                μ2idx[s]=2\n",
    "            elseif Call2>1\n",
    "                RegionService = μ2Same\n",
    "                nextZoneflag1= Zoneflag1\n",
    "                nextZoneflag2= Zoneflag2\n",
    "                nextCall1= Call1-1\n",
    "                nextCall2= Call2  \n",
    "                μ2idx[s]=1\n",
    "            else                    \n",
    "                RegionService = μ2Same\n",
    "                nextZoneflag1= Zoneflag1\n",
    "                nextZoneflag2= 1\n",
    "                nextCall1= Call1-1 \n",
    "                nextCall2= Call2    \n",
    "                μ2idx[s]=1\n",
    "            end \n",
    "        else \n",
    "                RegionService = μ2Same\n",
    "                nextZoneflag1= Zoneflag1\n",
    "                nextZoneflag2= 1\n",
    "                nextCall1= Call1-1\n",
    "                nextCall2= Call2     \n",
    "                μ2idx[s]=1\n",
    "        end          \n",
    "    end\n",
    " idx= (sparti.==nextZoneflag1) .& (spartj.==nextZoneflag2) .& (spartk.==nextCall1) .&(spartl.==nextCall2).& (spartm.==nextRegionFrom1) .&(spartn.==nextRegionFrom2)\n",
    "         nexts= sidx[idx] \n",
    "         nexts= sidx[idx] \n",
    "         matrix[nexts,s]= matrix[nexts,s] .+ RegionService\n",
    "         matrix[s,s]= matrix[s,s].- RegionService          \n",
    "end\n",
    "matrix\n",
    "λidx"
   ]
  },
  {
   "cell_type": "code",
   "execution_count": 292,
   "id": "9b736343-5c40-4adf-bd51-1f9795c67e91",
   "metadata": {},
   "outputs": [
    {
     "name": "stdout",
     "output_type": "stream",
     "text": [
      "[0.0, 0.0, 0.0, 0.0, 0.0, -1.0, 0.25, 0.25, 0.0, 0.25, 0.0, 0.0, 0.0, 0.0, 0.0, 0.0, 0.0, 0.0, 0.0, 0.0, 0.0, 0.0, 0.0, 0.0, 0.0, 0.0, 0.0, 0.0, 0.25, 0.0, 0.0, 0.0, 0.0, 0.0, 0.0, 0.0, 0.0, 0.0, 0.0, 0.0, 0.0, 0.0, 0.0, 0.0, 0.0, 0.0]"
     ]
    }
   ],
   "source": [
    "print(matrix[:,6])"
   ]
  },
  {
   "cell_type": "code",
   "execution_count": 293,
   "id": "6c6a2d79-379f-448a-8ca2-0d9deb896df7",
   "metadata": {
    "tags": []
   },
   "outputs": [],
   "source": [
    "matrix[length(sidx),:].= 1; #prep Ahat for matrix inversion"
   ]
  },
  {
   "cell_type": "code",
   "execution_count": 258,
   "id": "c313f78e-4a29-438b-897e-f71441de3229",
   "metadata": {},
   "outputs": [
    {
     "data": {
      "text/plain": [
       "46×46 Matrix{Float64}:\n",
       " -1.0    0.0   1.25   0.0    0.0  …   0.0   0.0   0.0   0.0   0.0   0.0\n",
       "  0.0   -1.0   0.0    1.25   0.0      0.0   0.0   0.0   0.0   0.0   0.0\n",
       "  0.25   0.0  -2.25   0.0    0.0      0.0   0.0   0.0   0.0   0.0   0.0\n",
       "  0.25   0.5   0.0   -2.25   0.0      0.0   0.0   0.0   0.0   0.0   0.0\n",
       "  0.0    0.0   0.0    0.0   -1.0      0.0   0.0   0.0   0.0   0.0   0.0\n",
       "  0.0    0.0   0.0    0.0    0.0  …   0.0   0.0   0.0   0.0   0.0   0.0\n",
       "  0.0    0.0   0.0    0.0    0.5      0.0   0.0   0.0   0.0   0.0   0.0\n",
       "  0.0    0.0   0.0    0.0    0.0      0.0   0.0   0.0   0.0   0.0   0.0\n",
       "  0.25   0.0   0.0    0.0    0.0      0.0   0.0   0.0   0.0   0.0   0.0\n",
       "  0.0    0.5   0.0    0.0    0.0      0.0   0.0   0.0   0.0   0.0   0.0\n",
       "  0.0    0.0   0.5    0.0    0.0  …   0.0   0.0   0.0   0.0   0.0   0.0\n",
       "  0.0    0.0   0.0    0.0    0.0      0.0   0.0   0.0   0.0   0.0   0.0\n",
       "  0.0    0.0   0.0    0.0    0.0      0.0   0.0   0.0   0.0   0.0   0.0\n",
       "  ⋮                               ⋱   ⋮                             ⋮\n",
       "  0.0    0.0   0.0    0.0    0.0      0.0   0.0   0.0   0.0   0.0   0.0\n",
       "  0.0    0.0   0.0    0.0    0.0  …   0.0   0.0   0.0   0.0   0.75  0.0\n",
       "  0.0    0.0   0.0    0.0    0.0      0.0   0.0   0.0   0.0   0.0   0.75\n",
       "  0.0    0.0   0.0    0.0    0.0      0.0   0.0   0.0   0.0   0.0   0.0\n",
       "  0.0    0.0   0.0    0.5    0.0      0.0   0.0   0.0   0.0   0.0   0.0\n",
       "  0.0    0.0   0.0    0.0    0.0      0.0   0.0   0.0   0.0   0.0   0.0\n",
       "  0.0    0.0   0.0    0.0    0.0  …  -2.5   2.5   0.0   0.0   0.0   0.0\n",
       "  0.0    0.0   0.0    0.0    0.0      0.5  -3.0   0.0   0.0   0.0   0.0\n",
       "  0.0    0.0   0.0    0.0    0.0      0.5   0.0  -2.5   0.0   0.0   0.0\n",
       "  0.0    0.0   0.0    0.0    0.0      0.0   0.5   0.5  -2.0   0.0   0.0\n",
       "  0.0    0.0   0.0    0.0    0.0      0.0   0.0   0.5   0.0  -2.0   0.0\n",
       "  1.0    1.0   1.0    1.0    1.0  …   1.0   1.0   1.0   1.0   1.0   1.0"
      ]
     },
     "execution_count": 258,
     "metadata": {},
     "output_type": "execute_result"
    }
   ],
   "source": [
    "matrix"
   ]
  },
  {
   "cell_type": "code",
   "execution_count": 259,
   "id": "8d8d5787-7583-4203-8c6e-2c4ed4185022",
   "metadata": {
    "tags": []
   },
   "outputs": [],
   "source": [
    "inverse=inv(matrix); #invert Ahat matrix\n",
    "#sum(inverse[:,length(sidx)]) #validate that sum of π equals 1"
   ]
  },
  {
   "cell_type": "code",
   "execution_count": 260,
   "id": "6d797658-70da-468a-88f7-90f7072c68f7",
   "metadata": {
    "tags": []
   },
   "outputs": [
    {
     "data": {
      "text/plain": [
       "46-element Vector{Float64}:\n",
       " 0.05147157273388092\n",
       " 0.14145944093944973\n",
       " 0.020588629093552302\n",
       " 0.05657281293357943\n",
       " 0.1414594409394494\n",
       " 0.05166891469348775\n",
       " 0.056594739817980216\n",
       " 0.0206675658773951\n",
       " 0.020588629093552337\n",
       " 0.05659473981798022\n",
       " 0.026765217821618035\n",
       " 0.013228153084481713\n",
       " 0.0026456306168963373\n",
       " ⋮\n",
       " 0.003929718468249603\n",
       " 0.00234850176352214\n",
       " 0.00946246117258983\n",
       " 0.002678435928167881\n",
       " 0.026867835640613628\n",
       " 0.005696986816980762\n",
       " 0.009945508998093187\n",
       " 0.004571941869970451\n",
       " 0.001989101799618636\n",
       " 0.0016402609173972733\n",
       " 0.0004972754499046589\n",
       " 0.019599357681897495"
      ]
     },
     "execution_count": 260,
     "metadata": {},
     "output_type": "execute_result"
    }
   ],
   "source": [
    "X=inverse[:,length(sidx)] #extract π from matrix"
   ]
  },
  {
   "cell_type": "code",
   "execution_count": 261,
   "id": "cbb8cccb-ac4b-4d61-b33f-43fc8d938928",
   "metadata": {},
   "outputs": [
    {
     "data": {
      "text/plain": [
       "0.9999999999000002"
      ]
     },
     "execution_count": 261,
     "metadata": {},
     "output_type": "execute_result"
    }
   ],
   "source": [
    "X=round.(X,digits=10); #round to 10 digits\n",
    "sum(X)"
   ]
  },
  {
   "cell_type": "code",
   "execution_count": 262,
   "id": "5cf1e488-063e-4c30-993c-1d811ff0915a",
   "metadata": {
    "tags": []
   },
   "outputs": [
    {
     "data": {
      "text/plain": [
       "46×6 Matrix{Any}:\n",
       "  1  1  1  1  1  0.0514716\n",
       "  2  1  2  1  1  0.141459\n",
       "  3  1  3  2  1  0.0205886\n",
       "  4  1  4  1  2  0.0565728\n",
       "  5  2  1  1  1  0.141459\n",
       "  6  2  2  1  1  0.0516689\n",
       "  7  2  3  2  1  0.0565947\n",
       "  8  2  4  1  2  0.0206676\n",
       "  9  3  1  2  1  0.0205886\n",
       " 10  3  2  2  1  0.0565947\n",
       " 11  3  3  3  1  0.0267652\n",
       " 12  3  3  3  2  0.0132282\n",
       " 13  3  3  3  3  0.00264563\n",
       "  ⋮              ⋮\n",
       " 35  4  3  3  4  0.00392972\n",
       " 36  4  3  4  2  0.0023485\n",
       " 37  4  3  4  3  0.00946246\n",
       " 38  4  3  4  4  0.00267844\n",
       " 39  4  4  1  3  0.0268678\n",
       " 40  4  4  1  4  0.00569699\n",
       " 41  4  4  2  3  0.00994551\n",
       " 42  4  4  2  4  0.00457194\n",
       " 43  4  4  3  3  0.0019891\n",
       " 44  4  4  3  4  0.00164026\n",
       " 45  4  4  4  3  0.000497275\n",
       " 46  4  4  4  4  0.0195994"
      ]
     },
     "execution_count": 262,
     "metadata": {},
     "output_type": "execute_result"
    }
   ],
   "source": [
    "A=sparti[1:length(sidx)] \n",
    "B=spartj[1:length(sidx)]\n",
    "C=spartk[1:length(sidx)]\n",
    "D=spartl[1:length(sidx)]\n",
    "M=hcat(sidx,A,B,C,D,X)     #create readable matrix for state, sparti,spartj,spartk,spartl and pi"
   ]
  },
  {
   "cell_type": "code",
   "execution_count": 263,
   "id": "a010b7d9-48c8-4d71-bfdb-12eb2372d693",
   "metadata": {},
   "outputs": [
    {
     "data": {
      "text/plain": [
       "0.38605936920000006"
      ]
     },
     "execution_count": 263,
     "metadata": {},
     "output_type": "execute_result"
    }
   ],
   "source": [
    "#Percentage of time with zero calls\n",
    "Midx0= (spartk .+ spartl).==2\n",
    "sum(M[Midx0.==1,6])"
   ]
  },
  {
   "cell_type": "code",
   "execution_count": 264,
   "id": "bd7bec83-eb26-42cf-b386-10a3ee10d671",
   "metadata": {},
   "outputs": [
    {
     "data": {
      "text/plain": [
       "0.0443921998"
      ]
     },
     "execution_count": 264,
     "metadata": {},
     "output_type": "execute_result"
    }
   ],
   "source": [
    "#Percentage of time with 1 call\n",
    "Midx1= (spartk .+ spartl).==6\n",
    "sum(M[Midx1.==1,6])"
   ]
  },
  {
   "cell_type": "code",
   "execution_count": 101,
   "id": "07999485-b8cf-4dc9-a423-eb6199b626fc",
   "metadata": {},
   "outputs": [
    {
     "data": {
      "text/plain": [
       "0.0310463079"
      ]
     },
     "execution_count": 101,
     "metadata": {},
     "output_type": "execute_result"
    }
   ],
   "source": [
    "#Percentage of time with 2 calls \n",
    "Midx2= (spartj .+ spartk .+ spartl).==5\n",
    "sum(M[Midx2.==1,6])"
   ]
  },
  {
   "cell_type": "code",
   "execution_count": 102,
   "id": "0158ab25-6e32-4db5-acee-4fecc1042c97",
   "metadata": {},
   "outputs": [
    {
     "data": {
      "text/plain": [
       "0.0542819014"
      ]
     },
     "execution_count": 102,
     "metadata": {},
     "output_type": "execute_result"
    }
   ],
   "source": [
    "#Percentage of time with 3 calls\n",
    "Midx3= (spartj .+ spartk .+ spartl).==6\n",
    "sum(M[Midx3.==1,6])"
   ]
  },
  {
   "cell_type": "code",
   "execution_count": 103,
   "id": "4f1214c5-1942-435c-9db8-e83863901694",
   "metadata": {},
   "outputs": [
    {
     "data": {
      "text/plain": [
       "0.07935388210000001"
      ]
     },
     "execution_count": 103,
     "metadata": {},
     "output_type": "execute_result"
    }
   ],
   "source": [
    "#Percentage of time with 4 calls \n",
    "Midx4= (spartj .+ spartk .+ spartl).==7\n",
    "sum(M[Midx4.==1,6])"
   ]
  },
  {
   "cell_type": "code",
   "execution_count": 104,
   "id": "b6fb8993-20f6-4205-901b-604efecf31a1",
   "metadata": {
    "tags": []
   },
   "outputs": [
    {
     "data": {
      "text/plain": [
       "0.1268390758"
      ]
     },
     "execution_count": 104,
     "metadata": {},
     "output_type": "execute_result"
    }
   ],
   "source": [
    "#Percentage of time with 5 calls \n",
    "Midx5= (spartj .+ spartk .+ spartl).==8\n",
    "sum(M[Midx5.==1,6])"
   ]
  },
  {
   "cell_type": "code",
   "execution_count": 105,
   "id": "3d990d06-743e-46fe-b8f1-02bf9c97ab4c",
   "metadata": {},
   "outputs": [
    {
     "data": {
      "text/plain": [
       "0.17168729919999998"
      ]
     },
     "execution_count": 105,
     "metadata": {},
     "output_type": "execute_result"
    }
   ],
   "source": [
    "#Percentage of time with 6 calls \n",
    "Midx5= (spartj .+ spartk .+ spartl).==9\n",
    "sum(M[Midx5.==1,6])"
   ]
  },
  {
   "cell_type": "code",
   "execution_count": 106,
   "id": "e9b19a6a-57bd-4279-9608-727a737b7df3",
   "metadata": {},
   "outputs": [
    {
     "data": {
      "text/plain": [
       "0.18873403219999998"
      ]
     },
     "execution_count": 106,
     "metadata": {},
     "output_type": "execute_result"
    }
   ],
   "source": [
    "#Percentage of time with 7 calls \n",
    "Midx5= (spartj .+ spartk .+ spartl).==10\n",
    "sum(M[Midx5.==1,6])"
   ]
  },
  {
   "cell_type": "code",
   "execution_count": 110,
   "id": "ca0a5473-6f57-472f-a6ca-63dea97b28a1",
   "metadata": {},
   "outputs": [
    {
     "data": {
      "text/plain": [
       "0.1273207536"
      ]
     },
     "execution_count": 110,
     "metadata": {},
     "output_type": "execute_result"
    }
   ],
   "source": [
    "#Percentage of time with max calls\n",
    "MidxMax= (spartj .+ spartk.+ spartl).==(max1demand+max2demand+max3demand)\n",
    "MaxInSys=sum(M[MidxMax.==1,6])"
   ]
  },
  {
   "cell_type": "code",
   "execution_count": 108,
   "id": "2d942320-498c-4481-80d7-8abf582f42d2",
   "metadata": {},
   "outputs": [],
   "source": [
    "#Midxw1Full= ((spartj .+ spartk).<=7).&(spartj.==max1demand)\n",
    "#Midxw2Full= ((spartj .+ spartk).<=7).&(spartk.==max2demand);\n"
   ]
  },
  {
   "cell_type": "code",
   "execution_count": 282,
   "id": "93300320-ec8b-40b8-b3e6-7881c050a755",
   "metadata": {},
   "outputs": [
    {
     "data": {
      "text/plain": [
       "1.0544847926"
      ]
     },
     "execution_count": 282,
     "metadata": {},
     "output_type": "execute_result"
    }
   ],
   "source": [
    "#Define total throughput\n",
    "#Throughput=((λ1+λ2)*MaxInSys+λ1*sum(M[Midxw2Full.==1,5])+λ2*sum(M[Midxw1Full.==1,5])) ###THIS IS WRONG\n",
    "Throughput=(μ1Same)*sum(M[μ1idx.==1,6])+(μ1Diff)*sum(M[μ1idx.==2,6])+(μ2Same)*sum(M[μ2idx.==1,6])+(μ2Diff)*sum(M[μ2idx.==2,6]) ## This is somehow wrong- ask Dr. King\n"
   ]
  },
  {
   "cell_type": "code",
   "execution_count": 297,
   "id": "afbf70ed-8b89-458f-b371-8a819fcfc3bc",
   "metadata": {},
   "outputs": [
    {
     "data": {
      "text/plain": [
       "0.9739465728000001"
      ]
     },
     "execution_count": 297,
     "metadata": {},
     "output_type": "execute_result"
    }
   ],
   "source": [
    "Throughput=(λst)*sum(M[λidx.==1,6])*2"
   ]
  },
  {
   "cell_type": "code",
   "execution_count": 283,
   "id": "85f7354b-b7e7-4df4-90ae-b99edc4d4973",
   "metadata": {},
   "outputs": [
    {
     "data": {
      "text/plain": [
       "0.9190337660000001"
      ]
     },
     "execution_count": 283,
     "metadata": {},
     "output_type": "execute_result"
    }
   ],
   "source": [
    "sum(M[μ2idx.==2,6])+sum(M[μ2idx.==1,6])+sum(M[μ1idx.==2,6])+sum(M[μ1idx.==1,6])"
   ]
  },
  {
   "cell_type": "code",
   "execution_count": 233,
   "id": "08754647-0174-4bac-8ee3-b80c3981ff62",
   "metadata": {},
   "outputs": [
    {
     "data": {
      "text/plain": [
       "0.08380061535"
      ]
     },
     "execution_count": 233,
     "metadata": {},
     "output_type": "execute_result"
    }
   ],
   "source": [
    "(μ2Diff)*sum(M[μ2idx.==2,6])"
   ]
  },
  {
   "cell_type": "code",
   "execution_count": 16,
   "id": "e02d6a31-fb97-4290-9569-e76bb33a20d3",
   "metadata": {
    "tags": []
   },
   "outputs": [
    {
     "data": {
      "text/plain": [
       "54×54 Matrix{Float64}:\n",
       " 5.0  0.0  0.0  0.0  0.0  0.0   0.0   0.0  …   0.0   0.0    0.0    0.0    0.0\n",
       " 0.0  5.0  0.0  0.0  0.0  0.0   0.0   0.0      0.0   0.0    0.0    0.0    0.0\n",
       " 0.0  0.0  5.0  0.0  0.0  0.0   0.0   0.0      0.0   0.0    0.0    0.0    0.0\n",
       " 0.0  0.0  0.0  0.0  0.0  0.0   0.0   0.0      0.0   0.0    0.0    0.0    0.0\n",
       " 0.0  0.0  0.0  0.0  0.0  0.0   0.0   0.0      0.0   0.0    0.0    0.0    0.0\n",
       " 0.0  0.0  0.0  0.0  0.0  0.0   0.0   0.0  …   0.0   0.0    0.0    0.0    0.0\n",
       " 0.0  0.0  0.0  0.0  0.0  0.0  -5.0   0.0      0.0   0.0    0.0    0.0    0.0\n",
       " 0.0  0.0  0.0  0.0  0.0  0.0   0.0  -5.0      0.0   0.0    0.0    0.0    0.0\n",
       " 0.0  0.0  0.0  0.0  0.0  0.0   0.0   0.0      0.0   0.0    0.0    0.0    0.0\n",
       " 0.0  0.0  0.0  0.0  0.0  0.0   0.0   0.0      0.0   0.0    0.0    0.0    0.0\n",
       " 0.0  0.0  0.0  0.0  0.0  0.0   0.0   0.0  …   0.0   0.0    0.0    0.0    0.0\n",
       " 0.0  0.0  0.0  0.0  0.0  0.0   0.0   0.0      0.0   0.0    0.0    0.0    0.0\n",
       " 0.0  0.0  0.0  0.0  0.0  0.0   0.0   0.0      0.0   0.0    0.0    0.0    0.0\n",
       " ⋮                        ⋮                ⋱         ⋮                  \n",
       " 0.0  0.0  0.0  0.0  0.0  0.0   0.0   0.0      0.0   0.0    0.0    0.0    0.0\n",
       " 0.0  0.0  0.0  0.0  0.0  0.0   0.0   0.0      0.0   0.0    0.0    0.0    0.0\n",
       " 0.0  0.0  0.0  0.0  0.0  0.0   0.0   0.0      0.0   0.0    0.0    0.0    0.0\n",
       " 0.0  0.0  0.0  0.0  0.0  0.0   0.0   0.0  …   0.0   0.0    0.0    0.0    0.0\n",
       " 0.0  0.0  0.0  0.0  0.0  0.0   0.0   0.0      0.0   0.0    0.0    0.0    0.0\n",
       " 0.0  0.0  0.0  0.0  0.0  0.0   0.0   0.0      0.0   0.0    0.0    0.0    0.0\n",
       " 0.0  0.0  0.0  0.0  0.0  0.0   0.0   0.0      0.0   0.0    0.0    0.0    0.0\n",
       " 0.0  0.0  0.0  0.0  0.0  0.0   0.0   0.0     -5.0   0.0    0.0    0.0    0.0\n",
       " 0.0  0.0  0.0  0.0  0.0  0.0   0.0   0.0  …   0.0  -5.0    0.0    0.0    0.0\n",
       " 0.0  0.0  0.0  0.0  0.0  0.0   0.0   0.0      0.0   0.0  -10.0    0.0    0.0\n",
       " 0.0  0.0  0.0  0.0  0.0  0.0   0.0   0.0      0.0   0.0    0.0  -10.0    0.0\n",
       " 0.0  0.0  0.0  0.0  0.0  0.0   0.0   0.0      0.0   0.0    0.0    0.0  -10.0"
      ]
     },
     "execution_count": 16,
     "metadata": {},
     "output_type": "execute_result"
    }
   ],
   "source": [
    "#Reward Matrix\n",
    "\n",
    "#Dwell Reward\n",
    "Rmatrix= zeros(length(sidx),length(sidx))\n",
    "Reward0=10\n",
    "Reward1=5\n",
    "Reward2=0\n",
    "Reward3=-5\n",
    "for s in 1:length(sidx)\n",
    "    Call1 = spartj[s]\n",
    "    Call2 = spartk[s]\n",
    "    Z1Reward=0\n",
    "    Z2Reward=0\n",
    "    if     Call1==0\n",
    "    Z1Reward=Reward0\n",
    "    elseif Call1==1\n",
    "    Z1Reward=Reward1\n",
    "    elseif Call1==2\n",
    "    Z1Reward=Reward2\n",
    "    else   Call1==3\n",
    "    Z1Reward=Reward3\n",
    "    end\n",
    "  \n",
    "    if     Call2==0\n",
    "    Z2Reward=Reward0\n",
    "    elseif Call2==1\n",
    "    Z2Reward=Reward1\n",
    "    elseif Call2==2\n",
    "    Z2Reward=Reward2\n",
    "    else   Call2==3\n",
    "    Z2Reward=Reward3\n",
    "    end\n",
    "    DwellReward=Z1Reward+Z2Reward\n",
    "    \n",
    "   Rmatrix[s,s]= DwellReward\n",
    "end\n",
    "Rmatrix"
   ]
  },
  {
   "cell_type": "code",
   "execution_count": 17,
   "id": "dc6bacce-89fc-48ee-8498-70065ede8daa",
   "metadata": {
    "tags": []
   },
   "outputs": [
    {
     "data": {
      "text/plain": [
       "54×54 Matrix{Float64}:\n",
       "  5.0   0.0   0.0   0.0   0.0   0.0  …  0.0  0.0  0.0  0.0  0.0  0.0  0.0\n",
       "  0.0   5.0   0.0   0.0   0.0   0.0     0.0  0.0  0.0  0.0  0.0  0.0  0.0\n",
       "  0.0   0.0   5.0   0.0   0.0   0.0     0.0  0.0  0.0  0.0  0.0  0.0  0.0\n",
       " -5.0  -5.0  -5.0   0.0   0.0   0.0     0.0  0.0  0.0  0.0  0.0  0.0  0.0\n",
       " -5.0  -5.0  -5.0   0.0   0.0   0.0     0.0  0.0  0.0  0.0  0.0  0.0  0.0\n",
       " -5.0  -5.0  -5.0   0.0   0.0   0.0  …  0.0  0.0  0.0  0.0  0.0  0.0  0.0\n",
       "  0.0   0.0   0.0  -5.0  -5.0  -5.0     0.0  0.0  0.0  0.0  0.0  0.0  0.0\n",
       "  0.0   0.0   0.0  -5.0  -5.0  -5.0     0.0  0.0  0.0  0.0  0.0  0.0  0.0\n",
       "  0.0   0.0   0.0  -5.0  -5.0  -5.0     0.0  0.0  0.0  0.0  0.0  0.0  0.0\n",
       " -5.0  -5.0  -5.0   0.0   0.0   0.0     0.0  0.0  0.0  0.0  0.0  0.0  0.0\n",
       " -5.0  -5.0  -5.0   0.0   0.0   0.0  …  0.0  0.0  0.0  0.0  0.0  0.0  0.0\n",
       " -5.0  -5.0  -5.0   0.0   0.0   0.0     0.0  0.0  0.0  0.0  0.0  0.0  0.0\n",
       "  0.0   0.0   0.0  -5.0  -5.0  -5.0     0.0  0.0  0.0  0.0  0.0  0.0  0.0\n",
       "  ⋮                             ⋮    ⋱                 ⋮              \n",
       "  0.0   0.0   0.0   0.0   0.0   0.0     0.0  0.0  0.0  0.0  0.0  0.0  0.0\n",
       "  0.0   0.0   0.0   0.0   0.0   0.0     0.0  0.0  0.0  0.0  0.0  0.0  0.0\n",
       "  0.0   0.0   0.0   0.0   0.0   0.0     0.0  0.0  0.0  0.0  0.0  0.0  0.0\n",
       "  0.0   0.0   0.0   0.0   0.0   0.0  …  5.0  0.0  0.0  0.0  0.0  0.0  0.0\n",
       "  0.0   0.0   0.0   0.0   0.0   0.0     5.0  0.0  0.0  0.0  0.0  0.0  0.0\n",
       "  0.0   0.0   0.0   0.0   0.0   0.0     5.0  0.0  0.0  0.0  0.0  0.0  0.0\n",
       "  0.0   0.0   0.0   0.0   0.0   0.0     0.0  5.0  5.0  5.0  0.0  0.0  0.0\n",
       "  0.0   0.0   0.0   0.0   0.0   0.0     0.0  5.0  5.0  5.0  0.0  0.0  0.0\n",
       "  0.0   0.0   0.0   0.0   0.0   0.0  …  0.0  5.0  5.0  5.0  0.0  0.0  0.0\n",
       "  0.0   0.0   0.0   0.0   0.0   0.0     0.0  0.0  0.0  0.0  5.0  5.0  5.0\n",
       "  0.0   0.0   0.0   0.0   0.0   0.0     0.0  0.0  0.0  0.0  5.0  5.0  5.0\n",
       "  0.0   0.0   0.0   0.0   0.0   0.0     0.0  0.0  0.0  0.0  5.0  5.0  5.0"
      ]
     },
     "execution_count": 17,
     "metadata": {},
     "output_type": "execute_result"
    }
   ],
   "source": [
    "#Transition Reward\n",
    "\n",
    "RewardUp=-5\n",
    "RewardDown=5\n",
    "\n",
    "for s in 1:length(sidx)\n",
    "    Zoneflag = sparti[s]\n",
    "    Call1 = spartj[s]\n",
    "    Call2 = spartk[s]\n",
    "    nextZoneflag = 0\n",
    "    nextCall1=0\n",
    "    nextCall2=0\n",
    "    nexts=0\n",
    "    Treward= 0\n",
    "    \n",
    "    \n",
    " #   Arrival at region 1\n",
    "    if Call1<max1demand\n",
    "        nextCall1= Call1+1\n",
    "        nextCall2= Call2\n",
    "        \n",
    "        if Zoneflag <=3\n",
    "            nextZoneflag = 3 #don't use double equal\n",
    "        \n",
    "        else Zoneflag == 4\n",
    "            nextZoneflag = 4  #don't use double equal\n",
    "        end\n",
    "        idx= (sparti.==nextZoneflag) .& (spartj.==nextCall1) .& (spartk.==nextCall2)\n",
    "         nexts= sidx[idx]\n",
    "         Rmatrix[nexts,s].=RewardUp\n",
    "        \n",
    "    end\n",
    "      \n",
    "    #Arrival at region 2\n",
    "    if Call2<max2demand\n",
    "        nextCall1= Call1\n",
    "        nextCall2= Call2+1\n",
    "        \n",
    "        if Zoneflag !=3\n",
    "            nextZoneflag = 4\n",
    "        \n",
    "        else Zoneflag == 3\n",
    "                nextZoneflag = 3\n",
    "        end\n",
    "        idx= (sparti.==nextZoneflag) .& (spartj.==nextCall1) .& (spartk.==nextCall2)\n",
    "        nexts= sidx[idx] \n",
    "        Rmatrix[nexts,s].=RewardUp\n",
    "    end\n",
    "    \n",
    "     #Service from Region to Region\n",
    "\n",
    "    if Zoneflag == 3\n",
    "        if Call1-1>=Call2 && Call1 > 2\n",
    "            RegionService=μSame\n",
    "            nextZoneflag=Zoneflag\n",
    "            nextCall1=Call1-1\n",
    "            nextCall2=Call2\n",
    "            μidx=push!(μidx,1)\n",
    "        \n",
    "        elseif Call1-1>=Call2 && Call1==2\n",
    "            RegionService=μSame\n",
    "            nextZoneflag=Zoneflag-2\n",
    "            nextCall1=Call1-1\n",
    "            nextCall2=Call2\n",
    "            μidx=push!(μidx,1)\n",
    "            \n",
    "        else\n",
    "            RegionService=μDiff\n",
    "            nextZoneflag= Zoneflag+1\n",
    "            nextCall1= Call1-1\n",
    "            nextCall2= Call2\n",
    "            μidx=push!(μidx,2)\n",
    "        end    \n",
    "#         if Call1 == 2                     #Formulation for Finish Zone policy\n",
    "#             if Call2 >=2\n",
    "#             RegionService=μDiff\n",
    "#             nextZoneflag=Zoneflag+1\n",
    "#             nextCall1= Call1-1\n",
    "#             nextCall2= Call2\n",
    "#             else\n",
    "#             RegionService=μSame\n",
    "#             nextZoneflag=1\n",
    "#             nextCall1= Call1-1\n",
    "#             nextCall2= Call2\n",
    "#             end\n",
    "#             \n",
    "#         else\n",
    "#         RegionService=μSame\n",
    "#         nextZoneflag= Zoneflag\n",
    "#         nextCall1= Call1-1\n",
    "#         nextCall2= Call2\n",
    "#         end\n",
    "        \n",
    "    elseif Zoneflag == 4\n",
    "\n",
    "        if Call2-1>=Call1 && Call2 > 2\n",
    "            RegionService=μSame\n",
    "            nextZoneflag=Zoneflag\n",
    "            nextCall1=Call1\n",
    "            nextCall2=Call2-1\n",
    "            μidx=push!(μidx,1)\n",
    "            \n",
    "        elseif Call2-1>=Call1 && Call2==2\n",
    "            RegionService=μSame\n",
    "            nextZoneflag=Zoneflag-2\n",
    "            nextCall1=Call1\n",
    "            nextCall2=Call2-1\n",
    "            μidx=push!(μidx,1)\n",
    "            \n",
    "                \n",
    "        else\n",
    "            RegionService=μDiff\n",
    "            nextZoneflag= Zoneflag-1\n",
    "            nextCall1= Call1\n",
    "            nextCall2= Call2-1  \n",
    "            μidx=push!(μidx,2)\n",
    "        end\n",
    "#         if Call2== 2                      #Formulation for Finish Zone Policy\n",
    "#             if Call1 >=2\n",
    "#             RegionService=μDiff\n",
    "#             nextZoneflag=Zoneflag-1\n",
    "#             nextCall1= Call1\n",
    "#             nextCall2= Call2-1\n",
    "#             else\n",
    "#             RegionService=μSame\n",
    "#             nextZoneflag=2\n",
    "#             nextCall1= Call1\n",
    "#             nextCall2= Call2-1     \n",
    "#             end\n",
    "        \n",
    "#         else\n",
    "#         RegionService=μSame\n",
    "#         nextZoneflag= Zoneflag\n",
    "#         nextCall1= Call1\n",
    "#         nextCall2= Call2-1\n",
    "        #         end \n",
    "    else Zoneflag <3\n",
    "        \n",
    "        nextZoneflag=Zoneflag\n",
    "        nextCall1=Call1\n",
    "        nextCall2=Call2\n",
    "\n",
    "    end    \n",
    "      #  println(RegionService)\n",
    "      #  println(nextZoneflag)\n",
    "      #  println(nextCall1)\n",
    "      #  println(nextCall2)\n",
    "        idx= (sparti.==nextZoneflag) .& (spartj.==nextCall1) .& (spartk.==nextCall2)\n",
    "        #println(idx)\n",
    "        #println(sidx[idx])\n",
    "         nexts= sidx[idx] \n",
    "       # println(nexts)\n",
    "       # println(\"s:\", string(s))\n",
    "       # println(matrix[nexts,s])\n",
    "    \n",
    "    if Zoneflag >=3     \n",
    "    \n",
    "    Rmatrix[nexts,s].=RewardDown\n",
    "\n",
    "    end\n",
    "   \n",
    "        \n",
    "      \n",
    "end\n",
    "Rmatrix"
   ]
  },
  {
   "cell_type": "code",
   "execution_count": 18,
   "id": "0fb4ccd0-e106-4684-aca9-3cfe086fd6b6",
   "metadata": {
    "tags": []
   },
   "outputs": [],
   "source": [
    "using LinearAlgebra\n",
    "q=[]\n",
    "for i in 1:length(sidx)\n",
    "q= push!(q,dot(matrix[i,:],Rmatrix[i,:]))\n",
    "end\n"
   ]
  },
  {
   "cell_type": "code",
   "execution_count": 19,
   "id": "b2e2be0e-af0f-43e2-a84a-2bb7d5f0cfc2",
   "metadata": {},
   "outputs": [
    {
     "data": {
      "text/plain": [
       "54-element Vector{Any}:\n",
       "  0.0\n",
       "  0.0\n",
       "  0.0\n",
       "  0.0\n",
       "  0.0\n",
       "  0.0\n",
       "  0.0\n",
       "  0.0\n",
       "  0.0\n",
       "  0.0\n",
       "  0.0\n",
       "  0.0\n",
       "  0.0\n",
       "  ⋮\n",
       "  0.0\n",
       "  0.0\n",
       "  0.0\n",
       "  0.0\n",
       "  0.0\n",
       "  0.0\n",
       "  0.0\n",
       "  0.0\n",
       "  0.0\n",
       "  0.0\n",
       "  0.0\n",
       " 15.0"
      ]
     },
     "execution_count": 19,
     "metadata": {},
     "output_type": "execute_result"
    }
   ],
   "source": [
    "q"
   ]
  }
 ],
 "metadata": {
  "kernelspec": {
   "display_name": "Julia 1.6.2",
   "language": "julia",
   "name": "julia-1.6"
  },
  "language_info": {
   "file_extension": ".jl",
   "mimetype": "application/julia",
   "name": "julia",
   "version": "1.6.2"
  }
 },
 "nbformat": 4,
 "nbformat_minor": 5
}
