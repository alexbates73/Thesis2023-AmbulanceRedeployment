{
 "cells": [
  {
   "cell_type": "code",
   "execution_count": 1,
   "id": "85795d4f-a9d3-4f9b-a35f-5fd836546a3a",
   "metadata": {},
   "outputs": [
    {
     "data": {
      "text/plain": [
       "362-element Vector{Int64}:\n",
       "   1\n",
       "   2\n",
       "   3\n",
       "   4\n",
       "   5\n",
       "   6\n",
       "   7\n",
       "   8\n",
       "   9\n",
       "  10\n",
       "  11\n",
       "  12\n",
       "  13\n",
       "   ⋮\n",
       " 351\n",
       " 352\n",
       " 353\n",
       " 354\n",
       " 355\n",
       " 356\n",
       " 357\n",
       " 358\n",
       " 359\n",
       " 360\n",
       " 361\n",
       " 362"
      ]
     },
     "execution_count": 1,
     "metadata": {},
     "output_type": "execute_result"
    }
   ],
   "source": [
    "max1demand=10    #use 1 more than actual demand\n",
    "max2demand=10    #use 1 more than actual demand\n",
    "sparti=[]  #start with null #ZoneActiveStateDefinition 1-Not active in 1; 2-Not active in 2; 3- Active in 1; 4- Active in 2;\n",
    "spartj=[]  #start with null #Zone1DemandStateDef\n",
    "spartk=[]  #start with null #Zone2DemandStateDef\n",
    "spartl=[]  #start with null #PreviousZoneStateDef\n",
    "sidx=[]    #start with null\n",
    "s=1        #start number for loop\n",
    "for i in 1:4           #Create an index to call   \n",
    "    for j in 1:max1demand\n",
    "        for k in 1:max2demand\n",
    "            for l in 1:2 #2 regions\n",
    "                sparti= push!(sparti,i)  #for i in ijk add to sparti definition\n",
    "                spartj= push!(spartj,j)  #for j in ijk add to spartj definition\n",
    "                spartk= push!(spartk,k)  #for k in ijk add to spartk definition\n",
    "                spartl= push!(spartl,l)  #for k in ijk add to spartk definition\n",
    "                sidx= push!(sidx,s)      #create index in sidx\n",
    "                s=s+1\n",
    "            end\n",
    "        end\n",
    "    end\n",
    "end\n",
    "\n",
    "#sparti\n",
    "#spartj\n",
    "#spartk\n",
    "#[sparti,spartj,spartk]\n",
    "#sidx\n",
    "\n",
    "#idxactive=  (sparti.>=3) .& (spartj+spartk.==2) ##(Wrapped into regional indices)\n",
    "idxidle= (sparti.<3) .& (spartj+spartk .>2)   #index all ijk where idling cannot occur\n",
    "idxZoneFrom= (sparti.==1) .& (spartl.==2) .| (sparti.==2) .& (spartl.==1) #idx where zone from cannot occur\n",
    "idxregion1= (sparti.==3) .& (spartj.==1)      #index all ijk where region 1 is active but there are no calls in region 1 to service\n",
    "idxregion2= (sparti.==4) .& (spartk.==1)      #index all ijk where region 2 is active but there are no calls in region 2 to service\n",
    "\n",
    "\n",
    "idxDEL=idxidle .| idxregion1 .| idxregion2 .| idxZoneFrom   #index of the previous 3 indices\n",
    "\n",
    "deleteat!(sparti, BitArray(idxDEL)) #delete idxDEL\n",
    "deleteat!(spartj, BitArray(idxDEL)) #delete idxDEL\n",
    "deleteat!(spartk, BitArray(idxDEL)) #delete idxDEL\n",
    "deleteat!(spartl, BitArray(idxDEL)) #delete idxDEL\n",
    "sidx= [1:length(sparti);];          #number of states\n",
    "sidx"
   ]
  },
  {
   "cell_type": "code",
   "execution_count": 2,
   "id": "5a54fb87-1549-4595-98b0-bce3ce4d67af",
   "metadata": {},
   "outputs": [
    {
     "data": {
      "text/plain": [
       "2×2 Matrix{Int64}:\n",
       " 1  1\n",
       " 1  1"
      ]
     },
     "execution_count": 2,
     "metadata": {},
     "output_type": "execute_result"
    }
   ],
   "source": [
    "λ=.125\n",
    "μS=1.5\n",
    "μD=1\n",
    "μMatr=[1 1; \n",
    "        1 1]"
   ]
  },
  {
   "cell_type": "code",
   "execution_count": 3,
   "id": "55ba0eae-3e7c-4279-b1c0-1cafdbd2f2a9",
   "metadata": {},
   "outputs": [
    {
     "data": {
      "text/plain": [
       "362×1 Matrix{Float64}:\n",
       " 0.0\n",
       " 0.0\n",
       " 1.0\n",
       " 1.0\n",
       " 1.0\n",
       " 1.0\n",
       " 1.0\n",
       " 1.0\n",
       " 1.0\n",
       " 1.0\n",
       " 1.0\n",
       " 1.0\n",
       " 1.0\n",
       " ⋮\n",
       " 1.0\n",
       " 1.0\n",
       " 1.0\n",
       " 1.0\n",
       " 1.0\n",
       " 1.0\n",
       " 1.0\n",
       " 1.0\n",
       " 1.0\n",
       " 1.0\n",
       " 1.0\n",
       " 1.0"
      ]
     },
     "execution_count": 3,
     "metadata": {},
     "output_type": "execute_result"
    }
   ],
   "source": [
    "matrix= zeros(length(sidx),length(sidx))\n",
    "μMat= zeros(length(sidx),1)\n",
    "λidx=zeros(length(sidx)) \n",
    "μidx=[]\n",
    "λ1=λ  #Define Arrival Rate for Zone1\n",
    "λ2=λ1  #Define Arrival Rate for Zone2                \n",
    "μSame=μS\n",
    "μDiff=μD\n",
    "for s in 1:length(sidx)\n",
    "    Zoneflag = sparti[s]\n",
    "    Call1 = spartj[s]\n",
    "    Call2 = spartk[s]\n",
    "    RegionFrom= spartl[s]\n",
    "    nextZoneflag = 0\n",
    "    nextCall1=0\n",
    "    nextCall2=0\n",
    "    nexts=0\n",
    "    RegionService= 0    \n",
    "    nextRegionFrom=0\n",
    "\n",
    "#  Arrival at region 1\n",
    "    if Call1<max1demand\n",
    "        nextCall1= Call1+1\n",
    "        nextCall2= Call2\n",
    "        if Zoneflag <=2\n",
    "            nextZoneflag = 3 #don't use double equal\n",
    "            nextRegionFrom=Zoneflag\n",
    "        else \n",
    "            nextZoneflag = Zoneflag  #don't use double equal\n",
    "            nextRegionFrom=RegionFrom\n",
    "        end\n",
    "\n",
    "        idx= (sparti.==nextZoneflag) .& (spartj.==nextCall1) .& (spartk.==nextCall2) .& (spartl.==nextRegionFrom)\n",
    "        nexts= sidx[idx] \n",
    "        matrix[nexts,s].=matrix[nexts,s] .+ λ\n",
    "        matrix[s,s]= matrix[s,s] - λ\n",
    "         λidx[s]=1\n",
    "    end\n",
    "    #Arrival at region 2\n",
    "    if Call2<max2demand\n",
    "        nextCall1= Call1\n",
    "        nextCall2= Call2+1       \n",
    "      if Zoneflag <=2\n",
    "            nextZoneflag = 4 #don't use double equal\n",
    "            nextRegionFrom=Zoneflag\n",
    "        else \n",
    "            nextZoneflag = Zoneflag  #don't use double equal\n",
    "            nextRegionFrom=RegionFrom\n",
    "        end\n",
    "        idx= (sparti.==nextZoneflag) .& (spartj.==nextCall1) .& (spartk.==nextCall2) .& (spartl.==nextRegionFrom)\n",
    "        nexts= sidx[idx] \n",
    "        matrix[nexts,s].=matrix[nexts,s] .+ λ2\n",
    "        matrix[s,s]= matrix[s,s] - λ2\n",
    "        λidx[s]=1\n",
    "    end\n",
    "    \n",
    "         #Service from Region to Region\n",
    "    if Zoneflag == 3\n",
    "        if Call1-1 >=max(Call2)/2 && Call1-1 >1\n",
    "            RegionService=μMatr[1,RegionFrom]\n",
    "            nextZoneflag=3\n",
    "            nextCall1=Call1-1\n",
    "            nextCall2=Call2\n",
    "            nextRegionFrom=1\n",
    "            μidx=push!(μidx,1)        \n",
    "        elseif Call1-1 >max(Call2)/2 && Call1-1 ==1\n",
    "            RegionService=μMatr[1,RegionFrom]\n",
    "            nextZoneflag=1\n",
    "            nextCall1=Call1-1\n",
    "            nextCall2=Call2\n",
    "            nextRegionFrom=1\n",
    "            μidx=push!(μidx,1)            \n",
    "        else\n",
    "            RegionService=μMatr[1,RegionFrom]\n",
    "            nextZoneflag= 4\n",
    "            nextCall1= Call1-1\n",
    "            nextCall2= Call2\n",
    "            nextRegionFrom=1\n",
    "            μidx=push!(μidx,2)\n",
    "        end    \n",
    "    elseif Zoneflag == 4\n",
    "        if Call2-1 >=max(Call1)/2 && Call2-1 >1\n",
    "            RegionService=μMatr[2,RegionFrom]\n",
    "            nextZoneflag=4\n",
    "            nextCall1=Call1\n",
    "            nextCall2=Call2-1\n",
    "            nextRegionFrom=2\n",
    "            μidx=push!(μidx,1)           \n",
    "        elseif Call2-1 >max(Call1)/2 && Call2-1 ==1\n",
    "            RegionService=μMatr[2,RegionFrom]\n",
    "            nextZoneflag=2\n",
    "            nextCall1=Call1\n",
    "            nextCall2=Call2-1\n",
    "            nextRegionFrom=2\n",
    "            μidx=push!(μidx,1)\n",
    "        else\n",
    "            RegionService=μMatr[2,RegionFrom]\n",
    "            nextZoneflag= 3\n",
    "            nextCall1= Call1\n",
    "            nextCall2= Call2-1  \n",
    "            nextRegionFrom=2\n",
    "            μidx=push!(μidx,2)\n",
    "        end\n",
    "    else \n",
    "        RegionService= 0\n",
    "        nextZoneflag=Zoneflag\n",
    "        nextCall1=Call1\n",
    "        nextCall2=Call2\n",
    "        nextRegionFrom=RegionFrom\n",
    "        μidx=push!(μidx,0)\n",
    "    end    \n",
    "  idx= (sparti.==nextZoneflag) .& (spartj.==nextCall1) .& (spartk.==nextCall2) .&(spartl.==nextRegionFrom)\n",
    "  nexts= sidx[idx] \n",
    "  matrix[nexts,s]=matrix[nexts,s].+RegionService\n",
    "  matrix[s,s]= matrix[s,s].- RegionService   \n",
    "    μMat[s,1]= μMat[s,1] .+ RegionService\n",
    " end\n",
    "matrix\n",
    "μMat"
   ]
  },
  {
   "cell_type": "code",
   "execution_count": 4,
   "id": "029afd4b-a7a0-44db-b1a8-3e00a053d0b5",
   "metadata": {},
   "outputs": [
    {
     "data": {
      "text/plain": [
       "362×6 Matrix{Any}:\n",
       "   1  1   1   1  1  0.375\n",
       "   2  2   1   1  2  0.375\n",
       "   3  3   2   1  1  0.0469919\n",
       "   4  3   2   1  2  0.0467581\n",
       "   5  3   2   2  1  0.00689685\n",
       "   6  3   2   2  2  0.00467581\n",
       "   7  3   2   3  1  0.00111583\n",
       "   8  3   2   3  2  0.000467581\n",
       "   9  3   2   4  1  0.000190824\n",
       "  10  3   2   4  2  4.67581e-5\n",
       "  11  3   2   5  1  1.90824e-5\n",
       "  12  3   2   5  2  4.6758e-6\n",
       "  13  3   2   6  1  1.9082e-6\n",
       "   ⋮                ⋮\n",
       " 351  4  10   5  1  0.0\n",
       " 352  4  10   5  2  5.0e-10\n",
       " 353  4  10   6  1  0.0\n",
       " 354  4  10   6  2  2.0e-10\n",
       " 355  4  10   7  1  0.0\n",
       " 356  4  10   7  2  1.0e-10\n",
       " 357  4  10   8  1  0.0\n",
       " 358  4  10   8  2  0.0\n",
       " 359  4  10   9  1  0.0\n",
       " 360  4  10   9  2  0.0\n",
       " 361  4  10  10  1  0.0\n",
       " 362  4  10  10  2  0.0"
      ]
     },
     "execution_count": 4,
     "metadata": {},
     "output_type": "execute_result"
    }
   ],
   "source": [
    "matrix[length(sidx),:].= 1 #prep Ahat for matrix inversion\n",
    "inverse=inv(matrix) #invert Ahat matrix\n",
    "X=inverse[:,length(sidx)] #extract π from matrix\n",
    "X=round.(X,digits=10) #round to 10 digits\n",
    "A=sparti[1:length(sidx)] \n",
    "B=spartj[1:length(sidx)]\n",
    "C=spartk[1:length(sidx)]\n",
    "D=spartl[1:length(sidx)]\n",
    "M=hcat(sidx,A,B,C,D,X)     #create readable matrix for state, sparti,spartj,spartk, and pi"
   ]
  },
  {
   "cell_type": "code",
   "execution_count": 5,
   "id": "eae61197-6c02-49b5-8150-734029717d61",
   "metadata": {},
   "outputs": [
    {
     "data": {
      "text/plain": [
       "0.25000000005000034"
      ]
     },
     "execution_count": 5,
     "metadata": {},
     "output_type": "execute_result"
    }
   ],
   "source": [
    "Throughput=(λ)*sum(M[λidx.==1,6])*2"
   ]
  },
  {
   "cell_type": "code",
   "execution_count": 6,
   "id": "ff8d4186-fdc1-43a3-9901-b643208c262d",
   "metadata": {},
   "outputs": [
    {
     "data": {
      "text/plain": [
       "1-element Vector{Float64}:\n",
       " 0.24999999519999994"
      ]
     },
     "execution_count": 6,
     "metadata": {},
     "output_type": "execute_result"
    }
   ],
   "source": [
    "Gain=μMat'*X"
   ]
  },
  {
   "cell_type": "code",
   "execution_count": 50,
   "id": "b6ed509c-e0f3-4a57-8e36-0ffe789fb784",
   "metadata": {},
   "outputs": [
    {
     "data": {
      "text/plain": [
       "0.33333325820000004"
      ]
     },
     "execution_count": 50,
     "metadata": {},
     "output_type": "execute_result"
    }
   ],
   "source": [
    "L=0\n",
    "for s in 1:length(sidx)\n",
    "  L=L+(B[s]+C[s]-2)*X[s]\n",
    "end\n",
    "L  "
   ]
  },
  {
   "cell_type": "code",
   "execution_count": 35,
   "id": "eff6affa-b3fe-42a3-b2ca-eae03f33501c",
   "metadata": {},
   "outputs": [
    {
     "data": {
      "text/plain": [
       "19.54995237469582"
      ]
     },
     "execution_count": 35,
     "metadata": {},
     "output_type": "execute_result"
    }
   ],
   "source": [
    "W=L/Throughput "
   ]
  },
  {
   "cell_type": "code",
   "execution_count": 36,
   "id": "45ce9f31-4d9c-4a48-a383-c246636be307",
   "metadata": {},
   "outputs": [
    {
     "data": {
      "text/plain": [
       "0.40177438480000005"
      ]
     },
     "execution_count": 36,
     "metadata": {},
     "output_type": "execute_result"
    }
   ],
   "source": [
    "#Percentage of time with zero calls\n",
    "Midx0= (spartj .+ spartk).==2\n",
    "sum(M[Midx0.==1,6])"
   ]
  },
  {
   "cell_type": "code",
   "execution_count": 37,
   "id": "c1397805-3801-4891-aaec-5d045c129027",
   "metadata": {},
   "outputs": [
    {
     "data": {
      "text/plain": [
       "0.1004435962"
      ]
     },
     "execution_count": 37,
     "metadata": {},
     "output_type": "execute_result"
    }
   ],
   "source": [
    "#Percentage of time with one calls\n",
    "Midx1= (spartj .+ spartk).==3\n",
    "sum(M[Midx1.==1,6])"
   ]
  },
  {
   "cell_type": "code",
   "execution_count": null,
   "id": "c8a2f483-b51f-4f82-9468-8ddc638e41ca",
   "metadata": {},
   "outputs": [],
   "source": []
  },
  {
   "cell_type": "code",
   "execution_count": null,
   "id": "7820f644-fd4d-4dcd-978c-a0a3372d5293",
   "metadata": {},
   "outputs": [],
   "source": []
  }
 ],
 "metadata": {
  "kernelspec": {
   "display_name": "Julia 1.6.2",
   "language": "julia",
   "name": "julia-1.6"
  },
  "language_info": {
   "file_extension": ".jl",
   "mimetype": "application/julia",
   "name": "julia",
   "version": "1.6.2"
  }
 },
 "nbformat": 4,
 "nbformat_minor": 5
}
