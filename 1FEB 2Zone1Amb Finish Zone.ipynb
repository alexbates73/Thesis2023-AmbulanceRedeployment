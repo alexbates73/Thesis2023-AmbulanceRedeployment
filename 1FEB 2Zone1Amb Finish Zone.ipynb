{
 "cells": [
  {
   "cell_type": "code",
   "execution_count": 55,
   "id": "85795d4f-a9d3-4f9b-a35f-5fd836546a3a",
   "metadata": {},
   "outputs": [
    {
     "data": {
      "text/plain": [
       "362-element Vector{Int64}:\n",
       "   1\n",
       "   2\n",
       "   3\n",
       "   4\n",
       "   5\n",
       "   6\n",
       "   7\n",
       "   8\n",
       "   9\n",
       "  10\n",
       "  11\n",
       "  12\n",
       "  13\n",
       "   ⋮\n",
       " 351\n",
       " 352\n",
       " 353\n",
       " 354\n",
       " 355\n",
       " 356\n",
       " 357\n",
       " 358\n",
       " 359\n",
       " 360\n",
       " 361\n",
       " 362"
      ]
     },
     "execution_count": 55,
     "metadata": {},
     "output_type": "execute_result"
    }
   ],
   "source": [
    "max1demand=10    #use 1 more than actual demand\n",
    "max2demand=10    #use 1 more than actual demand\n",
    "sparti=[]  #start with null #ZoneActiveStateDefinition 1-Not active in 1; 2-Not active in 2; 3- Active in 1; 4- Active in 2;\n",
    "spartj=[]  #start with null #Zone1DemandStateDef\n",
    "spartk=[]  #start with null #Zone2DemandStateDef\n",
    "spartl=[]  #start with null #PreviousZoneStateDef\n",
    "sidx=[]    #start with null\n",
    "s=1        #start number for loop\n",
    "for i in 1:4           #Create an index to call   \n",
    "    for j in 1:max1demand\n",
    "        for k in 1:max2demand\n",
    "            for l in 1:2 #2 regions\n",
    "                sparti= push!(sparti,i)  #for i in ijk add to sparti definition\n",
    "                spartj= push!(spartj,j)  #for j in ijk add to spartj definition\n",
    "                spartk= push!(spartk,k)  #for k in ijk add to spartk definition\n",
    "                spartl= push!(spartl,l)  #for k in ijk add to spartk definition\n",
    "                sidx= push!(sidx,s)      #create index in sidx\n",
    "                s=s+1\n",
    "            end\n",
    "        end\n",
    "    end\n",
    "end\n",
    "\n",
    "#sparti\n",
    "#spartj\n",
    "#spartk\n",
    "#[sparti,spartj,spartk]\n",
    "#sidx\n",
    "\n",
    "#idxactive=  (sparti.>=3) .& (spartj+spartk.==2) ##(Wrapped into regional indices)\n",
    "idxidle= (sparti.<3) .& (spartj+spartk .>2)   #index all ijk where idling cannot occur\n",
    "idxZoneFrom= (sparti.==1) .& (spartl.==2) .| (sparti.==2) .& (spartl.==1) #idx where zone from cannot occur\n",
    "idxregion1= (sparti.==3) .& (spartj.==1)      #index all ijk where region 1 is active but there are no calls in region 1 to service\n",
    "idxregion2= (sparti.==4) .& (spartk.==1)      #index all ijk where region 2 is active but there are no calls in region 2 to service\n",
    "\n",
    "\n",
    "idxDEL=idxidle .| idxregion1 .| idxregion2 .| idxZoneFrom   #index of the previous 3 indices\n",
    "\n",
    "deleteat!(sparti, BitArray(idxDEL)) #delete idxDEL\n",
    "deleteat!(spartj, BitArray(idxDEL)) #delete idxDEL\n",
    "deleteat!(spartk, BitArray(idxDEL)) #delete idxDEL\n",
    "deleteat!(spartl, BitArray(idxDEL)) #delete idxDEL\n",
    "sidx= [1:length(sparti);];          #number of states\n",
    "sidx"
   ]
  },
  {
   "cell_type": "code",
   "execution_count": 78,
   "id": "5a54fb87-1549-4595-98b0-bce3ce4d67af",
   "metadata": {},
   "outputs": [
    {
     "data": {
      "text/plain": [
       "2×2 Matrix{Int64}:\n",
       " 5  4\n",
       " 4  5"
      ]
     },
     "execution_count": 78,
     "metadata": {},
     "output_type": "execute_result"
    }
   ],
   "source": [
    "λ=1.75\n",
    "μS=1.75\n",
    "μD=1\n",
    "μMatr=[5 4; \n",
    "        4 5]"
   ]
  },
  {
   "cell_type": "code",
   "execution_count": 79,
   "id": "55ba0eae-3e7c-4279-b1c0-1cafdbd2f2a9",
   "metadata": {},
   "outputs": [
    {
     "data": {
      "text/plain": [
       "362×1 Matrix{Float64}:\n",
       " 0.0\n",
       " 0.0\n",
       " 5.0\n",
       " 4.0\n",
       " 5.0\n",
       " 4.0\n",
       " 5.0\n",
       " 4.0\n",
       " 5.0\n",
       " 4.0\n",
       " 5.0\n",
       " 4.0\n",
       " 5.0\n",
       " ⋮\n",
       " 4.0\n",
       " 5.0\n",
       " 4.0\n",
       " 5.0\n",
       " 4.0\n",
       " 5.0\n",
       " 4.0\n",
       " 5.0\n",
       " 4.0\n",
       " 5.0\n",
       " 4.0\n",
       " 5.0"
      ]
     },
     "execution_count": 79,
     "metadata": {},
     "output_type": "execute_result"
    }
   ],
   "source": [
    "matrix= zeros(length(sidx),length(sidx))\n",
    "μMat= zeros(length(sidx),1)\n",
    "λ1idx=zeros(length(sidx)) \n",
    "λ2idx=zeros(length(sidx)) \n",
    "μidx=[]\n",
    "λ1=λ  #Define Arrival Rate for Zone1\n",
    "λ2=λ1  #Define Arrival Rate for Zone2                \n",
    "μSame=μS\n",
    "μDiff=μD\n",
    "for s in 1:length(sidx)\n",
    "    Zoneflag = sparti[s]\n",
    "    Call1 = spartj[s]\n",
    "    Call2 = spartk[s]\n",
    "    RegionFrom= spartl[s]\n",
    "    nextZoneflag = 0\n",
    "    nextCall1=0\n",
    "    nextCall2=0\n",
    "    nexts=0\n",
    "    RegionService= 0    \n",
    "    nextRegionFrom=0\n",
    "\n",
    "#  Arrival at region 1\n",
    "    if Call1<max1demand\n",
    "        nextCall1= Call1+1\n",
    "        nextCall2= Call2\n",
    "        if Zoneflag <=2\n",
    "            nextZoneflag = 3 #don't use double equal\n",
    "            nextRegionFrom=Zoneflag\n",
    "        else \n",
    "            nextZoneflag = Zoneflag  #don't use double equal\n",
    "            nextRegionFrom=RegionFrom\n",
    "        end\n",
    "\n",
    "        idx= (sparti.==nextZoneflag) .& (spartj.==nextCall1) .& (spartk.==nextCall2) .& (spartl.==nextRegionFrom)\n",
    "        nexts= sidx[idx] \n",
    "        matrix[nexts,s].=matrix[nexts,s] .+ λ\n",
    "        matrix[s,s]= matrix[s,s] - λ\n",
    "         λ1idx[s]=1\n",
    "    end\n",
    "    #Arrival at region 2\n",
    "    if Call2<max2demand\n",
    "        nextCall1= Call1\n",
    "        nextCall2= Call2+1       \n",
    "      if Zoneflag <=2\n",
    "            nextZoneflag = 4 #don't use double equal\n",
    "            nextRegionFrom=Zoneflag\n",
    "        else \n",
    "            nextZoneflag = Zoneflag  #don't use double equal\n",
    "            nextRegionFrom=RegionFrom\n",
    "        end\n",
    "        idx= (sparti.==nextZoneflag) .& (spartj.==nextCall1) .& (spartk.==nextCall2) .& (spartl.==nextRegionFrom)\n",
    "        nexts= sidx[idx] \n",
    "        matrix[nexts,s].=matrix[nexts,s] .+ λ2\n",
    "        matrix[s,s]= matrix[s,s] - λ2\n",
    "        λ2idx[s]=1\n",
    "    end\n",
    "    \n",
    "         #Service from Region to Region\n",
    "    if Zoneflag == 3\n",
    "        if Call1-1 >=2\n",
    "            RegionService=μMatr[1,RegionFrom]\n",
    "            nextZoneflag=3\n",
    "            nextCall1=Call1-1\n",
    "            nextCall2=Call2\n",
    "            nextRegionFrom=1\n",
    "            μidx=push!(μidx,1)        \n",
    "        elseif Call2 == 1 && Call1-1 ==1\n",
    "            RegionService=μMatr[1,RegionFrom]\n",
    "            nextZoneflag=1\n",
    "            nextCall1=Call1-1\n",
    "            nextCall2=Call2\n",
    "            nextRegionFrom=1\n",
    "            μidx=push!(μidx,1)            \n",
    "        else\n",
    "            RegionService=μMatr[1,RegionFrom]\n",
    "            nextZoneflag= 4\n",
    "            nextCall1= Call1-1\n",
    "            nextCall2= Call2\n",
    "            nextRegionFrom=1\n",
    "            μidx=push!(μidx,2)\n",
    "        end    \n",
    "    elseif Zoneflag == 4\n",
    "        if Call2-1 >=2\n",
    "            RegionService=μMatr[2,RegionFrom]\n",
    "            nextZoneflag=4\n",
    "            nextCall1=Call1\n",
    "            nextCall2=Call2-1\n",
    "            nextRegionFrom=2\n",
    "            μidx=push!(μidx,1)           \n",
    "        elseif Call2-1 ==1 && Call1 ==1\n",
    "            RegionService=μMatr[2,RegionFrom]\n",
    "            nextZoneflag=2\n",
    "            nextCall1=Call1\n",
    "            nextCall2=Call2-1\n",
    "            nextRegionFrom=2\n",
    "            μidx=push!(μidx,1)\n",
    "        else\n",
    "            RegionService=μMatr[2,RegionFrom]\n",
    "            nextZoneflag= 3\n",
    "            nextCall1= Call1\n",
    "            nextCall2= Call2-1  \n",
    "            nextRegionFrom=2\n",
    "            μidx=push!(μidx,2)\n",
    "        end\n",
    "    else \n",
    "        RegionService= 0\n",
    "        nextZoneflag=Zoneflag\n",
    "        nextCall1=Call1\n",
    "        nextCall2=Call2\n",
    "        nextRegionFrom=RegionFrom\n",
    "        μidx=push!(μidx,0)\n",
    "    end    \n",
    "  idx= (sparti.==nextZoneflag) .& (spartj.==nextCall1) .& (spartk.==nextCall2) .&(spartl.==nextRegionFrom)\n",
    "  nexts= sidx[idx] \n",
    "  matrix[nexts,s]=matrix[nexts,s].+RegionService\n",
    "  matrix[s,s]= matrix[s,s].- RegionService   \n",
    "    μMat[s,1]= μMat[s,1] .+ RegionService\n",
    " end\n",
    "matrix\n",
    "μMat"
   ]
  },
  {
   "cell_type": "code",
   "execution_count": 80,
   "id": "029afd4b-a7a0-44db-b1a8-3e00a053d0b5",
   "metadata": {},
   "outputs": [
    {
     "data": {
      "text/plain": [
       "362×6 Matrix{Any}:\n",
       "   1  1   1   1  1  0.125373\n",
       "   2  2   1   1  2  0.125373\n",
       "   3  3   2   1  1  0.047239\n",
       "   4  3   2   1  2  0.0506528\n",
       "   5  3   2   2  1  0.0226434\n",
       "   6  3   2   2  2  0.011819\n",
       "   7  3   2   3  1  0.0118681\n",
       "   8  3   2   3  2  0.00275777\n",
       "   9  3   2   4  1  0.00648654\n",
       "  10  3   2   4  2  0.000643479\n",
       "  11  3   2   5  1  0.00365535\n",
       "  12  3   2   5  2  0.000150145\n",
       "  13  3   2   6  1  0.0021132\n",
       "   ⋮                ⋮\n",
       " 351  4  10   5  1  5.317e-7\n",
       " 352  4  10   5  2  0.000475067\n",
       " 353  4  10   6  1  4.617e-7\n",
       " 354  4  10   6  2  0.000305138\n",
       " 355  4  10   7  1  3.508e-7\n",
       " 356  4  10   7  2  0.000181102\n",
       " 357  4  10   8  1  2.426e-7\n",
       " 358  4  10   8  2  9.95869e-5\n",
       " 359  4  10   9  1  1.569e-7\n",
       " 360  4  10   9  2  5.01331e-5\n",
       " 361  4  10  10  1  2.392e-7\n",
       " 362  4  10  10  2  2.21508e-5"
      ]
     },
     "execution_count": 80,
     "metadata": {},
     "output_type": "execute_result"
    }
   ],
   "source": [
    "matrix[length(sidx),:].= 1 #prep Ahat for matrix inversion\n",
    "inverse=inv(matrix) #invert Ahat matrix\n",
    "X=inverse[:,length(sidx)] #extract π from matrix\n",
    "X=round.(X,digits=10) #round to 10 digits\n",
    "A=sparti[1:length(sidx)] \n",
    "B=spartj[1:length(sidx)]\n",
    "C=spartk[1:length(sidx)]\n",
    "D=spartl[1:length(sidx)]\n",
    "M=hcat(sidx,A,B,C,D,X)     #create readable matrix for state, sparti,spartj,spartk, and pi"
   ]
  },
  {
   "cell_type": "code",
   "execution_count": 1,
   "id": "eae61197-6c02-49b5-8150-734029717d61",
   "metadata": {},
   "outputs": [
    {
     "ename": "LoadError",
     "evalue": "UndefVarError: λ1idx not defined",
     "output_type": "error",
     "traceback": [
      "UndefVarError: λ1idx not defined",
      "",
      "Stacktrace:",
      " [1] top-level scope",
      "   @ In[1]:1",
      " [2] eval",
      "   @ .\\boot.jl:360 [inlined]",
      " [3] include_string(mapexpr::typeof(REPL.softscope), mod::Module, code::String, filename::String)",
      "   @ Base .\\loading.jl:1116"
     ]
    }
   ],
   "source": [
    "Throughput=(λ)*sum(M[λ1idx.==1,6],M[λ2idx.==1,6])"
   ]
  },
  {
   "cell_type": "code",
   "execution_count": 2,
   "id": "ff8d4186-fdc1-43a3-9901-b643208c262d",
   "metadata": {},
   "outputs": [
    {
     "ename": "LoadError",
     "evalue": "UndefVarError: μMat not defined",
     "output_type": "error",
     "traceback": [
      "UndefVarError: μMat not defined",
      "",
      "Stacktrace:",
      " [1] top-level scope",
      "   @ In[2]:1",
      " [2] eval",
      "   @ .\\boot.jl:360 [inlined]",
      " [3] include_string(mapexpr::typeof(REPL.softscope), mod::Module, code::String, filename::String)",
      "   @ Base .\\loading.jl:1116"
     ]
    }
   ],
   "source": [
    "Gain=μMat'*X"
   ]
  },
  {
   "cell_type": "code",
   "execution_count": 83,
   "id": "b6ed509c-e0f3-4a57-8e36-0ffe789fb784",
   "metadata": {},
   "outputs": [
    {
     "data": {
      "text/plain": [
       "2.6193209142000016"
      ]
     },
     "execution_count": 83,
     "metadata": {},
     "output_type": "execute_result"
    }
   ],
   "source": [
    "L=0\n",
    "for s in 1:length(sidx)\n",
    "  L=L+(B[s]+C[s]-2)*X[s]\n",
    "end\n",
    "L      "
   ]
  },
  {
   "cell_type": "code",
   "execution_count": 84,
   "id": "0f25264a-5df8-40e8-bb55-df2166d8ba4b",
   "metadata": {},
   "outputs": [
    {
     "data": {
      "text/plain": [
       "0.7484109171496018"
      ]
     },
     "execution_count": 84,
     "metadata": {},
     "output_type": "execute_result"
    }
   ],
   "source": [
    "W=L/Throughput   "
   ]
  },
  {
   "cell_type": "code",
   "execution_count": 85,
   "id": "5d99618d-4246-418d-8876-ee3023fc0105",
   "metadata": {},
   "outputs": [
    {
     "data": {
      "text/plain": [
       "0.2507464972"
      ]
     },
     "execution_count": 85,
     "metadata": {},
     "output_type": "execute_result"
    }
   ],
   "source": [
    "#Percentage of time with zero calls\n",
    "Midx0= (spartj .+ spartk).==2\n",
    "sum(M[Midx0.==1,6])"
   ]
  },
  {
   "cell_type": "code",
   "execution_count": 87,
   "id": "44722267-769a-4c67-a00f-a057bff7b9b9",
   "metadata": {},
   "outputs": [
    {
     "data": {
      "text/plain": [
       "0.195783683"
      ]
     },
     "execution_count": 87,
     "metadata": {},
     "output_type": "execute_result"
    }
   ],
   "source": [
    "#Percentage of time with one calls\n",
    "Midx1= (spartj .+ spartk).==3\n",
    "sum(M[Midx0.==1,6])"
   ]
  },
  {
   "cell_type": "code",
   "execution_count": null,
   "id": "d6165304-115b-4255-b934-7076bd23bb44",
   "metadata": {},
   "outputs": [],
   "source": []
  }
 ],
 "metadata": {
  "kernelspec": {
   "display_name": "Julia 1.6.2",
   "language": "julia",
   "name": "julia-1.6"
  },
  "language_info": {
   "file_extension": ".jl",
   "mimetype": "application/julia",
   "name": "julia",
   "version": "1.6.2"
  }
 },
 "nbformat": 4,
 "nbformat_minor": 5
}
