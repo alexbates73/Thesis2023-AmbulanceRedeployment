{
 "cells": [
  {
   "cell_type": "code",
   "execution_count": 1,
   "id": "6ac16505-1c84-415c-98f4-54118500583d",
   "metadata": {},
   "outputs": [
    {
     "data": {
      "text/plain": [
       "1640-element Vector{Int64}:\n",
       "    1\n",
       "    2\n",
       "    3\n",
       "    4\n",
       "    5\n",
       "    6\n",
       "    7\n",
       "    8\n",
       "    9\n",
       "   10\n",
       "   11\n",
       "   12\n",
       "   13\n",
       "    ⋮\n",
       " 1629\n",
       " 1630\n",
       " 1631\n",
       " 1632\n",
       " 1633\n",
       " 1634\n",
       " 1635\n",
       " 1636\n",
       " 1637\n",
       " 1638\n",
       " 1639\n",
       " 1640"
      ]
     },
     "execution_count": 1,
     "metadata": {},
     "output_type": "execute_result"
    }
   ],
   "source": [
    "max1demand=11   #use 1 more than actual demand\n",
    "max2demand=11   #use 1 more than actual demand\n",
    "sparti=[]  #start with null\n",
    "spartj=[]  #start with null\n",
    "spartk=[]  #start with null\n",
    "spartl=[]  #start with null\n",
    "spartm=[]\n",
    "spartn=[]\n",
    "sidx=[]    #start with null\n",
    "s=1        #start number for loop\n",
    "for i in 1:4          #Create an index to call\n",
    "    for j in 1:4\n",
    "        for k in 1:max1demand\n",
    "            for l in 1:max2demand\n",
    "                for m in 1:2\n",
    "                    for n in 1:2\n",
    "          #statei(i+1) = s\n",
    "            sparti = push!(sparti,i)  #for i in ijkl add to sparti definition\n",
    "            spartj = push!(spartj,j) #for j in ijkl add to spartj definition\n",
    "            spartk = push!(spartk,k) #for k in ijkl add to spartk definition\n",
    "            spartl = push!(spartl,l) #for l in ijkl add to spartl definition\n",
    "            spartm = push!(spartm,m) #for m in ijkl add to spartl definition\n",
    "            spartn = push!(spartn,n) #for n in ijkl add to spartl definition            \n",
    "            sidx= push!(sidx,s)      #create index in sidx\n",
    "            s=s+1\n",
    "                    end \n",
    "                end\n",
    "            end\n",
    "        end\n",
    "    end\n",
    "end\n",
    "\n",
    "#sparti\n",
    "#spartj\n",
    "#spartk\n",
    "#[sparti,spartj,spartk]\n",
    "#sidx\n",
    "\n",
    "#idxactive=  (sparti.>=4) .& (spartj+spartk+spartl.==3) ##(Wrapped into regional indices)\n",
    "idxidle= (sparti.<3) .& (spartj.<3) .& (spartk+spartl .>2)   #index all ijkl where idling cannot occur\n",
    "idxidle2= (sparti.>=3) .& (spartj.<3) .& (spartk+spartl .>3) #index where more than 2 calls exist but ambulance 2 is not busy\n",
    "idxidle1= (spartj.>=3) .& (sparti.<3) .& (spartk+spartl .>3) #index where more than 2 calls exist but ambulance 1 is not busy\n",
    "idxregion1= ((sparti.==3) .| (spartj.==3)) .& (spartk.==1)      #index all ijkl where region 1 is active but there are no calls in region 1 to service\n",
    "idxregion2= ((sparti.==4) .| (spartj.==4)) .& (spartl.==1)      #index all ijkl where region 2 is active but there are no calls in region 2 to service\n",
    "idxregion11= ((sparti.==3) .& (spartj.==3)) .& (spartk.==2)      #index all ijkl where region 1 is active with both ambulances but there is only 1 call in region 1 to service\n",
    "idxregion21= ((sparti.==4) .& (spartj.==4)) .& (spartl.==2)      #index all ijkl where region 2 is active with both ambulances but there is only 1 call in region 2 to service\n",
    "\n",
    "\n",
    "idxDEL=idxidle .| idxregion1 .| idxregion2 .| idxidle1  .| idxidle2 .| idxregion11 .| idxregion21 #index of the previous 3 indices\n",
    "\n",
    "deleteat!(sparti, BitArray(idxDEL)) #delete idxDEL\n",
    "deleteat!(spartj, BitArray(idxDEL)) #delete idxDEL\n",
    "deleteat!(spartk, BitArray(idxDEL)) #delete idxDEL\n",
    "deleteat!(spartl, BitArray(idxDEL)) #delete idxDEL\n",
    "deleteat!(spartm, BitArray(idxDEL)) #delete idxDEL\n",
    "deleteat!(spartn, BitArray(idxDEL)) #delete idxDEL  \n",
    "sidx= [1:length(sparti);]       #number of states"
   ]
  },
  {
   "cell_type": "code",
   "execution_count": null,
   "id": "1ada1592-1651-4a78-a060-cc32b9378341",
   "metadata": {},
   "outputs": [],
   "source": []
  },
  {
   "cell_type": "code",
   "execution_count": 2,
   "id": "e12ac549-ba62-4aab-b330-da42c3c1eeac",
   "metadata": {},
   "outputs": [],
   "source": [
    "#Add Arrival Code\n",
    "  #Define overall Arrival Rate for every zone\n",
    "#λ1=.5  #Define Arrival Rate for Zone1\n",
    "#λ2=.5  #Define Arrival Rate for Zone2                \n",
    "\n",
    "# μ11=1  #Define Service Rate from Zone1 to Zone1\n",
    "# μ12=.7 #Define Service Rate from Zone1 to Zone2\n",
    "# μ21=.7 #Define Service Rate from Zone2 to Zone1\n",
    "# μ22=1  #Define Service Rate from Zone2 to Zone2\n",
    "\n",
    "using LinearAlgebra\n"
   ]
  },
  {
   "cell_type": "code",
   "execution_count": 8,
   "id": "7f76e795-5482-48f2-83cb-d56a9a931cf1",
   "metadata": {
    "tags": []
   },
   "outputs": [],
   "source": [
    "N=[\"λ\" \"μ1\" \"μ2\" \"Throughput\" \"Deliveries/Hour\" \"Avg. # in Sys\" \"Variance\" \"Avg. Time in Sys\" \"% of Time 0 calls\" \"% of Time 1 call\" \"% of Time 2 Call\" \"Compliance Rate\"]\n",
    "μ1=5.5\n",
    "λst=0 #Define overall Arrival Rate for every zone\n",
    "\n",
    "\n",
    "for i in 1:1\n",
    "     λst= .5\n",
    "     μ1=2.75\n",
    "  for j in 1:8\n",
    "      μ1=μ1-.25\n",
    "\n",
    "μ2=.9*μ1\n",
    "μMatr=[μ1 μ2; \n",
    "       μ2 μ1]\n",
    "matrix= zeros(length(sidx),length(sidx))\n",
    "λ1idx=zeros(length(sidx))\n",
    "λ2idx=zeros(length(sidx)) \n",
    "μMat= zeros(length(sidx),1)\n",
    "for s in 1:length(sidx)\n",
    "    Zoneflag1 = sparti[s]\n",
    "    Zoneflag2= spartj[s]\n",
    "    Call1 = spartk[s]\n",
    "    Call2 = spartl[s]\n",
    "    RegionFrom1= spartm[s]\n",
    "    RegionFrom2= spartn[s]\n",
    "    nextZoneflag1 = 0\n",
    "    nextZoneflag2 = 0\n",
    "    nextCall1=0\n",
    "    nextCall2=0\n",
    "    nextRegionFrom1=0\n",
    "    nextRegionFrom2=0\n",
    "    nexts=0\n",
    "    λ= 0    \n",
    " #   Arrival at region 1\n",
    "    if Call1<max1demand\n",
    "        nextCall1= Call1+1\n",
    "        nextCall2= Call2        \n",
    "        if Zoneflag1 == 1 \n",
    "            if Zoneflag2>1\n",
    "             nextZoneflag1=3\n",
    "             nextZoneflag2=Zoneflag2\n",
    "             nextRegionFrom1=1\n",
    "             nextRegionFrom2=RegionFrom2\n",
    "             λ=λst\n",
    "             idx= (sparti.==nextZoneflag1) .& (spartj.==nextZoneflag2) .& (spartk.==nextCall1) .&(spartl.==nextCall2) .& (spartm.==nextRegionFrom1) .&(spartn.==nextRegionFrom2)\n",
    "             nexts= sidx[idx] \n",
    "             matrix[nexts,s].= matrix[nexts,s].+λ\n",
    "             matrix[s,s]= matrix[s,s]-λ       \n",
    "             λ1idx[s]=1 \n",
    "            else \n",
    "             λ=λst/2\n",
    "             nextRegionFrom1=1\n",
    "             nextRegionFrom2=1\n",
    "             idx= (sparti.==3) .& (spartj.==1) .& (spartk.==nextCall1) .&(spartl.==nextCall2).& (spartm.==nextRegionFrom1) .&(spartn.==nextRegionFrom2)\n",
    "             nexts= sidx[idx] \n",
    "             matrix[nexts,s].= matrix[nexts,s].+λ\n",
    "             matrix[s,s]= matrix[s,s]-λ \n",
    "             idx= (sparti.==1) .& (spartj.==3) .& (spartk.==nextCall1) .&(spartl.==nextCall2) .& (spartm.==nextRegionFrom1) .&(spartn.==nextRegionFrom2)\n",
    "             nexts= sidx[idx] \n",
    "             matrix[nexts,s].=matrix[nexts,s].+λ\n",
    "             matrix[s,s]= matrix[s,s]-λ   \n",
    "             λ1idx[s]=1 \n",
    "            end\n",
    "        elseif Zoneflag1 == 2 \n",
    "            if Zoneflag2>2\n",
    "             nextZoneflag1=3\n",
    "             nextZoneflag2=Zoneflag2\n",
    "             nextRegionFrom1=2\n",
    "             nextRegionFrom2=RegionFrom2\n",
    "             λ=λst\n",
    "             idx= (sparti.==nextZoneflag1) .& (spartj.==nextZoneflag2) .& (spartk.==nextCall1) .&(spartl.==nextCall2) .& (spartm.==nextRegionFrom1) .&(spartn.==nextRegionFrom2)\n",
    "             nexts= sidx[idx] \n",
    "             matrix[nexts,s].= matrix[nexts,s].+λ\n",
    "             matrix[s,s]= matrix[s,s]-λ   \n",
    "             λ1idx[s]=1    \n",
    "            elseif Zoneflag2==1\n",
    "             nextZoneflag1=Zoneflag1\n",
    "             nextZoneflag2=3\n",
    "             nextRegionFrom1=RegionFrom1\n",
    "             nextRegionFrom2=1 \n",
    "             λ=λst\n",
    "             idx= (sparti.==nextZoneflag1) .& (spartj.==nextZoneflag2) .& (spartk.==nextCall1) .&(spartl.==nextCall2) .& (spartm.==nextRegionFrom1) .&(spartn.==nextRegionFrom2)\n",
    "             nexts= sidx[idx] \n",
    "             matrix[nexts,s].= matrix[nexts,s].+λ\n",
    "             matrix[s,s]= matrix[s,s]-λ\n",
    "             λ1idx[s]=1 \n",
    "            else \n",
    "             λ=λst/2   \n",
    "             nextRegionFrom1=2\n",
    "             nextRegionFrom2=2                 \n",
    "             idx= (sparti.==3) .& (spartj.==2) .& (spartk.==nextCall1) .&(spartl.==nextCall2) .& (spartm.==nextRegionFrom1) .&(spartn.==nextRegionFrom2)\n",
    "             nexts= sidx[idx] \n",
    "             matrix[nexts,s].= matrix[nexts,s].+λ\n",
    "             matrix[s,s]= matrix[s,s]-λ \n",
    "             idx= (sparti.==2) .& (spartj.==3) .& (spartk.==nextCall1) .&(spartl.==nextCall2) .& (spartm.==nextRegionFrom1) .&(spartn.==nextRegionFrom2)\n",
    "             nexts= sidx[idx] \n",
    "             matrix[nexts,s].=matrix[nexts,s].+λ\n",
    "             matrix[s,s]= matrix[s,s]-λ \n",
    "             λ1idx[s]=1 \n",
    "            end            \n",
    "        elseif Zoneflag1>2 && Zoneflag2<=2\n",
    "            nextZoneflag1 = Zoneflag1  \n",
    "            nextZoneflag2 = 3 \n",
    "            nextRegionFrom1=RegionFrom1\n",
    "            nextRegionFrom2=Zoneflag2\n",
    "            λ=λst\n",
    "            idx= (sparti.==nextZoneflag1) .& (spartj.==nextZoneflag2) .& (spartk.==nextCall1) .&(spartl.==nextCall2) .& (spartm.==nextRegionFrom1) .&(spartn.==nextRegionFrom2)\n",
    "            nexts= sidx[idx] \n",
    "            matrix[nexts,s].= matrix[nexts,s].+λ\n",
    "            matrix[s,s]= matrix[s,s]-λ        \n",
    "            λ1idx[s]=1 \n",
    "        else Zoneflag1>2 && Zoneflag2>2\n",
    "            nextZoneflag1 = Zoneflag1\n",
    "            nextZoneflag2 = Zoneflag2\n",
    "            nextRegionFrom1=RegionFrom1\n",
    "            nextRegionFrom2=RegionFrom2\n",
    "            λ=λst\n",
    "            idx= (sparti.==nextZoneflag1) .& (spartj.==nextZoneflag2) .& (spartk.==nextCall1) .&(spartl.==nextCall2) .& (spartm.==nextRegionFrom1) .&(spartn.==nextRegionFrom2)\n",
    "            nexts= sidx[idx] \n",
    "            matrix[nexts,s].= matrix[nexts,s].+λ\n",
    "            matrix[s,s]= matrix[s,s]-λ  \n",
    "            λ1idx[s]=1 \n",
    "        end        \n",
    "    end\n",
    "end  \n",
    "for s in 1:length(sidx)\n",
    "    Zoneflag1 = sparti[s]\n",
    "    Zoneflag2= spartj[s]\n",
    "    Call1 = spartk[s]\n",
    "    Call2 = spartl[s]\n",
    "    RegionFrom1= spartm[s]\n",
    "    RegionFrom2= spartn[s]    \n",
    "    nextZoneflag1 = 0\n",
    "    nextZoneflag2 = 0\n",
    "    nextCall1=0\n",
    "    nextCall2=0\n",
    "    nextRegionFrom1=0\n",
    "    nextRegionFrom2=0    \n",
    "    nexts=0\n",
    "    λ= 0  \n",
    "  #   Arrival at region 2\n",
    "    if Call2<max2demand\n",
    "        nextCall1= Call1\n",
    "        nextCall2= Call2+1               \n",
    "        if Zoneflag1 == 2 \n",
    "            if Zoneflag2!=2\n",
    "             nextZoneflag1=4\n",
    "             nextZoneflag2=Zoneflag2\n",
    "             nextRegionFrom1=2\n",
    "             nextRegionFrom2=RegionFrom2\n",
    "             λ=λst\n",
    "             idx= (sparti.==nextZoneflag1) .& (spartj.==nextZoneflag2) .& (spartk.==nextCall1) .&(spartl.==nextCall2) .& (spartm.==nextRegionFrom1) .&(spartn.==nextRegionFrom2)\n",
    "             nexts= sidx[idx] \n",
    "             matrix[nexts,s].= matrix[nexts,s].+λ\n",
    "             matrix[s,s]= matrix[s,s]-λ\n",
    "                λ2idx[s]=1 \n",
    "            else \n",
    "             λ=λst/2   \n",
    "             nextRegionFrom1=2\n",
    "             nextRegionFrom2=2            \n",
    "             idx= (sparti.==4) .& (spartj.==2) .& (spartk.==nextCall1) .&(spartl.==nextCall2) .& (spartm.==nextRegionFrom1) .&(spartn.==nextRegionFrom2)\n",
    "             nexts= sidx[idx] \n",
    "             matrix[nexts,s].= matrix[nexts,s].+λ\n",
    "             matrix[s,s]= matrix[s,s]-λ \n",
    "             idx= (sparti.==2) .& (spartj.==4) .& (spartk.==nextCall1) .&(spartl.==nextCall2) .& (spartm.==nextRegionFrom1) .&(spartn.==nextRegionFrom2)\n",
    "             nexts= sidx[idx] \n",
    "             matrix[nexts,s].=matrix[nexts,s].+λ\n",
    "             matrix[s,s]= matrix[s,s]-λ\n",
    "                λ2idx[s]=1 \n",
    "            end\n",
    "        elseif Zoneflag1 == 1\n",
    "            if Zoneflag2>2\n",
    "             nextZoneflag1=4\n",
    "             nextZoneflag2=Zoneflag2\n",
    "             nextRegionFrom1=1\n",
    "             nextRegionFrom2=RegionFrom2                            \n",
    "             λ=λst\n",
    "             idx= (sparti.==nextZoneflag1) .& (spartj.==nextZoneflag2) .& (spartk.==nextCall1) .&(spartl.==nextCall2) .& (spartm.==nextRegionFrom1) .&(spartn.==nextRegionFrom2)\n",
    "             nexts= sidx[idx] \n",
    "             matrix[nexts,s].= matrix[nexts,s].+λ\n",
    "             matrix[s,s]= matrix[s,s]-λ   \n",
    "                λ2idx[s]=1 \n",
    "            elseif Zoneflag2==2                \n",
    "             nextZoneflag1=Zoneflag1\n",
    "             nextZoneflag2=4\n",
    "             nextRegionFrom1=RegionFrom1\n",
    "             nextRegionFrom2=2                  \n",
    "             λ=λst\n",
    "             idx= (sparti.==nextZoneflag1) .& (spartj.==nextZoneflag2) .& (spartk.==nextCall1) .&(spartl.==nextCall2) .& (spartm.==nextRegionFrom1) .&(spartn.==nextRegionFrom2)\n",
    "             nexts= sidx[idx] \n",
    "             matrix[nexts,s].= matrix[nexts,s].+λ\n",
    "             matrix[s,s]= matrix[s,s]-λ    \n",
    "                λ2idx[s]=1 \n",
    "            else \n",
    "             λ=λst/2   \n",
    "             nextRegionFrom1=1\n",
    "             nextRegionFrom2=1                  \n",
    "             idx= (sparti.==4) .& (spartj.==1) .& (spartk.==nextCall1) .&(spartl.==nextCall2) .& (spartm.==nextRegionFrom1) .&(spartn.==nextRegionFrom2)\n",
    "             nexts= sidx[idx] \n",
    "             matrix[nexts,s].= matrix[nexts,s].+λ\n",
    "             matrix[s,s]= matrix[s,s]-λ \n",
    "             idx= (sparti.==1) .& (spartj.==4) .& (spartk.==nextCall1) .&(spartl.==nextCall2) .& (spartm.==nextRegionFrom1) .&(spartn.==nextRegionFrom2)\n",
    "             nexts= sidx[idx] \n",
    "             matrix[nexts,s].=matrix[nexts,s].+λ\n",
    "             matrix[s,s]= matrix[s,s]-λ   \n",
    "                λ2idx[s]=1 \n",
    "            end            \n",
    "        elseif Zoneflag1>2 && Zoneflag2<=2\n",
    "            nextZoneflag1 = Zoneflag1  \n",
    "            nextZoneflag2 = 4\n",
    "            nextRegionFrom1=RegionFrom1\n",
    "            nextRegionFrom2=Zoneflag2   \n",
    "            λ=λst\n",
    "            idx= (sparti.==nextZoneflag1) .& (spartj.==nextZoneflag2) .& (spartk.==nextCall1) .&(spartl.==nextCall2) .& (spartm.==nextRegionFrom1) .&(spartn.==nextRegionFrom2)\n",
    "            nexts= sidx[idx] \n",
    "            matrix[nexts,s].= matrix[nexts,s].+λ\n",
    "            matrix[s,s]= matrix[s,s]-λ \n",
    "            λ2idx[s]=1 \n",
    "        \n",
    "        else Zoneflag1>2 && Zoneflag2>2\n",
    "            nextZoneflag1 = Zoneflag1\n",
    "            nextZoneflag2 = Zoneflag2\n",
    "            nextRegionFrom1=RegionFrom1\n",
    "            nextRegionFrom2=RegionFrom2\n",
    "            λ=λst\n",
    "            idx= (sparti.==nextZoneflag1) .& (spartj.==nextZoneflag2) .& (spartk.==nextCall1) .&(spartl.==nextCall2) .& (spartm.==nextRegionFrom1) .&(spartn.==nextRegionFrom2)\n",
    "            nexts= sidx[idx] \n",
    "            matrix[nexts,s].= matrix[nexts,s].+λ\n",
    "            matrix[s,s]= matrix[s,s]-λ\n",
    "            λ2idx[s]=1 \n",
    "        end\n",
    "    end\n",
    "end\n",
    "for s in 1:length(sidx)\n",
    "    Zoneflag1 = sparti[s]\n",
    "    Zoneflag2= spartj[s]\n",
    "    Call1 = spartk[s]\n",
    "    Call2 = spartl[s]\n",
    "    RegionFrom1= spartm[s]\n",
    "    RegionFrom2= spartn[s]    \n",
    "    nextZoneflag1 = 0\n",
    "    nextZoneflag2 = 0\n",
    "    nextCall1=0\n",
    "    nextCall2=0\n",
    "    nextRegionFrom1= 0\n",
    "    nextRegionFrom2= 0    \n",
    "    nexts=0\n",
    "    RegionService= 0         \n",
    "     #Service from Region to Region    \n",
    "     if Zoneflag1 == 3\n",
    "        if Zoneflag2 == 4\n",
    "            if Call1-1 >1\n",
    "                RegionService = μMatr[1,RegionFrom1]\n",
    "                nextZoneflag1= 3\n",
    "                nextZoneflag2= Zoneflag2\n",
    "                nextRegionFrom1=1\n",
    "                nextRegionFrom2=RegionFrom2\n",
    "                nextCall1= Call1-1\n",
    "                nextCall2= Call2\n",
    "            elseif Call2-1 == 1 && Call1-1 == 1\n",
    "                RegionService = μMatr[1,RegionFrom1]\n",
    "                nextZoneflag1= 1\n",
    "                nextZoneflag2= Zoneflag2\n",
    "                nextRegionFrom1=1\n",
    "                nextRegionFrom2=RegionFrom2\n",
    "                nextCall1= Call1-1\n",
    "                nextCall2= Call2                \n",
    "            else\n",
    "                RegionService = μMatr[1,RegionFrom1]\n",
    "                nextZoneflag1= 4\n",
    "                nextZoneflag2= Zoneflag2\n",
    "                nextCall1= Call1-1\n",
    "                nextCall2= Call2\n",
    "                nextRegionFrom1=1\n",
    "                nextRegionFrom2=RegionFrom2\n",
    "            end           \n",
    "        elseif Zoneflag2==3\n",
    "            if  Call1-2 >1\n",
    "                RegionService = μMatr[1,RegionFrom1]\n",
    "                nextZoneflag1= 3\n",
    "                nextZoneflag2= Zoneflag2\n",
    "                nextRegionFrom1=1\n",
    "                nextRegionFrom2=RegionFrom2\n",
    "                nextCall1= Call1-1\n",
    "                nextCall2= Call2\n",
    "            elseif Call2 == 1 && Call1-2 ==1\n",
    "                RegionService = μMatr[1,RegionFrom1]\n",
    "                nextZoneflag1= 1\n",
    "                nextZoneflag2= Zoneflag2\n",
    "                nextRegionFrom1=1\n",
    "                nextRegionFrom2=RegionFrom2\n",
    "                nextCall1= Call1-1\n",
    "                nextCall2= Call2                \n",
    "            else\n",
    "                RegionService = μMatr[1,RegionFrom1]\n",
    "                nextZoneflag1= 4\n",
    "                nextZoneflag2= Zoneflag2\n",
    "                nextCall1= Call1-1\n",
    "                nextCall2= Call2\n",
    "                nextRegionFrom1=1\n",
    "                nextRegionFrom2=RegionFrom2\n",
    "            end \n",
    "        else \n",
    "                RegionService = μMatr[1,RegionFrom1]\n",
    "                nextZoneflag1= 1\n",
    "                nextZoneflag2= Zoneflag2\n",
    "                nextCall1= Call1-1\n",
    "                nextCall2= Call2  \n",
    "                nextRegionFrom1=1\n",
    "                nextRegionFrom2=RegionFrom2\n",
    "        end      \n",
    "    elseif Zoneflag1==4  \n",
    "          if Zoneflag2 == 3\n",
    "            if  Call2-1 >1\n",
    "                RegionService = μMatr[1,RegionFrom1]\n",
    "                nextZoneflag1= 4\n",
    "                nextZoneflag2= Zoneflag2\n",
    "                nextRegionFrom1=2\n",
    "                nextRegionFrom2=RegionFrom2\n",
    "                nextCall1= Call1\n",
    "                nextCall2= Call2-1\n",
    "            elseif Call2-1 == 1 && Call1-1 == 1\n",
    "                RegionService = μMatr[1,RegionFrom1]\n",
    "                nextZoneflag1= 2\n",
    "                nextZoneflag2= Zoneflag2\n",
    "                nextRegionFrom1=2\n",
    "                nextRegionFrom2=RegionFrom2\n",
    "                nextCall1= Call1\n",
    "                nextCall2= Call2-1               \n",
    "            else\n",
    "                RegionService = μMatr[1,RegionFrom1]\n",
    "                nextZoneflag1= 3\n",
    "                nextZoneflag2= Zoneflag2\n",
    "                nextCall1= Call1\n",
    "                nextCall2= Call2-1\n",
    "                nextRegionFrom1=2\n",
    "                nextRegionFrom2=RegionFrom2\n",
    "            end               \n",
    "        elseif Zoneflag2==4\n",
    "            if  Call2-2 >1\n",
    "                RegionService = μMatr[1,RegionFrom1]\n",
    "                nextZoneflag1= 4\n",
    "                nextZoneflag2= Zoneflag2\n",
    "                nextRegionFrom1=2\n",
    "                nextRegionFrom2=RegionFrom2\n",
    "                nextCall1= Call1\n",
    "                nextCall2= Call2-1\n",
    "            elseif Call1 == 1 && Call2-2 ==1\n",
    "                RegionService = μMatr[1,RegionFrom1]\n",
    "                nextZoneflag1= 2\n",
    "                nextZoneflag2= Zoneflag2\n",
    "                nextRegionFrom1=2\n",
    "                nextRegionFrom2=RegionFrom2\n",
    "                nextCall1= Call1\n",
    "                nextCall2= Call2-1               \n",
    "            else\n",
    "                RegionService = μMatr[1,RegionFrom1]\n",
    "                nextZoneflag1= 3\n",
    "                nextZoneflag2= Zoneflag2\n",
    "                nextCall1= Call1\n",
    "                nextCall2= Call2-1\n",
    "                nextRegionFrom1=2\n",
    "                nextRegionFrom2=RegionFrom2\n",
    "            end \n",
    "        else \n",
    "                RegionService = μMatr[2,RegionFrom1]\n",
    "                nextZoneflag1= 2\n",
    "                nextZoneflag2= Zoneflag2\n",
    "                nextCall1= Call1\n",
    "                nextCall2= Call2-1     \n",
    "                nextRegionFrom1=2\n",
    "                nextRegionFrom2=RegionFrom2\n",
    "        end         \n",
    "    else\n",
    "    end        \n",
    "         idx= (sparti.==nextZoneflag1) .& (spartj.==nextZoneflag2) .& (spartk.==nextCall1) .&(spartl.==nextCall2).& (spartm.==nextRegionFrom1) .&(spartn.==nextRegionFrom2)\n",
    "         nexts= sidx[idx] \n",
    "         matrix[nexts,s]= matrix[nexts,s] .+ RegionService\n",
    "         matrix[s,s]= matrix[s,s].- RegionService  \n",
    "        μMat[s,1]= μMat[s,1] .+ RegionService    \n",
    "end\n",
    "for s in 1:length(sidx)\n",
    "    Zoneflag1 = sparti[s]\n",
    "    Zoneflag2= spartj[s]\n",
    "    Call1 = spartk[s]\n",
    "    Call2 = spartl[s]\n",
    "    RegionFrom1= spartm[s]\n",
    "    RegionFrom2= spartn[s]    \n",
    "    nextZoneflag1 = 0\n",
    "    nextZoneflag2 = 0\n",
    "    nextCall1=0\n",
    "    nextCall2=0\n",
    "    nextRegionFrom1= 0\n",
    "    nextRegionFrom2= 0    \n",
    "    nexts=0\n",
    "    RegionService= 0         \n",
    "      #Service from Region to Region    \n",
    "     if Zoneflag2 == 3\n",
    "        if Zoneflag1 == 4\n",
    "            if  Call1-1 >1\n",
    "                RegionService = μMatr[1,RegionFrom2]\n",
    "                nextZoneflag1= Zoneflag1\n",
    "                nextZoneflag2= 3\n",
    "                nextRegionFrom1=RegionFrom1\n",
    "                nextRegionFrom2=1\n",
    "                nextCall1= Call1-1\n",
    "                nextCall2= Call2\n",
    "            elseif Call2-1 == 1 && Call1-1 == 1\n",
    "                RegionService = μMatr[1,RegionFrom2]\n",
    "                nextZoneflag1= Zoneflag1\n",
    "                nextZoneflag2= 1\n",
    "                nextRegionFrom1=RegionFrom1\n",
    "                nextRegionFrom2=1\n",
    "                nextCall1= Call1-1\n",
    "                nextCall2= Call2                \n",
    "            else\n",
    "                RegionService = μMatr[1,RegionFrom2]\n",
    "                nextZoneflag1= Zoneflag1\n",
    "                nextZoneflag2= 4\n",
    "                nextCall1= Call1-1\n",
    "                nextCall2= Call2\n",
    "                nextRegionFrom1=RegionFrom1\n",
    "                nextRegionFrom2=1\n",
    "            end           \n",
    "        elseif Zoneflag1==3\n",
    "            if  Call1-2 >1\n",
    "                RegionService = μMatr[1,RegionFrom2]\n",
    "                nextZoneflag1= Zoneflag1\n",
    "                nextZoneflag2= 3\n",
    "                nextRegionFrom1=RegionFrom1\n",
    "                nextRegionFrom2=1\n",
    "                nextCall1= Call1-1\n",
    "                nextCall2= Call2\n",
    "            elseif Call2 == 1 && Call1-2 ==1\n",
    "                RegionService = μMatr[1,RegionFrom2]\n",
    "                nextZoneflag1= Zoneflag1\n",
    "                nextZoneflag2= 1\n",
    "                nextRegionFrom1=RegionFrom1\n",
    "                nextRegionFrom2=1\n",
    "                nextCall1= Call1-1\n",
    "                nextCall2= Call2                \n",
    "            else\n",
    "                RegionService = μMatr[1,RegionFrom2]\n",
    "                nextZoneflag1= Zoneflag1\n",
    "                nextZoneflag2= 4\n",
    "                nextCall1= Call1-1\n",
    "                nextCall2= Call2\n",
    "                nextRegionFrom1=RegionFrom1\n",
    "                nextRegionFrom2=1\n",
    "            end \n",
    "        else \n",
    "                RegionService = μMatr[1,RegionFrom2]\n",
    "                nextZoneflag1= Zoneflag1\n",
    "                nextZoneflag2= 1\n",
    "                nextCall1= Call1-1\n",
    "                nextCall2= Call2  \n",
    "                nextRegionFrom1=RegionFrom1\n",
    "                nextRegionFrom2=1\n",
    "        end      \n",
    "    elseif Zoneflag2==4  \n",
    "          if Zoneflag1 == 3\n",
    "            if  Call2-1 >1\n",
    "                RegionService = μMatr[1,RegionFrom2]\n",
    "                nextZoneflag1= Zoneflag1\n",
    "                nextZoneflag2= 4\n",
    "                nextRegionFrom1=RegionFrom1\n",
    "                nextRegionFrom2=2\n",
    "                nextCall1= Call1\n",
    "                nextCall2= Call2-1\n",
    "            elseif Call2-1 == 1 && Call1-1 == 1\n",
    "                RegionService = μMatr[1,RegionFrom2]\n",
    "                nextZoneflag1= Zoneflag1\n",
    "                nextZoneflag2= 2\n",
    "                nextRegionFrom1=RegionFrom1\n",
    "                nextRegionFrom2=2\n",
    "                nextCall1= Call1\n",
    "                nextCall2= Call2-1               \n",
    "            else\n",
    "                RegionService = μMatr[1,RegionFrom2]\n",
    "                nextZoneflag1= Zoneflag1\n",
    "                nextZoneflag2= 3\n",
    "                nextCall1= Call1\n",
    "                nextCall2= Call2-1\n",
    "                nextRegionFrom1=RegionFrom1\n",
    "                nextRegionFrom2=2\n",
    "            end               \n",
    "        elseif Zoneflag1==4\n",
    "            if Call2-2 >1\n",
    "                RegionService = μMatr[1,RegionFrom2]\n",
    "                nextZoneflag1= Zoneflag1\n",
    "                nextZoneflag2= 4\n",
    "                nextRegionFrom1=RegionFrom1\n",
    "                nextRegionFrom2=2\n",
    "                nextCall1= Call1\n",
    "                nextCall2= Call2-1\n",
    "            elseif Call1 == 1 && Call2-2 ==1\n",
    "                RegionService = μMatr[1,RegionFrom2]\n",
    "                nextZoneflag1= Zoneflag1\n",
    "                nextZoneflag2= 2\n",
    "                nextRegionFrom1=RegionFrom1\n",
    "                nextRegionFrom2=2\n",
    "                nextCall1= Call1\n",
    "                nextCall2= Call2-1               \n",
    "            else\n",
    "                RegionService = μMatr[1,RegionFrom2]\n",
    "                nextZoneflag1= Zoneflag1\n",
    "                nextZoneflag2= 3\n",
    "                nextCall1= Call1\n",
    "                nextCall2= Call2-1\n",
    "                nextRegionFrom1=RegionFrom1\n",
    "                nextRegionFrom2=2\n",
    "            end \n",
    "        else \n",
    "                RegionService = μMatr[2,RegionFrom2]\n",
    "                nextZoneflag1= Zoneflag1\n",
    "                nextZoneflag2= 2\n",
    "                nextCall1= Call1\n",
    "                nextCall2= Call2-1     \n",
    "                nextRegionFrom1=RegionFrom1\n",
    "                nextRegionFrom2=2\n",
    "        end         \n",
    "    else\n",
    "    end        \n",
    "         idx= (sparti.==nextZoneflag1) .& (spartj.==nextZoneflag2) .& (spartk.==nextCall1) .&(spartl.==nextCall2).& (spartm.==nextRegionFrom1) .&(spartn.==nextRegionFrom2)\n",
    "         nexts= sidx[idx] \n",
    "         matrix[nexts,s]= matrix[nexts,s] .+ RegionService\n",
    "         matrix[s,s]= matrix[s,s].- RegionService  \n",
    "        μMat[s,1]= μMat[s,1] .+ RegionService    \n",
    "end\n",
    "matrix[length(sidx),:].= 1; #prep Ahat for matrix inversion\n",
    "inverse=inv(matrix); #invert Ahat matrix\n",
    "X=inverse[:,length(sidx)] #extract π from matrix\n",
    "A=sparti[1:length(sidx)] \n",
    "B=spartj[1:length(sidx)]\n",
    "C=spartk[1:length(sidx)]\n",
    "D=spartl[1:length(sidx)]\n",
    "E=spartm[1:length(sidx)]\n",
    "F=spartn[1:length(sidx)]\n",
    "M=hcat(sidx,A,B,C,D,E,F,X)     #create readable matrix for state, sparti,spartj,spartk,spartl and pi\n",
    "Throughput=(λst)*sum(M[λ1idx.==1,8])+(λst)*sum(M[λ2idx.==1,8])\n",
    "Gain=μMat'*X\n",
    "L=0\n",
    "for s in 1:length(sidx)\n",
    "  L=L+(C[s]+D[s]-2)*X[s]\n",
    "end\n",
    "LVar=0\n",
    "for s in 1:length(sidx)\n",
    "  LVar=LVar+(C[s]+D[s]-2)^2*X[s]\n",
    "end\n",
    "LVar=LVar-L^2\n",
    "W=L/Throughput \n",
    "Midx0= (spartk .+ spartl).==2\n",
    "ZeroCall=sum(M[Midx0.==1,8])\n",
    "Midx1= (spartk .+ spartl).==3\n",
    "OneCall=sum(M[Midx1.==1,8])\n",
    "Midx2= (spartk .+ spartl).==4\n",
    "TwoCall=sum(M[Midx2.==1,8])\n",
    "CR=ZeroCall+OneCall+TwoCall\n",
    "N=[N; λst μ1 μ2 Throughput Gain L LVar W ZeroCall OneCall TwoCall CR]\n",
    "        \n",
    "end\n",
    "end"
   ]
  },
  {
   "cell_type": "code",
   "execution_count": 9,
   "id": "3704687e-41c0-4c4f-b095-33fe6b968c75",
   "metadata": {},
   "outputs": [
    {
     "data": {
      "text/plain": [
       "9×12 Matrix{Any}:\n",
       "  \"λ\"   \"μ1\"   \"μ2\"   \"Throughput\"   \"Deliveries/Hour\"  …   \"Compliance Rate\"\n",
       " 0.5   2.5    2.25   1.0            1.0                    0.984842\n",
       " 0.5   2.25   2.025  1.0            1.0                    0.97956\n",
       " 0.5   2.0    1.8    1.0            1.0                    0.971506\n",
       " 0.5   1.75   1.575  1.0            1.0                    0.958591\n",
       " 0.5   1.5    1.35   0.999999       0.999999            …  0.936503\n",
       " 0.5   1.25   1.125  0.999995       0.999995               0.895365\n",
       " 0.5   1.0    0.9    0.999922       0.999922               0.809119\n",
       " 0.5   0.75   0.675  0.997755       0.997755               0.595619"
      ]
     },
     "execution_count": 9,
     "metadata": {},
     "output_type": "execute_result"
    }
   ],
   "source": [
    "N"
   ]
  },
  {
   "cell_type": "code",
   "execution_count": 10,
   "id": "57b2d286-e451-4eef-bb90-c5739b7d8ef1",
   "metadata": {},
   "outputs": [
    {
     "data": {
      "text/html": [
       "<div class=\"data-frame\"><p>8 rows × 12 columns (omitted printing of 2 columns)</p><table class=\"data-frame\"><thead><tr><th></th><th>x1</th><th>x2</th><th>x3</th><th>x4</th><th>x5</th><th>x6</th><th>x7</th><th>x8</th><th>x9</th><th>x10</th></tr><tr><th></th><th title=\"Any\">Any</th><th title=\"Any\">Any</th><th title=\"Any\">Any</th><th title=\"Any\">Any</th><th title=\"Any\">Any</th><th title=\"Any\">Any</th><th title=\"Any\">Any</th><th title=\"Any\">Any</th><th title=\"Any\">Any</th><th title=\"Any\">Any</th></tr></thead><tbody><tr><th>1</th><td>0.5</td><td>2.5</td><td>2.25</td><td>1.0</td><td>1.0</td><td>0.431842</td><td>0.476198</td><td>0.431842</td><td>0.659217</td><td>0.26894</td></tr><tr><th>2</th><td>0.5</td><td>2.25</td><td>2.025</td><td>1.0</td><td>1.0</td><td>0.486034</td><td>0.547386</td><td>0.486034</td><td>0.627855</td><td>0.284965</td></tr><tr><th>3</th><td>0.5</td><td>2.0</td><td>1.8</td><td>1.0</td><td>1.0</td><td>0.556539</td><td>0.645504</td><td>0.556539</td><td>0.590195</td><td>0.30179</td></tr><tr><th>4</th><td>0.5</td><td>1.75</td><td>1.575</td><td>1.0</td><td>1.0</td><td>0.652499</td><td>0.789967</td><td>0.652499</td><td>0.544148</td><td>0.318518</td></tr><tr><th>5</th><td>0.5</td><td>1.5</td><td>1.35</td><td>0.999999</td><td>0.999999</td><td>0.79191</td><td>1.02443</td><td>0.791911</td><td>0.486589</td><td>0.332929</td></tr><tr><th>6</th><td>0.5</td><td>1.25</td><td>1.125</td><td>0.999995</td><td>0.999995</td><td>1.01639</td><td>1.46892</td><td>1.01639</td><td>0.412637</td><td>0.339546</td></tr><tr><th>7</th><td>0.5</td><td>1.0</td><td>0.9</td><td>0.999922</td><td>0.999922</td><td>1.45128</td><td>2.57878</td><td>1.4514</td><td>0.314245</td><td>0.324054</td></tr><tr><th>8</th><td>0.5</td><td>0.75</td><td>0.675</td><td>0.997755</td><td>0.997755</td><td>2.70669</td><td>7.23668</td><td>2.71278</td><td>0.177903</td><td>0.245303</td></tr></tbody></table></div>"
      ],
      "text/latex": [
       "\\begin{tabular}{r|ccccccccccc}\n",
       "\t& x1 & x2 & x3 & x4 & x5 & x6 & x7 & x8 & x9 & x10 & \\\\\n",
       "\t\\hline\n",
       "\t& Any & Any & Any & Any & Any & Any & Any & Any & Any & Any & \\\\\n",
       "\t\\hline\n",
       "\t1 & 0.5 & 2.5 & 2.25 & 1.0 & 1.0 & 0.431842 & 0.476198 & 0.431842 & 0.659217 & 0.26894 & $\\dots$ \\\\\n",
       "\t2 & 0.5 & 2.25 & 2.025 & 1.0 & 1.0 & 0.486034 & 0.547386 & 0.486034 & 0.627855 & 0.284965 & $\\dots$ \\\\\n",
       "\t3 & 0.5 & 2.0 & 1.8 & 1.0 & 1.0 & 0.556539 & 0.645504 & 0.556539 & 0.590195 & 0.30179 & $\\dots$ \\\\\n",
       "\t4 & 0.5 & 1.75 & 1.575 & 1.0 & 1.0 & 0.652499 & 0.789967 & 0.652499 & 0.544148 & 0.318518 & $\\dots$ \\\\\n",
       "\t5 & 0.5 & 1.5 & 1.35 & 0.999999 & 0.999999 & 0.79191 & 1.02443 & 0.791911 & 0.486589 & 0.332929 & $\\dots$ \\\\\n",
       "\t6 & 0.5 & 1.25 & 1.125 & 0.999995 & 0.999995 & 1.01639 & 1.46892 & 1.01639 & 0.412637 & 0.339546 & $\\dots$ \\\\\n",
       "\t7 & 0.5 & 1.0 & 0.9 & 0.999922 & 0.999922 & 1.45128 & 2.57878 & 1.4514 & 0.314245 & 0.324054 & $\\dots$ \\\\\n",
       "\t8 & 0.5 & 0.75 & 0.675 & 0.997755 & 0.997755 & 2.70669 & 7.23668 & 2.71278 & 0.177903 & 0.245303 & $\\dots$ \\\\\n",
       "\\end{tabular}\n"
      ],
      "text/plain": [
       "\u001b[1m8×12 DataFrame\u001b[0m\n",
       "\u001b[1m Row \u001b[0m│\u001b[1m x1  \u001b[0m\u001b[1m x2   \u001b[0m\u001b[1m x3    \u001b[0m\u001b[1m x4       \u001b[0m\u001b[1m x5       \u001b[0m\u001b[1m x6       \u001b[0m\u001b[1m x7       \u001b[0m\u001b[1m x8       \u001b[0m\u001b[1m x9 \u001b[0m ⋯\n",
       "\u001b[1m     \u001b[0m│\u001b[90m Any \u001b[0m\u001b[90m Any  \u001b[0m\u001b[90m Any   \u001b[0m\u001b[90m Any      \u001b[0m\u001b[90m Any      \u001b[0m\u001b[90m Any      \u001b[0m\u001b[90m Any      \u001b[0m\u001b[90m Any      \u001b[0m\u001b[90m Any\u001b[0m ⋯\n",
       "─────┼──────────────────────────────────────────────────────────────────────────\n",
       "   1 │ 0.5  2.5   2.25   1.0       1.0       0.431842  0.476198  0.431842  0.6 ⋯\n",
       "   2 │ 0.5  2.25  2.025  1.0       1.0       0.486034  0.547386  0.486034  0.6\n",
       "   3 │ 0.5  2.0   1.8    1.0       1.0       0.556539  0.645504  0.556539  0.5\n",
       "   4 │ 0.5  1.75  1.575  1.0       1.0       0.652499  0.789967  0.652499  0.5\n",
       "   5 │ 0.5  1.5   1.35   0.999999  0.999999  0.79191   1.02443   0.791911  0.4 ⋯\n",
       "   6 │ 0.5  1.25  1.125  0.999995  0.999995  1.01639   1.46892   1.01639   0.4\n",
       "   7 │ 0.5  1.0   0.9    0.999922  0.999922  1.45128   2.57878   1.4514    0.3\n",
       "   8 │ 0.5  0.75  0.675  0.997755  0.997755  2.70669   7.23668   2.71278   0.1\n",
       "\u001b[36m                                                               4 columns omitted\u001b[0m"
      ]
     },
     "execution_count": 10,
     "metadata": {},
     "output_type": "execute_result"
    }
   ],
   "source": [
    "using DataFrames\n",
    "df= DataFrame(N[2:Int(length(N[:,1])),:], :auto)"
   ]
  },
  {
   "cell_type": "code",
   "execution_count": 11,
   "id": "6c6a2d79-379f-448a-8ca2-0d9deb896df7",
   "metadata": {
    "tags": []
   },
   "outputs": [
    {
     "data": {
      "text/plain": [
       "\"C:\\\\Users\\\\alexb\\\\Documents\\\\NCSU\\\\501\\\\Thesis\\\\FZ2AmbStats29MAR_1.csv\""
      ]
     },
     "execution_count": 11,
     "metadata": {},
     "output_type": "execute_result"
    }
   ],
   "source": [
    "using CSV\n",
    "CSV.write(\"C:\\\\Users\\\\alexb\\\\Documents\\\\NCSU\\\\501\\\\Thesis\\\\FZ2AmbStats29MAR_1.csv\",df)"
   ]
  },
  {
   "cell_type": "code",
   "execution_count": 120,
   "id": "c313f78e-4a29-438b-897e-f71441de3229",
   "metadata": {},
   "outputs": [
    {
     "data": {
      "text/plain": [
       "1640×1640 Matrix{Float64}:\n",
       " -1.0    0.0    0.0    0.0    0.0   0.0  …   0.0   0.0   0.0   0.0   0.0  0.0\n",
       "  0.0   -1.0    0.0    0.0    0.0   0.0      0.0   0.0   0.0   0.0   0.0  0.0\n",
       "  0.0    0.0   -1.0    0.0    0.0   0.0      0.0   0.0   0.0   0.0   0.0  0.0\n",
       "  0.0    0.0    0.0   -1.0    0.0   0.0      0.0   0.0   0.0   0.0   0.0  0.0\n",
       "  0.0    0.0    0.0    0.0   -1.0   0.0      0.0   0.0   0.0   0.0   0.0  0.0\n",
       "  0.0    0.0    0.0    0.0    0.0  -1.0  …   0.0   0.0   0.0   0.0   0.0  0.0\n",
       "  0.0    0.0    0.0    0.0    0.0   0.0      0.0   0.0   0.0   0.0   0.0  0.0\n",
       "  0.0    0.0    0.0    0.0    0.0   0.0      0.0   0.0   0.0   0.0   0.0  0.0\n",
       "  0.25   0.25   0.25   0.25   0.0   0.0      0.0   0.0   0.0   0.0   0.0  0.0\n",
       "  0.0    0.0    0.0    0.0    0.0   0.0      0.0   0.0   0.0   0.0   0.0  0.0\n",
       "  0.0    0.0    0.0    0.0    0.0   0.0  …   0.0   0.0   0.0   0.0   0.0  0.0\n",
       "  0.0    0.0    0.0    0.0    0.0   0.0      0.0   0.0   0.0   0.0   0.0  0.0\n",
       "  0.25   0.25   0.25   0.25   0.0   0.0      0.0   0.0   0.0   0.0   0.0  0.0\n",
       "  ⋮                                 ⋮    ⋱         ⋮                      \n",
       "  0.0    0.0    0.0    0.0    0.0   0.0      0.0   0.0   0.0   0.0   0.0  0.0\n",
       "  0.0    0.0    0.0    0.0    0.0   0.0      0.0   0.0   0.0   0.0   0.0  0.0\n",
       "  0.0    0.0    0.0    0.0    0.0   0.0  …   2.0   0.0   0.0   0.0   0.0  0.0\n",
       "  0.0    0.0    0.0    0.0    0.0   0.0      2.5   4.0   0.0   0.0   0.0  0.0\n",
       "  0.0    0.0    0.0    0.0    0.0   0.0      0.0   0.0   0.0   0.0   0.0  0.0\n",
       "  0.0    0.0    0.0    0.0    0.0   0.0      0.0   0.0   2.5   2.0   0.0  0.0\n",
       "  0.0    0.0    0.0    0.0    0.0   0.0     -5.0   0.0   2.5   0.0   2.0  0.0\n",
       "  0.0    0.0    0.0    0.0    0.0   0.0  …   0.0  -4.5   0.0   2.5   2.5  4.0\n",
       "  0.0    0.0    0.0    0.0    0.0   0.0      0.0   0.0  -5.0   0.0   0.0  0.0\n",
       "  0.0    0.0    0.0    0.0    0.0   0.0      0.0   0.0   0.0  -4.5   0.0  0.0\n",
       "  0.0    0.0    0.0    0.0    0.0   0.0      0.5   0.0   0.0   0.0  -4.5  0.0\n",
       "  1.0    1.0    1.0    1.0    1.0   1.0      1.0   1.0   1.0   1.0   1.0  1.0"
      ]
     },
     "execution_count": 120,
     "metadata": {},
     "output_type": "execute_result"
    }
   ],
   "source": [
    "matrix"
   ]
  },
  {
   "cell_type": "code",
   "execution_count": 121,
   "id": "8d8d5787-7583-4203-8c6e-2c4ed4185022",
   "metadata": {
    "tags": []
   },
   "outputs": [],
   "source": [
    "\n",
    "#sum(inverse[:,length(sidx)]) #validate that sum of π equals 1"
   ]
  },
  {
   "cell_type": "code",
   "execution_count": 122,
   "id": "6d797658-70da-468a-88f7-90f7072c68f7",
   "metadata": {
    "tags": []
   },
   "outputs": [
    {
     "data": {
      "text/plain": [
       "1640-element Vector{Float64}:\n",
       " 0.07194415966344991\n",
       " 0.0\n",
       " 0.0\n",
       " 0.0\n",
       " 1.119987102342691e-16\n",
       " 0.25197461849925734\n",
       " 0.0\n",
       " 0.0\n",
       " 0.009677434430780618\n",
       " 0.005889246877386696\n",
       " 0.0\n",
       " 0.0\n",
       " 0.008694500415185581\n",
       " ⋮\n",
       " 1.0312220307536476e-16\n",
       " 5.475284523639737e-15\n",
       " 5.475284523639728e-15\n",
       " 3.724381913983166e-13\n",
       " 2.1800305844140455e-17\n",
       " 1.2401152433639705e-15\n",
       " 1.2401152433639618e-15\n",
       " 8.565370634983083e-14\n",
       " 5.244324866254079e-18\n",
       " 2.7243050707297133e-16\n",
       " 2.7243050707297015e-16\n",
       " 1.684763439868675e-14"
      ]
     },
     "execution_count": 122,
     "metadata": {},
     "output_type": "execute_result"
    }
   ],
   "source": []
  },
  {
   "cell_type": "code",
   "execution_count": 123,
   "id": "cbb8cccb-ac4b-4d61-b33f-43fc8d938928",
   "metadata": {},
   "outputs": [
    {
     "data": {
      "text/plain": [
       "0.9999999945000003"
      ]
     },
     "execution_count": 123,
     "metadata": {},
     "output_type": "execute_result"
    }
   ],
   "source": [
    "X=round.(X,digits=10); #round to 10 digits\n",
    "sum(X)"
   ]
  },
  {
   "cell_type": "code",
   "execution_count": 124,
   "id": "5cf1e488-063e-4c30-993c-1d811ff0915a",
   "metadata": {
    "tags": []
   },
   "outputs": [
    {
     "data": {
      "text/plain": [
       "1640×8 Matrix{Any}:\n",
       "    1  1  1   1   1  1  1  0.0719442\n",
       "    2  1  1   1   1  1  2  0.0\n",
       "    3  1  1   1   1  2  1  0.0\n",
       "    4  1  1   1   1  2  2  0.0\n",
       "    5  1  2   1   1  1  1  0.0\n",
       "    6  1  2   1   1  1  2  0.251975\n",
       "    7  1  2   1   1  2  1  0.0\n",
       "    8  1  2   1   1  2  2  0.0\n",
       "    9  1  3   2   1  1  1  0.00967743\n",
       "   10  1  3   2   1  1  2  0.00588925\n",
       "   11  1  3   2   1  2  1  0.0\n",
       "   12  1  3   2   1  2  2  0.0\n",
       "   13  1  4   1   2  1  1  0.0086945\n",
       "    ⋮                ⋮     \n",
       " 1629  4  4  11   9  1  1  0.0\n",
       " 1630  4  4  11   9  1  2  0.0\n",
       " 1631  4  4  11   9  2  1  0.0\n",
       " 1632  4  4  11   9  2  2  0.0\n",
       " 1633  4  4  11  10  1  1  0.0\n",
       " 1634  4  4  11  10  1  2  0.0\n",
       " 1635  4  4  11  10  2  1  0.0\n",
       " 1636  4  4  11  10  2  2  0.0\n",
       " 1637  4  4  11  11  1  1  0.0\n",
       " 1638  4  4  11  11  1  2  0.0\n",
       " 1639  4  4  11  11  2  1  0.0\n",
       " 1640  4  4  11  11  2  2  0.0"
      ]
     },
     "execution_count": 124,
     "metadata": {},
     "output_type": "execute_result"
    }
   ],
   "source": []
  },
  {
   "cell_type": "code",
   "execution_count": 125,
   "id": "a010b7d9-48c8-4d71-bfdb-12eb2372d693",
   "metadata": {},
   "outputs": [
    {
     "data": {
      "text/plain": [
       "0.6501417239"
      ]
     },
     "execution_count": 125,
     "metadata": {},
     "output_type": "execute_result"
    }
   ],
   "source": [
    "#Percentage of time with zero calls\n"
   ]
  },
  {
   "cell_type": "code",
   "execution_count": 129,
   "id": "bd7bec83-eb26-42cf-b386-10a3ee10d671",
   "metadata": {},
   "outputs": [
    {
     "data": {
      "text/plain": [
       "0.0"
      ]
     },
     "execution_count": 129,
     "metadata": {},
     "output_type": "execute_result"
    }
   ],
   "source": [
    "#Percentage of time with 1 call\n",
    "Midx1= (spartk .+ spartl).==20\n",
    "sum(M[Midx1.==1,8])"
   ]
  },
  {
   "cell_type": "code",
   "execution_count": 101,
   "id": "07999485-b8cf-4dc9-a423-eb6199b626fc",
   "metadata": {},
   "outputs": [
    {
     "data": {
      "text/plain": [
       "0.0310463079"
      ]
     },
     "execution_count": 101,
     "metadata": {},
     "output_type": "execute_result"
    }
   ],
   "source": [
    "#Percentage of time with 2 calls \n",
    "Midx2= (spartj .+ spartk .+ spartl).==5\n",
    "sum(M[Midx2.==1,6])"
   ]
  },
  {
   "cell_type": "code",
   "execution_count": 102,
   "id": "0158ab25-6e32-4db5-acee-4fecc1042c97",
   "metadata": {},
   "outputs": [
    {
     "data": {
      "text/plain": [
       "0.0542819014"
      ]
     },
     "execution_count": 102,
     "metadata": {},
     "output_type": "execute_result"
    }
   ],
   "source": [
    "#Percentage of time with 3 calls\n",
    "Midx3= (spartj .+ spartk .+ spartl).==6\n",
    "sum(M[Midx3.==1,6])"
   ]
  },
  {
   "cell_type": "code",
   "execution_count": 103,
   "id": "4f1214c5-1942-435c-9db8-e83863901694",
   "metadata": {},
   "outputs": [
    {
     "data": {
      "text/plain": [
       "0.07935388210000001"
      ]
     },
     "execution_count": 103,
     "metadata": {},
     "output_type": "execute_result"
    }
   ],
   "source": [
    "#Percentage of time with 4 calls \n",
    "Midx4= (spartj .+ spartk .+ spartl).==7\n",
    "sum(M[Midx4.==1,6])"
   ]
  },
  {
   "cell_type": "code",
   "execution_count": 104,
   "id": "b6fb8993-20f6-4205-901b-604efecf31a1",
   "metadata": {
    "tags": []
   },
   "outputs": [
    {
     "data": {
      "text/plain": [
       "0.1268390758"
      ]
     },
     "execution_count": 104,
     "metadata": {},
     "output_type": "execute_result"
    }
   ],
   "source": [
    "#Percentage of time with 5 calls \n",
    "Midx5= (spartj .+ spartk .+ spartl).==8\n",
    "sum(M[Midx5.==1,6])"
   ]
  },
  {
   "cell_type": "code",
   "execution_count": 105,
   "id": "3d990d06-743e-46fe-b8f1-02bf9c97ab4c",
   "metadata": {},
   "outputs": [
    {
     "data": {
      "text/plain": [
       "0.17168729919999998"
      ]
     },
     "execution_count": 105,
     "metadata": {},
     "output_type": "execute_result"
    }
   ],
   "source": [
    "#Percentage of time with 6 calls \n",
    "Midx5= (spartj .+ spartk .+ spartl).==9\n",
    "sum(M[Midx5.==1,6])"
   ]
  },
  {
   "cell_type": "code",
   "execution_count": 106,
   "id": "e9b19a6a-57bd-4279-9608-727a737b7df3",
   "metadata": {},
   "outputs": [
    {
     "data": {
      "text/plain": [
       "0.18873403219999998"
      ]
     },
     "execution_count": 106,
     "metadata": {},
     "output_type": "execute_result"
    }
   ],
   "source": [
    "#Percentage of time with 7 calls \n",
    "Midx5= (spartj .+ spartk .+ spartl).==10\n",
    "sum(M[Midx5.==1,6])"
   ]
  },
  {
   "cell_type": "code",
   "execution_count": 110,
   "id": "ca0a5473-6f57-472f-a6ca-63dea97b28a1",
   "metadata": {},
   "outputs": [
    {
     "data": {
      "text/plain": [
       "0.1273207536"
      ]
     },
     "execution_count": 110,
     "metadata": {},
     "output_type": "execute_result"
    }
   ],
   "source": [
    "#Percentage of time with max calls\n",
    "MidxMax= (spartj .+ spartk.+ spartl).==(max1demand+max2demand+max3demand)\n",
    "MaxInSys=sum(M[MidxMax.==1,6])"
   ]
  },
  {
   "cell_type": "code",
   "execution_count": 108,
   "id": "2d942320-498c-4481-80d7-8abf582f42d2",
   "metadata": {},
   "outputs": [],
   "source": [
    "#Midxw1Full= ((spartj .+ spartk).<=7).&(spartj.==max1demand)\n",
    "#Midxw2Full= ((spartj .+ spartk).<=7).&(spartk.==max2demand);\n"
   ]
  },
  {
   "cell_type": "code",
   "execution_count": 282,
   "id": "93300320-ec8b-40b8-b3e6-7881c050a755",
   "metadata": {},
   "outputs": [
    {
     "data": {
      "text/plain": [
       "1.0544847926"
      ]
     },
     "execution_count": 282,
     "metadata": {},
     "output_type": "execute_result"
    }
   ],
   "source": [
    "#Define total throughput\n",
    "#Throughput=((λ1+λ2)*MaxInSys+λ1*sum(M[Midxw2Full.==1,5])+λ2*sum(M[Midxw1Full.==1,5])) ###THIS IS WRONG\n",
    "Throughput=(μ1Same)*sum(M[μ1idx.==1,6])+(μ1Diff)*sum(M[μ1idx.==2,6])+(μ2Same)*sum(M[μ2idx.==1,6])+(μ2Diff)*sum(M[μ2idx.==2,6]) ## This is somehow wrong- ask Dr. King\n"
   ]
  },
  {
   "cell_type": "code",
   "execution_count": 109,
   "id": "afbf70ed-8b89-458f-b371-8a819fcfc3bc",
   "metadata": {},
   "outputs": [
    {
     "data": {
      "text/plain": [
       "0.9999999793000001"
      ]
     },
     "execution_count": 109,
     "metadata": {},
     "output_type": "execute_result"
    }
   ],
   "source": [
    "Throughput=(λst)*sum(M[λ1idx.==1,8])+(λst)*sum(M[λ2idx.==1,8])"
   ]
  },
  {
   "cell_type": "code",
   "execution_count": 110,
   "id": "85f7354b-b7e7-4df4-90ae-b99edc4d4973",
   "metadata": {},
   "outputs": [
    {
     "data": {
      "text/plain": [
       "1-element Vector{Float64}:\n",
       " 0.9999999711"
      ]
     },
     "execution_count": 110,
     "metadata": {},
     "output_type": "execute_result"
    }
   ],
   "source": [
    "Gain=μMat'*X"
   ]
  },
  {
   "cell_type": "code",
   "execution_count": 233,
   "id": "08754647-0174-4bac-8ee3-b80c3981ff62",
   "metadata": {},
   "outputs": [
    {
     "data": {
      "text/plain": [
       "0.08380061535"
      ]
     },
     "execution_count": 233,
     "metadata": {},
     "output_type": "execute_result"
    }
   ],
   "source": [
    "(μ2Diff)*sum(M[μ2idx.==2,6])"
   ]
  }
 ],
 "metadata": {
  "kernelspec": {
   "display_name": "Julia 1.6.2",
   "language": "julia",
   "name": "julia-1.6"
  },
  "language_info": {
   "file_extension": ".jl",
   "mimetype": "application/julia",
   "name": "julia",
   "version": "1.6.2"
  }
 },
 "nbformat": 4,
 "nbformat_minor": 5
}
